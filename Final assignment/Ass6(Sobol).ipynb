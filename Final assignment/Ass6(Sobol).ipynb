{
 "cells": [
  {
   "cell_type": "markdown",
   "source": [
    "### Sensitivity analysis --> Sobol \n",
    "Defining parameters to vary and find variance on parameters outcome --> damage important to all actors\n",
    "Finding variance that explains that damage is highest in other scenarios --> RfR & damage is low --> dike heightening "
   ],
   "metadata": {
    "collapsed": false
   },
   "id": "f2585c40ca2d6b01"
  },
  {
   "cell_type": "code",
   "execution_count": 5,
   "id": "initial_id",
   "metadata": {
    "collapsed": true,
    "ExecuteTime": {
     "end_time": "2024-06-04T14:01:49.062016700Z",
     "start_time": "2024-06-04T14:01:49.055937300Z"
    }
   },
   "outputs": [],
   "source": [
    "## Importing all functions\n",
    "\n",
    "%matplotlib inline\n",
    "import numpy as np\n",
    "import pandas as pd\n",
    "\n",
    "import matplotlib.pyplot as plt\n",
    "import seaborn as sns\n",
    "sns.set_style('white')\n",
    "\n",
    "from ema_workbench import (Model, \n",
    "                           RealParameter,\n",
    "                           CategoricalParameter,\n",
    "                            ArrayOutcome,\n",
    "                            ScalarOutcome,\n",
    "                            IntegerParameter,\n",
    "                           TimeSeriesOutcome,\n",
    "                           perform_experiments, \n",
    "                           ema_logging,\n",
    "                           Policy,\n",
    "                           Samplers)\n",
    "\n",
    "from ema_workbench.analysis import feature_scoring\n",
    "from ema_workbench.analysis.scenario_discovery_util import RuleInductionType\n",
    "from ema_workbench.em_framework.salib_samplers import get_SALib_problem\n",
    "\n",
    "from ema_workbench.analysis.scenario_discovery_util import RuleInductionType\n",
    "\n",
    "from ema_workbench.util import ema_logging\n",
    "\n",
    "from dike_model_function import DikeNetwork\n",
    "\n",
    "# exp, out = evaluator.perform_experiments(...,uncertainty_sampling=Samplers.SOBOL)\n",
    "\n",
    "from SALib.analyze import sobol\n",
    "\n",
    "# ema_logging.log_to_stdder(ema_logging.INFO)"
   ]
  },
  {
   "cell_type": "code",
   "execution_count": 11,
   "outputs": [
    {
     "name": "stdout",
     "output_type": "stream",
     "text": [
      "{'num_vars': 19, 'names': ['A.0_ID flood wave shape', 'A.1_Bmax', 'A.1_Brate', 'A.1_pfail', 'A.2_Bmax', 'A.2_Brate', 'A.2_pfail', 'A.3_Bmax', 'A.3_Brate', 'A.3_pfail', 'A.4_Bmax', 'A.4_Brate', 'A.4_pfail', 'A.5_Bmax', 'A.5_Brate', 'A.5_pfail', 'discount rate 0', 'discount rate 1', 'discount rate 2'], 'bounds': [(0, 133), (30, 350), (0, 3), (0, 1), (30, 350), (0, 3), (0, 1), (30, 350), (0, 3), (0, 1), (30, 350), (0, 3), (0, 1), (30, 350), (0, 3), (0, 1), (0, 4), (0, 4), (0, 4)]}\n"
     ]
    }
   ],
   "source": [
    "\n",
    "# Define the sum_over function\n",
    "def sum_over(*args):\n",
    "    numbers = []\n",
    "    for entry in args:\n",
    "        try:\n",
    "            value = sum(entry)\n",
    "        except TypeError:\n",
    "            value = entry\n",
    "        numbers.append(value)\n",
    "    return sum(numbers)\n",
    "\n",
    "# Configure logging\n",
    "ema_logging.log_to_stderr(ema_logging.INFO)\n",
    "\n",
    "# Define the function to get the model for the given problem formulation\n",
    "def get_model_for_problem_formulation(problem_formulation_id):\n",
    "    function = DikeNetwork()\n",
    "    dike_model = Model(\"dikesnet\", function=function)\n",
    "\n",
    "    Real_uncert = {\"Bmax\": [30, 350], \"pfail\": [0, 1]}  # m and [.]\n",
    "    cat_uncert_loc = {\"Brate\": (1.0, 1.5, 10)}\n",
    "    cat_uncert = {f\"discount rate {n}\": (1.5, 2.5, 3.5, 4.5) for n in function.planning_steps}\n",
    "    Int_uncert = {\"A.0_ID flood wave shape\": [0, 132]}\n",
    "\n",
    "    uncertainties = []\n",
    "\n",
    "    for uncert_name in cat_uncert.keys():\n",
    "        categories = cat_uncert[uncert_name]\n",
    "        uncertainties.append(CategoricalParameter(uncert_name, categories))\n",
    "\n",
    "    for uncert_name in Int_uncert.keys():\n",
    "        uncertainties.append(IntegerParameter(uncert_name, Int_uncert[uncert_name][0], Int_uncert[uncert_name][1]))\n",
    "\n",
    "    for dike in function.dikelist:\n",
    "        for uncert_name in Real_uncert.keys():\n",
    "            name = f\"{dike}_{uncert_name}\"\n",
    "            lower, upper = Real_uncert[uncert_name]\n",
    "            uncertainties.append(RealParameter(name, lower, upper))\n",
    "\n",
    "        for uncert_name in cat_uncert_loc.keys():\n",
    "            name = f\"{dike}_{uncert_name}\"\n",
    "            categories = cat_uncert_loc[uncert_name]\n",
    "            uncertainties.append(CategoricalParameter(name, categories))\n",
    "            \n",
    "    dike_model.uncertainties = uncertainties\n",
    "\n",
    "    # Set levers: No RfR, dike heightening\n",
    "    levers = [IntegerParameter(f\"raise {i}\", 1, 10) for i in range(1, 6)]\n",
    "    dike_model.levers = levers\n",
    "\n",
    "    # Define the outcomes\n",
    "    outcomes = [\n",
    "        ScalarOutcome('Total Costs', kind=ScalarOutcome.MINIMIZE, function=sum_over, variable_name=[\n",
    "            f\"{dike}_Expected Annual Damage\" for dike in function.dikelist] +\n",
    "            [f\"{dike}_Dike Investment Costs\" for dike in function.dikelist] +\n",
    "            [\"RfR Total Costs\"] \n",
    "        ),\n",
    "        ScalarOutcome('Expected Number of Deaths', kind=ScalarOutcome.MINIMIZE, function=sum_over, variable_name=[\n",
    "            f\"{dike}_Expected Number of Deaths\" for dike in function.dikelist]\n",
    "        )\n",
    "    ]\n",
    "    \n",
    "    dike_model.outcomes = outcomes\n",
    "    \n",
    "    return dike_model\n",
    "\n",
    "# Get the model for a specific problem formulation\n",
    "problem_formulation_id = 6  # Change this to the desired problem formulation\n",
    "dike_model = get_model_for_problem_formulation(problem_formulation_id)\n",
    "\n",
    "# Get SALib problem\n",
    "problem = get_SALib_problem(dike_model.uncertainties)\n",
    "\n",
    "# Print the problem definition\n",
    "print(problem)\n"
   ],
   "metadata": {
    "collapsed": false,
    "ExecuteTime": {
     "end_time": "2024-06-04T14:05:58.409022400Z",
     "start_time": "2024-06-04T14:05:58.219833500Z"
    }
   },
   "id": "323e83e265fb2b55"
  },
  {
   "cell_type": "code",
   "outputs": [
    {
     "name": "stdout",
     "output_type": "stream",
     "text": [
      "Error during perform_experiments: 'str' object has no attribute 'value'\n",
      "Experiments structure:\n"
     ]
    },
    {
     "ename": "NameError",
     "evalue": "name 'experiments_sobol' is not defined",
     "output_type": "error",
     "traceback": [
      "\u001B[1;31m---------------------------------------------------------------------------\u001B[0m",
      "\u001B[1;31mNameError\u001B[0m                                 Traceback (most recent call last)",
      "Cell \u001B[1;32mIn[13], line 12\u001B[0m\n\u001B[0;32m     10\u001B[0m \u001B[38;5;66;03m# Debugging output\u001B[39;00m\n\u001B[0;32m     11\u001B[0m \u001B[38;5;28mprint\u001B[39m(\u001B[38;5;124m\"\u001B[39m\u001B[38;5;124mExperiments structure:\u001B[39m\u001B[38;5;124m\"\u001B[39m)\n\u001B[1;32m---> 12\u001B[0m \u001B[38;5;28mprint\u001B[39m(\u001B[43mexperiments_sobol\u001B[49m\u001B[38;5;241m.\u001B[39mhead())\n\u001B[0;32m     14\u001B[0m \u001B[38;5;28mprint\u001B[39m(\u001B[38;5;124m\"\u001B[39m\u001B[38;5;124mOutcomes keys:\u001B[39m\u001B[38;5;124m\"\u001B[39m)\n\u001B[0;32m     15\u001B[0m \u001B[38;5;28mprint\u001B[39m(outcomes_sobol\u001B[38;5;241m.\u001B[39mkeys())\n",
      "\u001B[1;31mNameError\u001B[0m: name 'experiments_sobol' is not defined"
     ]
    }
   ],
   "source": [
    "\n",
    "# Perform Sobol experiments with debugging\n",
    "n_exp = 1000\n",
    "\n",
    "try:\n",
    "    experiments_sobol, outcomes_sobol = perform_experiments(dike_model, scenarios=n_exp, uncertainty_sampling='sobol')\n",
    "    print(\"Experiments and outcomes obtained successfully\")\n",
    "except Exception as e:\n",
    "    print(f\"Error during perform_experiments: {e}\")\n",
    "\n",
    "# Debugging output\n",
    "print(\"Experiments structure:\")\n",
    "print(experiments_sobol.head())\n",
    "\n",
    "print(\"Outcomes keys:\")\n",
    "print(outcomes_sobol.keys())\n",
    "\n",
    "# Analyze the results using Sobol\n",
    "try:\n",
    "    dike_final_sobol = outcomes_sobol['Total Costs'][:, 0, -1]\n",
    "    dike_mean_sobol = np.mean(outcomes_sobol['Total Costs'][:, 0, :], axis=1)\n",
    "    dike_std_sobol = np.std(outcomes_sobol['Total Costs'][:, 0, :], axis=1)\n",
    "\n",
    "    Si = sobol.analyze(problem, dike_mean_sobol, calc_second_order=True, print_to_console=True)\n",
    "    print(\"Sobol analysis completed successfully\")\n",
    "except Exception as e:\n",
    "    print(f\"Error during Sobol analysis: {e}\")"
   ],
   "metadata": {
    "collapsed": false,
    "ExecuteTime": {
     "end_time": "2024-06-04T14:08:56.250244600Z",
     "start_time": "2024-06-04T14:08:56.216043500Z"
    }
   },
   "id": "d45a1cc16d258222",
   "execution_count": 13
  },
  {
   "cell_type": "code",
   "execution_count": 12,
   "outputs": [
    {
     "name": "stderr",
     "output_type": "stream",
     "text": [
      "C:\\Users\\anna\\anaconda3\\Lib\\site-packages\\scipy\\stats\\_qmc.py:804: UserWarning: The balance properties of Sobol' points require n to be a power of 2.\n",
      "  sample = self._random(n, workers=workers)\n",
      "[MainProcess/INFO] performing 40000 scenarios * 6 policies * 1 model(s) = 240000 experiments\n",
      "\n",
      "  0%|                                               | 0/240000 [00:00<?, ?it/s]\u001B[A[MainProcess/INFO] performing experiments sequentially\n",
      "  0%|                                                   | 0/40 [03:52<?, ?it/s]\n",
      "[MainProcess/ERROR] not enough values to unpack (expected 2, got 1)\n",
      "Traceback (most recent call last):\n",
      "  File \"C:\\Users\\anna\\anaconda3\\Lib\\site-packages\\ema_workbench\\em_framework\\experiment_runner.py\", line 92, in run_experiment\n",
      "    model.run_model(scenario, policy)\n",
      "  File \"C:\\Users\\anna\\anaconda3\\Lib\\site-packages\\ema_workbench\\util\\ema_logging.py\", line 153, in wrapper\n",
      "    res = func(*args, **kwargs)\n",
      "          ^^^^^^^^^^^^^^^^^^^^^\n",
      "  File \"C:\\Users\\anna\\anaconda3\\Lib\\site-packages\\ema_workbench\\em_framework\\model.py\", line 347, in run_model\n",
      "    outputs = self.run_experiment(experiment)\n",
      "              ^^^^^^^^^^^^^^^^^^^^^^^^^^^^^^^\n",
      "  File \"C:\\Users\\anna\\anaconda3\\Lib\\site-packages\\ema_workbench\\util\\ema_logging.py\", line 153, in wrapper\n",
      "    res = func(*args, **kwargs)\n",
      "          ^^^^^^^^^^^^^^^^^^^^^\n",
      "  File \"C:\\Users\\anna\\anaconda3\\Lib\\site-packages\\ema_workbench\\em_framework\\model.py\", line 400, in run_experiment\n",
      "    model_output = self.function(**experiment)\n",
      "                   ^^^^^^^^^^^^^^^^^^^^^^^^^^^\n",
      "  File \"C:\\Users\\anna\\PycharmProjects\\EPA141A\\Final assignment\\dike_model_function.py\", line 141, in __call__\n",
      "    string1, string2 = item.split(\"_\")\n",
      "    ^^^^^^^^^^^^^^^^\n",
      "ValueError: not enough values to unpack (expected 2, got 1)\n"
     ]
    },
    {
     "ename": "EMAError",
     "evalue": "Exception in run_model\nCaused by: ValueError: not enough values to unpack (expected 2, got 1)",
     "output_type": "error",
     "traceback": [
      "\u001B[1;31m---------------------------------------------------------------------------\u001B[0m",
      "\u001B[1;31mValueError\u001B[0m                                Traceback (most recent call last)",
      "File \u001B[1;32m~\\anaconda3\\Lib\\site-packages\\ema_workbench\\em_framework\\experiment_runner.py:92\u001B[0m, in \u001B[0;36mExperimentRunner.run_experiment\u001B[1;34m(self, experiment)\u001B[0m\n\u001B[0;32m     91\u001B[0m \u001B[38;5;28;01mtry\u001B[39;00m:\n\u001B[1;32m---> 92\u001B[0m     \u001B[43mmodel\u001B[49m\u001B[38;5;241;43m.\u001B[39;49m\u001B[43mrun_model\u001B[49m\u001B[43m(\u001B[49m\u001B[43mscenario\u001B[49m\u001B[43m,\u001B[49m\u001B[43m \u001B[49m\u001B[43mpolicy\u001B[49m\u001B[43m)\u001B[49m\n\u001B[0;32m     93\u001B[0m \u001B[38;5;28;01mexcept\u001B[39;00m CaseError \u001B[38;5;28;01mas\u001B[39;00m e:\n",
      "File \u001B[1;32m~\\anaconda3\\Lib\\site-packages\\ema_workbench\\util\\ema_logging.py:153\u001B[0m, in \u001B[0;36mmethod_logger.<locals>.real_decorator.<locals>.wrapper\u001B[1;34m(*args, **kwargs)\u001B[0m\n\u001B[0;32m    152\u001B[0m logger\u001B[38;5;241m.\u001B[39mdebug(\u001B[38;5;124mf\u001B[39m\u001B[38;5;124m\"\u001B[39m\u001B[38;5;124mcalling \u001B[39m\u001B[38;5;132;01m{\u001B[39;00mfunc\u001B[38;5;241m.\u001B[39m\u001B[38;5;18m__name__\u001B[39m\u001B[38;5;132;01m}\u001B[39;00m\u001B[38;5;124m on \u001B[39m\u001B[38;5;132;01m{\u001B[39;00mclassname\u001B[38;5;132;01m}\u001B[39;00m\u001B[38;5;124m\"\u001B[39m)\n\u001B[1;32m--> 153\u001B[0m res \u001B[38;5;241m=\u001B[39m \u001B[43mfunc\u001B[49m\u001B[43m(\u001B[49m\u001B[38;5;241;43m*\u001B[39;49m\u001B[43margs\u001B[49m\u001B[43m,\u001B[49m\u001B[43m \u001B[49m\u001B[38;5;241;43m*\u001B[39;49m\u001B[38;5;241;43m*\u001B[39;49m\u001B[43mkwargs\u001B[49m\u001B[43m)\u001B[49m\n\u001B[0;32m    154\u001B[0m logger\u001B[38;5;241m.\u001B[39mdebug(\u001B[38;5;124mf\u001B[39m\u001B[38;5;124m\"\u001B[39m\u001B[38;5;124mcompleted calling \u001B[39m\u001B[38;5;132;01m{\u001B[39;00mfunc\u001B[38;5;241m.\u001B[39m\u001B[38;5;18m__name__\u001B[39m\u001B[38;5;132;01m}\u001B[39;00m\u001B[38;5;124m on \u001B[39m\u001B[38;5;132;01m{\u001B[39;00mclassname\u001B[38;5;132;01m}\u001B[39;00m\u001B[38;5;124m\"\u001B[39m)\n",
      "File \u001B[1;32m~\\anaconda3\\Lib\\site-packages\\ema_workbench\\em_framework\\model.py:347\u001B[0m, in \u001B[0;36mSingleReplication.run_model\u001B[1;34m(self, scenario, policy)\u001B[0m\n\u001B[0;32m    345\u001B[0m experiment \u001B[38;5;241m=\u001B[39m ExperimentReplication(scenario, \u001B[38;5;28mself\u001B[39m\u001B[38;5;241m.\u001B[39mpolicy, constants)\n\u001B[1;32m--> 347\u001B[0m outputs \u001B[38;5;241m=\u001B[39m \u001B[38;5;28;43mself\u001B[39;49m\u001B[38;5;241;43m.\u001B[39;49m\u001B[43mrun_experiment\u001B[49m\u001B[43m(\u001B[49m\u001B[43mexperiment\u001B[49m\u001B[43m)\u001B[49m\n\u001B[0;32m    349\u001B[0m \u001B[38;5;28mself\u001B[39m\u001B[38;5;241m.\u001B[39moutcomes_output \u001B[38;5;241m=\u001B[39m outputs\n",
      "File \u001B[1;32m~\\anaconda3\\Lib\\site-packages\\ema_workbench\\util\\ema_logging.py:153\u001B[0m, in \u001B[0;36mmethod_logger.<locals>.real_decorator.<locals>.wrapper\u001B[1;34m(*args, **kwargs)\u001B[0m\n\u001B[0;32m    152\u001B[0m logger\u001B[38;5;241m.\u001B[39mdebug(\u001B[38;5;124mf\u001B[39m\u001B[38;5;124m\"\u001B[39m\u001B[38;5;124mcalling \u001B[39m\u001B[38;5;132;01m{\u001B[39;00mfunc\u001B[38;5;241m.\u001B[39m\u001B[38;5;18m__name__\u001B[39m\u001B[38;5;132;01m}\u001B[39;00m\u001B[38;5;124m on \u001B[39m\u001B[38;5;132;01m{\u001B[39;00mclassname\u001B[38;5;132;01m}\u001B[39;00m\u001B[38;5;124m\"\u001B[39m)\n\u001B[1;32m--> 153\u001B[0m res \u001B[38;5;241m=\u001B[39m \u001B[43mfunc\u001B[49m\u001B[43m(\u001B[49m\u001B[38;5;241;43m*\u001B[39;49m\u001B[43margs\u001B[49m\u001B[43m,\u001B[49m\u001B[43m \u001B[49m\u001B[38;5;241;43m*\u001B[39;49m\u001B[38;5;241;43m*\u001B[39;49m\u001B[43mkwargs\u001B[49m\u001B[43m)\u001B[49m\n\u001B[0;32m    154\u001B[0m logger\u001B[38;5;241m.\u001B[39mdebug(\u001B[38;5;124mf\u001B[39m\u001B[38;5;124m\"\u001B[39m\u001B[38;5;124mcompleted calling \u001B[39m\u001B[38;5;132;01m{\u001B[39;00mfunc\u001B[38;5;241m.\u001B[39m\u001B[38;5;18m__name__\u001B[39m\u001B[38;5;132;01m}\u001B[39;00m\u001B[38;5;124m on \u001B[39m\u001B[38;5;132;01m{\u001B[39;00mclassname\u001B[38;5;132;01m}\u001B[39;00m\u001B[38;5;124m\"\u001B[39m)\n",
      "File \u001B[1;32m~\\anaconda3\\Lib\\site-packages\\ema_workbench\\em_framework\\model.py:400\u001B[0m, in \u001B[0;36mBaseModel.run_experiment\u001B[1;34m(self, experiment)\u001B[0m\n\u001B[0;32m    393\u001B[0m \u001B[38;5;250m\u001B[39m\u001B[38;5;124;03m\"\"\"Method for running an instantiated model structure.\u001B[39;00m\n\u001B[0;32m    394\u001B[0m \n\u001B[0;32m    395\u001B[0m \u001B[38;5;124;03mParameters\u001B[39;00m\n\u001B[1;32m   (...)\u001B[0m\n\u001B[0;32m    398\u001B[0m \n\u001B[0;32m    399\u001B[0m \u001B[38;5;124;03m\"\"\"\u001B[39;00m\n\u001B[1;32m--> 400\u001B[0m model_output \u001B[38;5;241m=\u001B[39m \u001B[38;5;28;43mself\u001B[39;49m\u001B[38;5;241;43m.\u001B[39;49m\u001B[43mfunction\u001B[49m\u001B[43m(\u001B[49m\u001B[38;5;241;43m*\u001B[39;49m\u001B[38;5;241;43m*\u001B[39;49m\u001B[43mexperiment\u001B[49m\u001B[43m)\u001B[49m\n\u001B[0;32m    402\u001B[0m \u001B[38;5;66;03m# TODO: might it be possible to somehow abstract this\u001B[39;00m\n\u001B[0;32m    403\u001B[0m \u001B[38;5;66;03m# perhaps expose a get_data on modelInterface?\u001B[39;00m\n\u001B[0;32m    404\u001B[0m \u001B[38;5;66;03m# different connectors can than implement only this\u001B[39;00m\n\u001B[0;32m    405\u001B[0m \u001B[38;5;66;03m# get method\u001B[39;00m\n",
      "File \u001B[1;32m~\\PycharmProjects\\EPA141A\\Final assignment\\dike_model_function.py:141\u001B[0m, in \u001B[0;36mDikeNetwork.__call__\u001B[1;34m(self, timestep, **kwargs)\u001B[0m\n\u001B[0;32m    139\u001B[0m \u001B[38;5;66;03m# the rest of the times you always get a string like {}_{}:\u001B[39;00m\n\u001B[0;32m    140\u001B[0m \u001B[38;5;28;01melse\u001B[39;00m:\n\u001B[1;32m--> 141\u001B[0m     string1, string2 \u001B[38;5;241m=\u001B[39m item\u001B[38;5;241m.\u001B[39msplit(\u001B[38;5;124m\"\u001B[39m\u001B[38;5;124m_\u001B[39m\u001B[38;5;124m\"\u001B[39m)\n\u001B[0;32m    143\u001B[0m     \u001B[38;5;28;01mif\u001B[39;00m \u001B[38;5;124m\"\u001B[39m\u001B[38;5;124mRfR\u001B[39m\u001B[38;5;124m\"\u001B[39m \u001B[38;5;129;01min\u001B[39;00m string2:\n\u001B[0;32m    144\u001B[0m         \u001B[38;5;66;03m# string1: projectID\u001B[39;00m\n\u001B[0;32m    145\u001B[0m         \u001B[38;5;66;03m# string2: rfr #step\u001B[39;00m\n\u001B[0;32m    146\u001B[0m         \u001B[38;5;66;03m# Note: kwargs[item] in this case can be either 0\u001B[39;00m\n\u001B[0;32m    147\u001B[0m         \u001B[38;5;66;03m# (no project) or 1 (yes project)\u001B[39;00m\n",
      "\u001B[1;31mValueError\u001B[0m: not enough values to unpack (expected 2, got 1)",
      "\nDuring handling of the above exception, another exception occurred:\n",
      "\u001B[1;31mEMAError\u001B[0m                                  Traceback (most recent call last)",
      "Cell \u001B[1;32mIn[12], line 3\u001B[0m\n\u001B[0;32m      1\u001B[0m n_exp \u001B[38;5;241m=\u001B[39m \u001B[38;5;241m1000\u001B[39m\n\u001B[1;32m----> 3\u001B[0m experiments_sobol, outcomes_sobol \u001B[38;5;241m=\u001B[39m \u001B[43mperform_experiments\u001B[49m\u001B[43m(\u001B[49m\u001B[43mdike_model\u001B[49m\u001B[43m,\u001B[49m\u001B[43m \u001B[49m\u001B[43mscenarios\u001B[49m\u001B[38;5;241;43m=\u001B[39;49m\u001B[43mn_exp\u001B[49m\u001B[43m,\u001B[49m\n\u001B[0;32m      4\u001B[0m \u001B[43m                                                        \u001B[49m\u001B[43mpolicies\u001B[49m\u001B[38;5;241;43m=\u001B[39;49m\u001B[38;5;241;43m6\u001B[39;49m\u001B[43m,\u001B[49m\n\u001B[0;32m      5\u001B[0m \u001B[43m                                                        \u001B[49m\u001B[43muncertainty_sampling\u001B[49m\u001B[38;5;241;43m=\u001B[39;49m\u001B[43mSamplers\u001B[49m\u001B[38;5;241;43m.\u001B[39;49m\u001B[43mSOBOL\u001B[49m\u001B[43m)\u001B[49m\n\u001B[0;32m      7\u001B[0m dike_final_sobol \u001B[38;5;241m=\u001B[39m outcomes_sobol[\u001B[38;5;124m\"\u001B[39m\u001B[38;5;124mTotal Costs\u001B[39m\u001B[38;5;124m\"\u001B[39m][:,\u001B[38;5;241m0\u001B[39m,\u001B[38;5;241m-\u001B[39m\u001B[38;5;241m1\u001B[39m]\n\u001B[0;32m      8\u001B[0m dike_mean_sobol \u001B[38;5;241m=\u001B[39m np\u001B[38;5;241m.\u001B[39mmean(outcomes_sobol[\u001B[38;5;124m\"\u001B[39m\u001B[38;5;124mTotal Costs\u001B[39m\u001B[38;5;124m\"\u001B[39m][:,\u001B[38;5;241m0\u001B[39m,:],axis\u001B[38;5;241m=\u001B[39m\u001B[38;5;241m1\u001B[39m)\n",
      "File \u001B[1;32m~\\anaconda3\\Lib\\site-packages\\ema_workbench\\em_framework\\evaluators.py:406\u001B[0m, in \u001B[0;36mperform_experiments\u001B[1;34m(models, scenarios, policies, evaluator, reporting_interval, reporting_frequency, uncertainty_union, lever_union, outcome_union, uncertainty_sampling, lever_sampling, callback, return_callback, combine, log_progress, **kwargs)\u001B[0m\n\u001B[0;32m    403\u001B[0m \u001B[38;5;28;01mif\u001B[39;00m \u001B[38;5;129;01mnot\u001B[39;00m evaluator:\n\u001B[0;32m    404\u001B[0m     evaluator \u001B[38;5;241m=\u001B[39m SequentialEvaluator(models)\n\u001B[1;32m--> 406\u001B[0m \u001B[43mevaluator\u001B[49m\u001B[38;5;241;43m.\u001B[39;49m\u001B[43mevaluate_experiments\u001B[49m\u001B[43m(\u001B[49m\u001B[43mscenarios\u001B[49m\u001B[43m,\u001B[49m\u001B[43m \u001B[49m\u001B[43mpolicies\u001B[49m\u001B[43m,\u001B[49m\u001B[43m \u001B[49m\u001B[43mcallback\u001B[49m\u001B[43m,\u001B[49m\u001B[43m \u001B[49m\u001B[43mcombine\u001B[49m\u001B[38;5;241;43m=\u001B[39;49m\u001B[43mcombine\u001B[49m\u001B[43m,\u001B[49m\u001B[43m \u001B[49m\u001B[38;5;241;43m*\u001B[39;49m\u001B[38;5;241;43m*\u001B[39;49m\u001B[43mkwargs\u001B[49m\u001B[43m)\u001B[49m\n\u001B[0;32m    408\u001B[0m \u001B[38;5;28;01mif\u001B[39;00m callback\u001B[38;5;241m.\u001B[39mi \u001B[38;5;241m!=\u001B[39m nr_of_exp:\n\u001B[0;32m    409\u001B[0m     \u001B[38;5;28;01mraise\u001B[39;00m EMAError(\n\u001B[0;32m    410\u001B[0m         \u001B[38;5;124mf\u001B[39m\u001B[38;5;124m\"\u001B[39m\u001B[38;5;124mSome fatal error has occurred while running the experiments, not all runs have completed. Expected \u001B[39m\u001B[38;5;132;01m{\u001B[39;00mnr_of_exp\u001B[38;5;132;01m}\u001B[39;00m\u001B[38;5;124m, got \u001B[39m\u001B[38;5;132;01m{\u001B[39;00mcallback\u001B[38;5;241m.\u001B[39mi\u001B[38;5;132;01m}\u001B[39;00m\u001B[38;5;124m\"\u001B[39m\n\u001B[0;32m    411\u001B[0m     )\n",
      "File \u001B[1;32m~\\anaconda3\\Lib\\site-packages\\ema_workbench\\em_framework\\evaluators.py:291\u001B[0m, in \u001B[0;36mSequentialEvaluator.evaluate_experiments\u001B[1;34m(self, scenarios, policies, callback, combine)\u001B[0m\n\u001B[0;32m    288\u001B[0m runner \u001B[38;5;241m=\u001B[39m ExperimentRunner(models)\n\u001B[0;32m    290\u001B[0m \u001B[38;5;28;01mfor\u001B[39;00m experiment \u001B[38;5;129;01min\u001B[39;00m ex_gen:\n\u001B[1;32m--> 291\u001B[0m     outcomes \u001B[38;5;241m=\u001B[39m \u001B[43mrunner\u001B[49m\u001B[38;5;241;43m.\u001B[39;49m\u001B[43mrun_experiment\u001B[49m\u001B[43m(\u001B[49m\u001B[43mexperiment\u001B[49m\u001B[43m)\u001B[49m\n\u001B[0;32m    292\u001B[0m     callback(experiment, outcomes)\n\u001B[0;32m    293\u001B[0m runner\u001B[38;5;241m.\u001B[39mcleanup()\n",
      "File \u001B[1;32m~\\anaconda3\\Lib\\site-packages\\ema_workbench\\util\\ema_logging.py:153\u001B[0m, in \u001B[0;36mmethod_logger.<locals>.real_decorator.<locals>.wrapper\u001B[1;34m(*args, **kwargs)\u001B[0m\n\u001B[0;32m    148\u001B[0m \u001B[38;5;129m@wraps\u001B[39m(func)\n\u001B[0;32m    149\u001B[0m \u001B[38;5;28;01mdef\u001B[39;00m \u001B[38;5;21mwrapper\u001B[39m(\u001B[38;5;241m*\u001B[39margs, \u001B[38;5;241m*\u001B[39m\u001B[38;5;241m*\u001B[39mkwargs):\n\u001B[0;32m    150\u001B[0m     \u001B[38;5;66;03m# hack, because log is applied to methods, we can get\u001B[39;00m\n\u001B[0;32m    151\u001B[0m     \u001B[38;5;66;03m# object instance as first arguments in args\u001B[39;00m\n\u001B[0;32m    152\u001B[0m     logger\u001B[38;5;241m.\u001B[39mdebug(\u001B[38;5;124mf\u001B[39m\u001B[38;5;124m\"\u001B[39m\u001B[38;5;124mcalling \u001B[39m\u001B[38;5;132;01m{\u001B[39;00mfunc\u001B[38;5;241m.\u001B[39m\u001B[38;5;18m__name__\u001B[39m\u001B[38;5;132;01m}\u001B[39;00m\u001B[38;5;124m on \u001B[39m\u001B[38;5;132;01m{\u001B[39;00mclassname\u001B[38;5;132;01m}\u001B[39;00m\u001B[38;5;124m\"\u001B[39m)\n\u001B[1;32m--> 153\u001B[0m     res \u001B[38;5;241m=\u001B[39m \u001B[43mfunc\u001B[49m\u001B[43m(\u001B[49m\u001B[38;5;241;43m*\u001B[39;49m\u001B[43margs\u001B[49m\u001B[43m,\u001B[49m\u001B[43m \u001B[49m\u001B[38;5;241;43m*\u001B[39;49m\u001B[38;5;241;43m*\u001B[39;49m\u001B[43mkwargs\u001B[49m\u001B[43m)\u001B[49m\n\u001B[0;32m    154\u001B[0m     logger\u001B[38;5;241m.\u001B[39mdebug(\u001B[38;5;124mf\u001B[39m\u001B[38;5;124m\"\u001B[39m\u001B[38;5;124mcompleted calling \u001B[39m\u001B[38;5;132;01m{\u001B[39;00mfunc\u001B[38;5;241m.\u001B[39m\u001B[38;5;18m__name__\u001B[39m\u001B[38;5;132;01m}\u001B[39;00m\u001B[38;5;124m on \u001B[39m\u001B[38;5;132;01m{\u001B[39;00mclassname\u001B[38;5;132;01m}\u001B[39;00m\u001B[38;5;124m\"\u001B[39m)\n\u001B[0;32m    155\u001B[0m     \u001B[38;5;28;01mreturn\u001B[39;00m res\n",
      "File \u001B[1;32m~\\anaconda3\\Lib\\site-packages\\ema_workbench\\em_framework\\experiment_runner.py:108\u001B[0m, in \u001B[0;36mExperimentRunner.run_experiment\u001B[1;34m(self, experiment)\u001B[0m\n\u001B[0;32m    102\u001B[0m     \u001B[38;5;66;03m#             exception = traceback.print_exc()\u001B[39;00m\n\u001B[0;32m    103\u001B[0m     \u001B[38;5;66;03m#             if exception:\u001B[39;00m\n\u001B[0;32m    104\u001B[0m     \u001B[38;5;66;03m#                 sys.stderr.write(exception)\u001B[39;00m\n\u001B[0;32m    105\u001B[0m     \u001B[38;5;66;03m#                 sys.stderr.write(\"\\n\")\u001B[39;00m\n\u001B[0;32m    107\u001B[0m     errortype \u001B[38;5;241m=\u001B[39m \u001B[38;5;28mtype\u001B[39m(e)\u001B[38;5;241m.\u001B[39m\u001B[38;5;18m__name__\u001B[39m\n\u001B[1;32m--> 108\u001B[0m     \u001B[38;5;28;01mraise\u001B[39;00m EMAError(\u001B[38;5;124mf\u001B[39m\u001B[38;5;124m\"\u001B[39m\u001B[38;5;124mException in run_model\u001B[39m\u001B[38;5;130;01m\\n\u001B[39;00m\u001B[38;5;124mCaused by: \u001B[39m\u001B[38;5;132;01m{\u001B[39;00merrortype\u001B[38;5;132;01m}\u001B[39;00m\u001B[38;5;124m: \u001B[39m\u001B[38;5;132;01m{\u001B[39;00m\u001B[38;5;28mstr\u001B[39m(e)\u001B[38;5;132;01m}\u001B[39;00m\u001B[38;5;124m\"\u001B[39m)\n\u001B[0;32m    110\u001B[0m outcomes \u001B[38;5;241m=\u001B[39m model\u001B[38;5;241m.\u001B[39moutcomes_output\n\u001B[0;32m    111\u001B[0m model\u001B[38;5;241m.\u001B[39mreset_model()\n",
      "\u001B[1;31mEMAError\u001B[0m: Exception in run_model\nCaused by: ValueError: not enough values to unpack (expected 2, got 1)"
     ]
    }
   ],
   "source": [
    "n_exp = 1000\n",
    "\n",
    "experiments_sobol, outcomes_sobol = perform_experiments(dike_model, scenarios=n_exp,\n",
    "                                                        policies=6,\n",
    "                                                        uncertainty_sampling=Samplers.SOBOL)\n",
    "\n",
    "dike_final_sobol = outcomes_sobol[\"Total Costs\"][:,0,-1]\n",
    "dike_mean_sobol = np.mean(outcomes_sobol[\"Total Costs\"][:,0,:],axis=1)\n",
    "dike_std_sobol = np.std(outcomes_sobol[\"Total Costs\"][:,0,:],axis=1)\n",
    "\n",
    "Si = sobol.analyze(problem, dike_mean_sobol, calc_second_order=True, print_to_console=True)"
   ],
   "metadata": {
    "collapsed": false,
    "ExecuteTime": {
     "end_time": "2024-06-04T14:06:47.677273300Z",
     "start_time": "2024-06-04T14:06:44.883668800Z"
    }
   },
   "id": "384240e6d2868a13"
  },
  {
   "cell_type": "code",
   "execution_count": null,
   "outputs": [],
   "source": [
    "Si_filter = {k:Si[k] for k in ['ST','ST_conf','S1','S1_conf']}\n",
    "Si_df = pd.DataFrame(Si_filter, index=problem['names'])\n",
    "\n",
    "sns.set_style('white')\n",
    "fig, ax = plt.subplots(1)\n",
    "\n",
    "indices = Si_df[['S1','ST']]\n",
    "err = Si_df[['S1_conf','ST_conf']]\n",
    "\n",
    "indices.plot.bar(yerr=err.values.T,ax=ax)\n",
    "fig.set_size_inches(8,6)\n",
    "fig.subplots_adjust(bottom=0.3)\n",
    "plt.show()"
   ],
   "metadata": {
    "collapsed": false,
    "ExecuteTime": {
     "end_time": "2024-06-04T14:00:50.924034200Z",
     "start_time": "2024-06-04T14:00:50.922848700Z"
    }
   },
   "id": "bf537276bcd0c769"
  },
  {
   "cell_type": "code",
   "execution_count": null,
   "outputs": [],
   "source": [
    "Y = dike_mean_sobol\n",
    "\n",
    "s_data = pd.DataFrame(index=problem['names'],\n",
    "                      columns=np.arange(20,n_exp,50)*(2*problem['num_vars']+2))\n",
    "for j in s_data.columns:\n",
    "    scores = sobol.analyze(problem, Y[0:j], calc_second_order=True, print_to_console=False)\n",
    "    s_data.loc[:,j] = scores['ST']"
   ],
   "metadata": {
    "collapsed": false,
    "ExecuteTime": {
     "end_time": "2024-06-04T14:00:50.925484300Z",
     "start_time": "2024-06-04T14:00:50.924034200Z"
    }
   },
   "id": "dfc2ebd9f0bee8ec"
  },
  {
   "cell_type": "code",
   "execution_count": null,
   "outputs": [],
   "source": [
    "fig, ax = plt.subplots(1)\n",
    "\n",
    "s_data.T.plot(ax=ax)\n",
    "ax.set_xlabel('Samples')\n",
    "ax.set_ylabel('Total index (ST)')\n",
    "plt.show()"
   ],
   "metadata": {
    "collapsed": false,
    "ExecuteTime": {
     "end_time": "2024-06-04T14:00:50.946846700Z",
     "start_time": "2024-06-04T14:00:50.925484300Z"
    }
   },
   "id": "e409c51df07de3c"
  },
  {
   "cell_type": "code",
   "execution_count": null,
   "outputs": [],
   "source": [],
   "metadata": {
    "collapsed": false,
    "ExecuteTime": {
     "start_time": "2024-06-04T14:00:50.927987400Z"
    }
   },
   "id": "6434b8845ac7b0ff"
  },
  {
   "cell_type": "code",
   "execution_count": null,
   "outputs": [],
   "source": [],
   "metadata": {
    "collapsed": false,
    "ExecuteTime": {
     "start_time": "2024-06-04T14:00:50.931287500Z"
    }
   },
   "id": "1b8734869cfd731"
  }
 ],
 "metadata": {
  "kernelspec": {
   "display_name": "Python 3",
   "language": "python",
   "name": "python3"
  },
  "language_info": {
   "codemirror_mode": {
    "name": "ipython",
    "version": 2
   },
   "file_extension": ".py",
   "mimetype": "text/x-python",
   "name": "python",
   "nbconvert_exporter": "python",
   "pygments_lexer": "ipython2",
   "version": "2.7.6"
  }
 },
 "nbformat": 4,
 "nbformat_minor": 5
}
