{
 "cells": [
  {
   "cell_type": "markdown",
   "source": [
    "### Sensitivity analysis --> Sobol \n",
    "Defining parameters to vary and find variance on parameters outcome --> damage important to all actors\n",
    "Finding variance that explains that damage is highest in other scenarios --> RfR & damage is low --> dike heightening "
   ],
   "metadata": {
    "collapsed": false
   },
   "id": "f2585c40ca2d6b01"
  },
  {
   "cell_type": "code",
   "execution_count": 1,
   "id": "initial_id",
   "metadata": {
    "collapsed": true,
    "ExecuteTime": {
     "end_time": "2024-06-06T15:19:53.834104400Z",
     "start_time": "2024-06-06T15:19:48.957666Z"
    }
   },
   "outputs": [],
   "source": [
    "## Importing all functions\n",
    "\n",
    "%matplotlib inline\n",
    "import numpy as np\n",
    "import pandas as pd\n",
    "\n",
    "import matplotlib.pyplot as plt\n",
    "import seaborn as sns\n",
    "sns.set_style('white')\n",
    "\n",
    "from ema_workbench import (Model, RealParameter, TimeSeriesOutcome,\n",
    "                           perform_experiments, ema_logging,Policy)\n",
    "\n",
    "from ema_workbench import Samplers\n",
    "\n",
    "from ema_workbench.analysis import feature_scoring\n",
    "from ema_workbench.analysis.scenario_discovery_util import RuleInductionType\n",
    "from ema_workbench.em_framework.salib_samplers import get_SALib_problem\n",
    "\n",
    "from ema_workbench.analysis.scenario_discovery_util import RuleInductionType\n",
    "\n",
    "from ema_workbench.util import ema_logging\n",
    "\n",
    "from dike_model_function import DikeNetwork\n",
    "\n",
    "# exp, out = evaluator.perform_experiments(...,uncertainty_sampling=Samplers.SOBOL)\n",
    "\n",
    "from SALib.analyze import sobol\n"
   ]
  },
  {
   "cell_type": "code",
   "execution_count": 37,
   "outputs": [
    {
     "name": "stdout",
     "output_type": "stream",
     "text": [
      "{'num_vars': 19, 'names': ['A.0_ID flood wave shape', 'A.1_Bmax', 'A.1_Brate', 'A.1_pfail', 'A.2_Bmax', 'A.2_Brate', 'A.2_pfail', 'A.3_Bmax', 'A.3_Brate', 'A.3_pfail', 'A.4_Bmax', 'A.4_Brate', 'A.4_pfail', 'A.5_Bmax', 'A.5_Brate', 'A.5_pfail', 'discount rate 0', 'discount rate 1', 'discount rate 2'], 'bounds': [(0, 133), (30, 350), (0, 3), (0, 1), (30, 350), (0, 3), (0, 1), (30, 350), (0, 3), (0, 1), (30, 350), (0, 3), (0, 1), (30, 350), (0, 3), (0, 1), (0, 4), (0, 4), (0, 4)]}\n"
     ]
    }
   ],
   "source": [
    "from ema_workbench import (\n",
    "    Model,\n",
    "    RealParameter,\n",
    "    IntegerParameter,\n",
    "    CategoricalParameter,\n",
    "    ScalarOutcome,\n",
    "    Samplers,\n",
    "    perform_experiments\n",
    ")\n",
    "from ema_workbench.em_framework import Samplers\n",
    "from ema_workbench.em_framework.salib_samplers import (get_SALib_problem)\n",
    "from dike_model_function import DikeNetwork\n",
    "from ema_workbench.util import ema_logging\n",
    "from SALib.analyze import sobol\n",
    "\n",
    "# Define the sum_over function\n",
    "def sum_over(*args):\n",
    "    numbers = []\n",
    "    for entry in args:\n",
    "        try:\n",
    "            value = sum(entry)\n",
    "        except TypeError:\n",
    "            value = entry\n",
    "        numbers.append(value)\n",
    "    return sum(numbers)\n",
    "\n",
    "# Configure logging\n",
    "ema_logging.log_to_stderr(ema_logging.INFO)\n",
    "\n",
    "# Define the function to get the model for the given problem formulation\n",
    "def get_model_for_problem_formulation(problem_formulation_id):\n",
    "    function = DikeNetwork()\n",
    "    dike_model = Model(\"dikesnet\", function=function)\n",
    "\n",
    "    Real_uncert = {\"Bmax\": [30, 350], \"pfail\": [0, 1]}  # m and [.]\n",
    "    cat_uncert_loc = {\"Brate\": (1.0, 1.5, 10)}\n",
    "    cat_uncert = {f\"discount rate {n}\": (1.5, 2.5, 3.5, 4.5) for n in function.planning_steps}\n",
    "    Int_uncert = {\"A.0_ID flood wave shape\": [0, 132]}\n",
    "\n",
    "    uncertainties = []\n",
    "\n",
    "    for uncert_name in cat_uncert.keys():\n",
    "        categories = cat_uncert[uncert_name]\n",
    "        uncertainties.append(CategoricalParameter(uncert_name, categories))\n",
    "\n",
    "    for uncert_name in Int_uncert.keys():\n",
    "        uncertainties.append(IntegerParameter(uncert_name, Int_uncert[uncert_name][0], Int_uncert[uncert_name][1]))\n",
    "\n",
    "    dike_height_levers = []\n",
    "    for dike in function.dikelist:\n",
    "        for uncert_name in Real_uncert.keys():\n",
    "            name = f\"{dike}_{uncert_name}\"\n",
    "            lower, upper = Real_uncert[uncert_name]\n",
    "            uncertainties.append(RealParameter(name, lower, upper))\n",
    "\n",
    "        for uncert_name in cat_uncert_loc.keys():\n",
    "            name = f\"{dike}_{uncert_name}\"\n",
    "            categories = cat_uncert_loc[uncert_name]\n",
    "            uncertainties.append(CategoricalParameter(name, categories))\n",
    "        \n",
    "        for n in function.planning_steps:\n",
    "            name = f\"{dike}_DikeIncrease {n}\"\n",
    "            dike_height_levers.append(IntegerParameter(name, 0, 10))\n",
    "        \n",
    "    dike_model.uncertainties = uncertainties\n",
    "\n",
    "    dike_height_levers.append(IntegerParameter(\"EWS_DaysToThreat\", 0, 4))  # days\n",
    "    # Set levers: No RfR, dike heightening\n",
    "    dike_model.levers = dike_height_levers\n",
    "\n",
    "    # Define the outcomes\n",
    "    outcomes = [\n",
    "        ScalarOutcome('Total Costs', kind=ScalarOutcome.MINIMIZE, function=sum_over, variable_name=[\n",
    "            f\"{dike}_Expected Annual Damage\" for dike in function.dikelist] +\n",
    "            [f\"{dike}_Dike Investment Costs\" for dike in function.dikelist] +\n",
    "            [\"RfR Total Costs\"] \n",
    "        ),\n",
    "        ScalarOutcome('Expected Number of Deaths', kind=ScalarOutcome.MINIMIZE, function=sum_over, variable_name=[\n",
    "            f\"{dike}_Expected Number of Deaths\" for dike in function.dikelist]\n",
    "        ),\n",
    "        ScalarOutcome('Expected Annual Damage', kind=ScalarOutcome.MINIMIZE, function=sum_over, variable_name=[\n",
    "            f\"{dike}_Expected Annual Damage\" for dike in function.dikelist]),\n",
    "        ScalarOutcome('Dike Investment Costs', kind=ScalarOutcome.MINIMIZE, function=sum_over, variable_name=[f\"{dike}_Dike Investment Costs\" for dike in function.dikelist]),\n",
    "        ScalarOutcome('RfR Total Costs', kind=ScalarOutcome.MINIMIZE, function=sum_over, variable_name=[\"RfR Total Costs\"] )\n",
    "    ]\n",
    "    \n",
    "    # \n",
    "    # # Define the levers\n",
    "    # levers = [\n",
    "    #     # Range of dike heightening:\n",
    "    #     IntegerParameter(\"DikeIncrease\", 0, 10),  # dm\n",
    "    # \n",
    "    #     # Series of five Room for the River projects:\n",
    "    #     *[CategoricalParameter(f\"{project_id}_RfR\", [0, 1]) for project_id in range(0, 5)],\n",
    "    # \n",
    "    #     # Time of warning: 0, 1, 2, 3, 4 days ahead from the flood\n",
    "    #     IntegerParameter(\"EWS_DaysToThreat\", 0, 4)  # days\n",
    "    # ]\n",
    "\n",
    "    # Assign uncertainties, outcomes, and levers to the model\n",
    "    # dike_model.uncertainties = uncertainties\n",
    "    dike_model.outcomes = outcomes\n",
    "    \n",
    "    # dike_model.levers = levers \n",
    "\n",
    "    return dike_model\n",
    "\n",
    "# Define policies to test different dike height increases\n",
    "policies = [Policy(f\"DikeIncrease_{i}\", **{f\"{dike}_DikeIncrease {n}\": i for dike in dike_model.function.dikelist for n in dike_model.function.planning_steps}, **{\"EWS_DaysToThreat\": 2}) for i in range(1, 11, 2)]\n",
    "\n",
    "\n",
    "\n",
    "# Get the model for a specific problem formulation\n",
    "problem_formulation_id = 6  # Change this to the desired problem formulation\n",
    "dike_model = get_model_for_problem_formulation(problem_formulation_id)\n",
    "\n",
    "# Get SALib problem\n",
    "problem = get_SALib_problem(dike_model.uncertainties)\n",
    "\n",
    "# Print the problem definition\n",
    "print(problem)\n"
   ],
   "metadata": {
    "collapsed": false,
    "ExecuteTime": {
     "end_time": "2024-06-07T14:18:39.838420500Z",
     "start_time": "2024-06-07T14:18:39.601461Z"
    }
   },
   "id": "323e83e265fb2b55"
  },
  {
   "cell_type": "code",
   "execution_count": 38,
   "outputs": [
    {
     "name": "stderr",
     "output_type": "stream",
     "text": [
      "C:\\Users\\Joost\\PycharmProjects\\venv\\lib\\site-packages\\scipy\\stats\\_qmc.py:804: UserWarning: The balance properties of Sobol' points require n to be a power of 2.\n",
      "  sample = self._random(n, workers=workers)\n",
      "[MainProcess/INFO] performing 30000 scenarios * 5 policies * 1 model(s) = 150000 experiments\n",
      "  0%|                                               | 0/150000 [00:00<?, ?it/s][MainProcess/INFO] performing experiments sequentially\n",
      "  0%|                             | 97/300000 [3:24:15<10525:21:21, 126.35s/it]\n",
      "100%|███████████████████████████████| 150000/150000 [14:57:15<00:00,  2.79it/s]\n",
      "[MainProcess/INFO] experiments finished\n"
     ]
    },
    {
     "ename": "IndexError",
     "evalue": "too many indices for array: array is 1-dimensional, but 3 were indexed",
     "output_type": "error",
     "traceback": [
      "\u001B[1;31m---------------------------------------------------------------------------\u001B[0m",
      "\u001B[1;31mIndexError\u001B[0m                                Traceback (most recent call last)",
      "Cell \u001B[1;32mIn[38], line 7\u001B[0m\n\u001B[0;32m      1\u001B[0m n_exp \u001B[38;5;241m=\u001B[39m \u001B[38;5;241m750\u001B[39m\n\u001B[0;32m      3\u001B[0m experiments_sobol, outcomes_sobol \u001B[38;5;241m=\u001B[39m perform_experiments(dike_model, scenarios\u001B[38;5;241m=\u001B[39mn_exp,\n\u001B[0;32m      4\u001B[0m                                                         policies\u001B[38;5;241m=\u001B[39mpolicies,\n\u001B[0;32m      5\u001B[0m                                                         uncertainty_sampling\u001B[38;5;241m=\u001B[39mSamplers\u001B[38;5;241m.\u001B[39mSOBOL)\n\u001B[1;32m----> 7\u001B[0m dike_final_sobol \u001B[38;5;241m=\u001B[39m \u001B[43moutcomes_sobol\u001B[49m\u001B[43m[\u001B[49m\u001B[38;5;124;43m\"\u001B[39;49m\u001B[38;5;124;43mTotal Costs\u001B[39;49m\u001B[38;5;124;43m\"\u001B[39;49m\u001B[43m]\u001B[49m\u001B[43m[\u001B[49m\u001B[43m:\u001B[49m\u001B[43m,\u001B[49m\u001B[38;5;241;43m0\u001B[39;49m\u001B[43m,\u001B[49m\u001B[38;5;241;43m-\u001B[39;49m\u001B[38;5;241;43m1\u001B[39;49m\u001B[43m]\u001B[49m\n\u001B[0;32m      8\u001B[0m dike_mean_sobol \u001B[38;5;241m=\u001B[39m np\u001B[38;5;241m.\u001B[39mmean(outcomes_sobol[\u001B[38;5;124m\"\u001B[39m\u001B[38;5;124mTotal Costs\u001B[39m\u001B[38;5;124m\"\u001B[39m][:,\u001B[38;5;241m0\u001B[39m,:],axis\u001B[38;5;241m=\u001B[39m\u001B[38;5;241m1\u001B[39m)\n\u001B[0;32m      9\u001B[0m dike_std_sobol \u001B[38;5;241m=\u001B[39m np\u001B[38;5;241m.\u001B[39mstd(outcomes_sobol[\u001B[38;5;124m\"\u001B[39m\u001B[38;5;124mTotal Costs\u001B[39m\u001B[38;5;124m\"\u001B[39m][:,\u001B[38;5;241m0\u001B[39m,:],axis\u001B[38;5;241m=\u001B[39m\u001B[38;5;241m1\u001B[39m)\n",
      "\u001B[1;31mIndexError\u001B[0m: too many indices for array: array is 1-dimensional, but 3 were indexed"
     ]
    }
   ],
   "source": [
    "n_exp = 750\n",
    "\n",
    "experiments_sobol, outcomes_sobol = perform_experiments(dike_model, scenarios=n_exp,\n",
    "                                                        policies=policies,\n",
    "                                                        uncertainty_sampling=Samplers.SOBOL)\n",
    "\n",
    "dike_final_sobol = outcomes_sobol[\"Total Costs\"][:,0,-1]\n",
    "dike_mean_sobol = np.mean(outcomes_sobol[\"Total Costs\"][:,0,:],axis=1)\n",
    "dike_std_sobol = np.std(outcomes_sobol[\"Total Costs\"][:,0,:],axis=1)\n",
    "\n",
    "Si = sobol.analyze(problem, dike_mean_sobol, calc_second_order=True, print_to_console=True)\n"
   ],
   "metadata": {
    "collapsed": false,
    "ExecuteTime": {
     "end_time": "2024-06-08T05:15:58.961972Z",
     "start_time": "2024-06-07T14:18:42.553679800Z"
    }
   },
   "id": "384240e6d2868a13"
  },
  {
   "cell_type": "code",
   "execution_count": 45,
   "outputs": [],
   "source": [
    "import pandas as pd\n",
    "experiments_sobol.to_csv('experiments_sobol')\n",
    "outcomes_df = pd.DataFrame(outcomes_sobol)\n",
    "outcomes_df.to_csv('outcomes_sobol.csv', index=False)"
   ],
   "metadata": {
    "collapsed": false,
    "ExecuteTime": {
     "end_time": "2024-06-08T08:36:28.602156200Z",
     "start_time": "2024-06-08T08:36:24.861881700Z"
    }
   },
   "id": "13be0aaca44cf4b5"
  },
  {
   "cell_type": "code",
   "execution_count": 50,
   "outputs": [
    {
     "name": "stdout",
     "output_type": "stream",
     "text": [
      "Shape of outcomes_sobol['Total Costs']: (150000,)\n"
     ]
    },
    {
     "name": "stderr",
     "output_type": "stream",
     "text": [
      "C:\\Users\\Joost\\PycharmProjects\\venv\\lib\\site-packages\\SALib\\util\\__init__.py:274: FutureWarning: unique with argument that is not not a Series, Index, ExtensionArray, or np.ndarray is deprecated and will raise in a future version.\n",
      "  names = list(pd.unique(groups))\n"
     ]
    },
    {
     "name": "stdout",
     "output_type": "stream",
     "text": [
      "                               ST   ST_conf\n",
      "A.0_ID flood wave shape  0.002824  0.000568\n",
      "A.1_Bmax                 0.001952  0.001092\n",
      "A.1_Brate                0.000040  0.000051\n",
      "A.1_pfail                0.562362  0.054065\n",
      "A.2_Bmax                 0.000129  0.000151\n",
      "A.2_Brate                0.000011  0.000015\n",
      "A.2_pfail                0.016374  0.003470\n",
      "A.3_Bmax                 0.000397  0.000516\n",
      "A.3_Brate                0.000010  0.000013\n",
      "A.3_pfail                0.174821  0.028620\n",
      "A.4_Bmax                 0.000003  0.000004\n",
      "A.4_Brate                0.000001  0.000002\n",
      "A.4_pfail                0.001116  0.000348\n",
      "A.5_Bmax                 0.000000  0.000000\n",
      "A.5_Brate                0.000000  0.000000\n",
      "A.5_pfail                0.020871  0.004913\n",
      "discount rate 0          0.022702  0.003014\n",
      "discount rate 1          0.009681  0.002265\n",
      "discount rate 2          0.004811  0.001120\n",
      "                               S1   S1_conf\n",
      "A.0_ID flood wave shape -0.001110  0.004189\n",
      "A.1_Bmax                 0.001663  0.002238\n",
      "A.1_Brate               -0.000073  0.000242\n",
      "A.1_pfail                0.539389  0.075794\n",
      "A.2_Bmax                 0.000291  0.000561\n",
      "A.2_Brate                0.000068  0.000138\n",
      "A.2_pfail                0.009306  0.014720\n",
      "A.3_Bmax                -0.000548  0.000608\n",
      "A.3_Brate                0.000051  0.000149\n",
      "A.3_pfail                0.145316  0.049929\n",
      "A.4_Bmax                -0.000085  0.000192\n",
      "A.4_Brate                0.000083  0.000109\n",
      "A.4_pfail               -0.002020  0.003508\n",
      "A.5_Bmax                 0.000000  0.000000\n",
      "A.5_Brate                0.000000  0.000000\n",
      "A.5_pfail                0.015503  0.011256\n",
      "discount rate 0          0.003040  0.011542\n",
      "discount rate 1          0.000316  0.008175\n",
      "discount rate 2          0.004396  0.006478\n",
      "                                            S2   S2_conf\n",
      "(A.0_ID flood wave shape, A.1_Bmax)  -0.000132  0.006761\n",
      "(A.0_ID flood wave shape, A.1_Brate)  0.000115  0.006930\n",
      "(A.0_ID flood wave shape, A.1_pfail) -0.002644  0.007309\n",
      "(A.0_ID flood wave shape, A.2_Bmax)   0.000143  0.006927\n",
      "(A.0_ID flood wave shape, A.2_Brate)  0.000131  0.006930\n",
      "...                                        ...       ...\n",
      "(A.5_pfail, discount rate 1)          0.004420  0.016568\n",
      "(A.5_pfail, discount rate 2)          0.004678  0.016901\n",
      "(discount rate 0, discount rate 1)    0.012822  0.020205\n",
      "(discount rate 0, discount rate 2)    0.013602  0.019835\n",
      "(discount rate 1, discount rate 2)    0.006100  0.013751\n",
      "\n",
      "[171 rows x 2 columns]\n",
      "Sobol analysis completed successfully\n"
     ]
    }
   ],
   "source": [
    "dike_final_sobol = outcomes_sobol[\"Total Costs\"]\n",
    "dike_mean_sobol = np.mean(outcomes_sobol[\"Total Costs\"])\n",
    "dike_std_sobol = np.std(outcomes_sobol[\"Total Costs\"])\n",
    "\n",
    "# Check the shape of the data\n",
    "print(f\"Shape of outcomes_sobol['Total Costs']: {outcomes_sobol['Total Costs'].shape}\")\n",
    "\n",
    "# Ensure we use the correct number of samples\n",
    "N = outcomes_sobol['Total Costs'].shape[0]\n",
    "\n",
    "# Sobol analysis\n",
    "try:\n",
    "    Si = sobol.analyze(problem, outcomes_sobol['Total Costs'], calc_second_order=True, print_to_console=True)\n",
    "    print(\"Sobol analysis completed successfully\")\n",
    "except Exception as e:\n",
    "    print(f\"Error during Sobol analysis: {e}\")\n",
    "\n"
   ],
   "metadata": {
    "collapsed": false,
    "ExecuteTime": {
     "end_time": "2024-06-08T08:52:34.114693900Z",
     "start_time": "2024-06-08T08:52:26.564444600Z"
    }
   },
   "id": "c90406d41683243b"
  },
  {
   "cell_type": "code",
   "execution_count": 51,
   "outputs": [
    {
     "data": {
      "text/plain": "<Figure size 800x600 with 1 Axes>",
      "image/png": "[encoded data removed]"
     },
     "metadata": {},
     "output_type": "display_data"
    }
   ],
   "source": [
    "Si_filter = {k:Si[k] for k in ['ST','ST_conf','S1','S1_conf']}\n",
    "Si_df = pd.DataFrame(Si_filter, index=problem['names'])\n",
    "\n",
    "sns.set_style('white')\n",
    "fig, ax = plt.subplots(1)\n",
    "\n",
    "indices = Si_df[['S1','ST']]\n",
    "err = Si_df[['S1_conf','ST_conf']]\n",
    "\n",
    "indices.plot.bar(yerr=err.values.T,ax=ax)\n",
    "fig.set_size_inches(8,6)\n",
    "fig.subplots_adjust(bottom=0.3)\n",
    "plt.show()"
   ],
   "metadata": {
    "collapsed": false,
    "ExecuteTime": {
     "end_time": "2024-06-08T08:53:09.005842600Z",
     "start_time": "2024-06-08T08:53:08.625810100Z"
    }
   },
   "id": "bf537276bcd0c769"
  },
  {
   "cell_type": "code",
   "execution_count": null,
   "outputs": [
    {
     "name": "stdout",
     "output_type": "stream",
     "text": [
      "Shape of outcomes_sobol['Total Costs']: (150000,)\n"
     ]
    },
    {
     "name": "stderr",
     "output_type": "stream",
     "text": [
      "\n",
      "Sobol Analysis Progress:   0%|          | 0/3000 [00:00<?, ?it/s]\u001B[AC:\\Users\\Joost\\PycharmProjects\\venv\\lib\\site-packages\\SALib\\util\\__init__.py:274: FutureWarning: unique with argument that is not not a Series, Index, ExtensionArray, or np.ndarray is deprecated and will raise in a future version.\n",
      "  names = list(pd.unique(groups))\n",
      "\n",
      "Sobol Analysis Progress:   0%|          | 2/3000 [00:00<05:05,  9.81it/s]\u001B[A\n",
      "Sobol Analysis Progress:   0%|          | 3/3000 [00:00<06:14,  8.01it/s]\u001B[A\n",
      "Sobol Analysis Progress:   0%|          | 4/3000 [00:00<07:46,  6.43it/s]\u001B[A\n",
      "Sobol Analysis Progress:   0%|          | 5/3000 [00:00<09:50,  5.07it/s]\u001B[A\n",
      "Sobol Analysis Progress:   0%|          | 6/3000 [00:01<10:50,  4.60it/s]\u001B[A\n",
      "Sobol Analysis Progress:   0%|          | 7/3000 [00:01<11:53,  4.20it/s]\u001B[A\n",
      "Sobol Analysis Progress:   0%|          | 8/3000 [00:01<13:41,  3.64it/s]\u001B[A\n",
      "Sobol Analysis Progress:   0%|          | 9/3000 [00:02<18:16,  2.73it/s]\u001B[A\n",
      "Sobol Analysis Progress:   0%|          | 10/3000 [00:02<22:01,  2.26it/s]\u001B[A\n",
      "Sobol Analysis Progress:   0%|          | 11/3000 [00:03<21:32,  2.31it/s]\u001B[A\n",
      "Sobol Analysis Progress:   0%|          | 12/3000 [00:03<22:12,  2.24it/s]\u001B[A\n",
      "Sobol Analysis Progress:   0%|          | 13/3000 [00:04<23:07,  2.15it/s]\u001B[A\n",
      "Sobol Analysis Progress:   0%|          | 14/3000 [00:05<29:39,  1.68it/s]\u001B[A\n",
      "Sobol Analysis Progress:   0%|          | 15/3000 [00:06<35:20,  1.41it/s]\u001B[A\n",
      "Sobol Analysis Progress:   1%|          | 16/3000 [00:07<40:00,  1.24it/s]\u001B[A\n",
      "Sobol Analysis Progress:   1%|          | 17/3000 [00:08<44:15,  1.12it/s]\u001B[A\n",
      "Sobol Analysis Progress:   1%|          | 18/3000 [00:09<48:14,  1.03it/s]\u001B[A\n",
      "Sobol Analysis Progress:   1%|          | 19/3000 [00:10<52:26,  1.06s/it]\u001B[A\n",
      "Sobol Analysis Progress:   1%|          | 20/3000 [00:12<56:08,  1.13s/it]\u001B[A\n",
      "Sobol Analysis Progress:   1%|          | 21/3000 [00:13<59:43,  1.20s/it]\u001B[A\n",
      "Sobol Analysis Progress:   1%|          | 22/3000 [00:14<1:03:36,  1.28s/it]\u001B[A\n",
      "Sobol Analysis Progress:   1%|          | 23/3000 [00:16<1:07:13,  1.35s/it]\u001B[A\n",
      "Sobol Analysis Progress:   1%|          | 24/3000 [00:18<1:11:26,  1.44s/it]\u001B[A\n",
      "Sobol Analysis Progress:   1%|          | 25/3000 [00:19<1:15:42,  1.53s/it]\u001B[A\n",
      "Sobol Analysis Progress:   1%|          | 26/3000 [00:21<1:20:01,  1.61s/it]\u001B[A\n",
      "Sobol Analysis Progress:   1%|          | 27/3000 [00:23<1:30:06,  1.82s/it]\u001B[A\n",
      "Sobol Analysis Progress:   1%|          | 28/3000 [00:26<1:39:00,  2.00s/it]\u001B[A\n",
      "Sobol Analysis Progress:   1%|          | 29/3000 [00:28<1:45:55,  2.14s/it]\u001B[A\n",
      "Sobol Analysis Progress:   1%|          | 30/3000 [00:31<1:52:27,  2.27s/it]\u001B[A\n",
      "Sobol Analysis Progress:   1%|          | 31/3000 [00:33<1:57:39,  2.38s/it]\u001B[A\n",
      "Sobol Analysis Progress:   1%|          | 32/3000 [00:36<2:02:58,  2.49s/it]\u001B[A\n",
      "Sobol Analysis Progress:   1%|          | 33/3000 [00:39<2:07:48,  2.58s/it]\u001B[A\n",
      "Sobol Analysis Progress:   1%|          | 34/3000 [00:42<2:17:00,  2.77s/it]\u001B[A\n",
      "Sobol Analysis Progress:   1%|          | 35/3000 [00:45<2:20:11,  2.84s/it]\u001B[A\n",
      "Sobol Analysis Progress:   1%|          | 36/3000 [00:48<2:23:27,  2.90s/it]\u001B[A\n",
      "Sobol Analysis Progress:   1%|          | 37/3000 [00:52<2:28:52,  3.01s/it]\u001B[A\n",
      "Sobol Analysis Progress:   1%|▏         | 38/3000 [00:55<2:31:56,  3.08s/it]\u001B[A\n",
      "Sobol Analysis Progress:   1%|▏         | 39/3000 [00:58<2:35:31,  3.15s/it]\u001B[A\n",
      "Sobol Analysis Progress:   1%|▏         | 40/3000 [01:02<2:42:56,  3.30s/it]\u001B[A\n",
      "Sobol Analysis Progress:   1%|▏         | 41/3000 [01:06<2:52:06,  3.49s/it]\u001B[A\n",
      "Sobol Analysis Progress:   1%|▏         | 42/3000 [01:09<2:56:11,  3.57s/it]\u001B[A\n",
      "Sobol Analysis Progress:   1%|▏         | 43/3000 [01:13<2:59:47,  3.65s/it]\u001B[A\n",
      "Sobol Analysis Progress:   1%|▏         | 44/3000 [01:17<3:02:54,  3.71s/it]\u001B[A\n",
      "Sobol Analysis Progress:   2%|▏         | 45/3000 [01:21<3:07:29,  3.81s/it]\u001B[A\n",
      "Sobol Analysis Progress:   2%|▏         | 46/3000 [01:25<3:10:53,  3.88s/it]\u001B[A\n",
      "Sobol Analysis Progress:   2%|▏         | 47/3000 [01:29<3:15:20,  3.97s/it]\u001B[A\n",
      "Sobol Analysis Progress:   2%|▏         | 48/3000 [01:34<3:20:07,  4.07s/it]\u001B[A\n",
      "Sobol Analysis Progress:   2%|▏         | 49/3000 [01:38<3:24:03,  4.15s/it]\u001B[A\n",
      "Sobol Analysis Progress:   2%|▏         | 50/3000 [01:42<3:27:41,  4.22s/it]\u001B[A\n",
      "Sobol Analysis Progress:   2%|▏         | 51/3000 [01:47<3:31:47,  4.31s/it]\u001B[A\n",
      "Sobol Analysis Progress:   2%|▏         | 52/3000 [01:52<3:36:06,  4.40s/it]\u001B[A\n",
      "Sobol Analysis Progress:   2%|▏         | 53/3000 [01:56<3:39:49,  4.48s/it]\u001B[A\n",
      "Sobol Analysis Progress:   2%|▏         | 54/3000 [02:01<3:44:05,  4.56s/it]\u001B[A\n",
      "Sobol Analysis Progress:   2%|▏         | 55/3000 [02:06<3:48:42,  4.66s/it]\u001B[A\n",
      "Sobol Analysis Progress:   2%|▏         | 56/3000 [02:11<3:52:46,  4.74s/it]\u001B[A\n",
      "Sobol Analysis Progress:   2%|▏         | 57/3000 [02:16<3:56:55,  4.83s/it]\u001B[A\n",
      "Sobol Analysis Progress:   2%|▏         | 58/3000 [02:21<4:01:46,  4.93s/it]\u001B[A\n",
      "Sobol Analysis Progress:   2%|▏         | 59/3000 [02:26<4:08:08,  5.06s/it]\u001B[A\n",
      "Sobol Analysis Progress:   2%|▏         | 60/3000 [02:32<4:16:56,  5.24s/it]\u001B[A\n",
      "Sobol Analysis Progress:   2%|▏         | 61/3000 [02:37<4:19:23,  5.30s/it]\u001B[A\n",
      "Sobol Analysis Progress:   2%|▏         | 62/3000 [02:43<4:22:48,  5.37s/it]\u001B[A\n",
      "Sobol Analysis Progress:   2%|▏         | 63/3000 [02:49<4:25:35,  5.43s/it]\u001B[A\n",
      "Sobol Analysis Progress:   2%|▏         | 64/3000 [02:54<4:29:49,  5.51s/it]\u001B[A\n",
      "Sobol Analysis Progress:   2%|▏         | 65/3000 [03:00<4:39:53,  5.72s/it]\u001B[A\n",
      "Sobol Analysis Progress:   2%|▏         | 66/3000 [03:07<4:44:53,  5.83s/it]\u001B[A\n",
      "Sobol Analysis Progress:   2%|▏         | 67/3000 [03:13<4:50:14,  5.94s/it]\u001B[A\n",
      "Sobol Analysis Progress:   2%|▏         | 68/3000 [03:19<4:55:57,  6.06s/it]\u001B[A\n",
      "Sobol Analysis Progress:   2%|▏         | 69/3000 [03:25<4:58:54,  6.12s/it]\u001B[A\n",
      "Sobol Analysis Progress:   2%|▏         | 70/3000 [03:32<5:01:40,  6.18s/it]\u001B[A\n",
      "Sobol Analysis Progress:   2%|▏         | 71/3000 [03:38<5:04:26,  6.24s/it]\u001B[A\n",
      "Sobol Analysis Progress:   2%|▏         | 72/3000 [03:45<5:08:20,  6.32s/it]\u001B[A\n",
      "Sobol Analysis Progress:   2%|▏         | 73/3000 [03:51<5:13:20,  6.42s/it]\u001B[A\n",
      "Sobol Analysis Progress:   2%|▏         | 74/3000 [03:59<5:32:07,  6.81s/it]\u001B[A\n",
      "Sobol Analysis Progress:   2%|▎         | 75/3000 [04:08<6:04:14,  7.47s/it]\u001B[A\n",
      "Sobol Analysis Progress:   3%|▎         | 76/3000 [04:16<6:06:40,  7.52s/it]\u001B[A\n",
      "Sobol Analysis Progress:   3%|▎         | 77/3000 [04:24<6:22:38,  7.85s/it]\u001B[A\n",
      "Sobol Analysis Progress:   3%|▎         | 78/3000 [04:31<6:11:01,  7.62s/it]\u001B[A\n",
      "Sobol Analysis Progress:   3%|▎         | 79/3000 [04:38<5:59:16,  7.38s/it]\u001B[A\n",
      "Sobol Analysis Progress:   3%|▎         | 80/3000 [04:45<5:48:56,  7.17s/it]\u001B[A\n",
      "Sobol Analysis Progress:   3%|▎         | 81/3000 [04:51<5:40:56,  7.01s/it]\u001B[A\n",
      "Sobol Analysis Progress:   3%|▎         | 82/3000 [04:58<5:35:04,  6.89s/it]\u001B[A\n",
      "Sobol Analysis Progress:   3%|▎         | 83/3000 [05:05<5:31:13,  6.81s/it]\u001B[A\n",
      "Sobol Analysis Progress:   3%|▎         | 84/3000 [05:11<5:28:10,  6.75s/it]\u001B[A\n",
      "Sobol Analysis Progress:   3%|▎         | 85/3000 [05:18<5:26:18,  6.72s/it]\u001B[A\n",
      "Sobol Analysis Progress:   3%|▎         | 86/3000 [05:25<5:25:10,  6.70s/it]\u001B[A\n",
      "Sobol Analysis Progress:   3%|▎         | 87/3000 [05:31<5:23:40,  6.67s/it]\u001B[A\n",
      "Sobol Analysis Progress:   3%|▎         | 88/3000 [05:38<5:23:04,  6.66s/it]\u001B[A\n",
      "Sobol Analysis Progress:   3%|▎         | 89/3000 [05:44<5:22:32,  6.65s/it]\u001B[A\n",
      "Sobol Analysis Progress:   3%|▎         | 90/3000 [05:51<5:22:11,  6.64s/it]\u001B[A\n",
      "Sobol Analysis Progress:   3%|▎         | 91/3000 [05:58<5:22:08,  6.64s/it]\u001B[A\n",
      "Sobol Analysis Progress:   3%|▎         | 92/3000 [06:04<5:22:40,  6.66s/it]\u001B[A\n",
      "Sobol Analysis Progress:   3%|▎         | 93/3000 [06:11<5:22:53,  6.66s/it]\u001B[A\n",
      "Sobol Analysis Progress:   3%|▎         | 94/3000 [06:18<5:22:04,  6.65s/it]\u001B[A\n",
      "Sobol Analysis Progress:   3%|▎         | 95/3000 [06:24<5:22:05,  6.65s/it]\u001B[A\n",
      "Sobol Analysis Progress:   3%|▎         | 96/3000 [06:31<5:21:11,  6.64s/it]\u001B[A\n",
      "Sobol Analysis Progress:   3%|▎         | 97/3000 [06:38<5:22:04,  6.66s/it]\u001B[A\n",
      "Sobol Analysis Progress:   3%|▎         | 98/3000 [06:44<5:22:52,  6.68s/it]\u001B[A\n",
      "Sobol Analysis Progress:   3%|▎         | 99/3000 [06:51<5:23:01,  6.68s/it]\u001B[A\n",
      "Sobol Analysis Progress:   3%|▎         | 100/3000 [06:58<5:23:32,  6.69s/it]\u001B[A\n",
      "Sobol Analysis Progress:   3%|▎         | 101/3000 [07:04<5:23:27,  6.69s/it]\u001B[A\n",
      "Sobol Analysis Progress:   3%|▎         | 102/3000 [07:12<5:28:50,  6.81s/it]\u001B[A\n",
      "Sobol Analysis Progress:   3%|▎         | 103/3000 [07:19<5:31:48,  6.87s/it]\u001B[A\n",
      "Sobol Analysis Progress:   3%|▎         | 104/3000 [07:25<5:29:54,  6.83s/it]\u001B[A\n",
      "Sobol Analysis Progress:   4%|▎         | 105/3000 [07:32<5:29:09,  6.82s/it]\u001B[A\n",
      "Sobol Analysis Progress:   4%|▎         | 106/3000 [07:39<5:28:42,  6.81s/it]\u001B[A\n",
      "Sobol Analysis Progress:   4%|▎         | 107/3000 [07:46<5:40:00,  7.05s/it]\u001B[A\n",
      "Sobol Analysis Progress:   4%|▎         | 108/3000 [07:54<5:42:20,  7.10s/it]\u001B[A\n",
      "Sobol Analysis Progress:   4%|▎         | 109/3000 [08:01<5:40:36,  7.07s/it]\u001B[A\n",
      "Sobol Analysis Progress:   4%|▎         | 110/3000 [08:07<5:33:57,  6.93s/it]\u001B[A\n",
      "Sobol Analysis Progress:   4%|▎         | 111/3000 [08:14<5:29:29,  6.84s/it]\u001B[A\n",
      "Sobol Analysis Progress:   4%|▎         | 112/3000 [08:21<5:26:06,  6.78s/it]\u001B[A\n",
      "Sobol Analysis Progress:   4%|▍         | 113/3000 [08:27<5:23:52,  6.73s/it]\u001B[A\n",
      "Sobol Analysis Progress:   4%|▍         | 114/3000 [08:34<5:22:28,  6.70s/it]\u001B[A\n",
      "Sobol Analysis Progress:   4%|▍         | 115/3000 [08:41<5:28:19,  6.83s/it]\u001B[A\n",
      "Sobol Analysis Progress:   4%|▍         | 116/3000 [08:48<5:34:01,  6.95s/it]\u001B[A\n",
      "Sobol Analysis Progress:   4%|▍         | 117/3000 [08:56<5:41:57,  7.12s/it]\u001B[A"
     ]
    }
   ],
   "source": [
    "import pandas as pd\n",
    "import numpy as np\n",
    "from tqdm import tqdm\n",
    "from SALib.analyze import sobol\n",
    "\n",
    "# Check the shape of the data\n",
    "print(f\"Shape of outcomes_sobol['Total Costs']: {outcomes_sobol['Total Costs'].shape}\")\n",
    "\n",
    "# Perform Sobol analysis\n",
    "n_exp = outcomes_sobol['Total Costs'].shape[0]\n",
    "\n",
    "# DataFrame to store Sobol indices\n",
    "s_data = pd.DataFrame(index=problem['names'], columns=np.arange(20, n_exp, 50) * (2 * problem['num_vars'] + 2))\n",
    "\n",
    "try:\n",
    "    # Using tqdm to show progress\n",
    "    for j in tqdm(s_data.columns, desc=\"Sobol Analysis Progress\"):\n",
    "        # Ensure Y is properly indexed\n",
    "        scores = sobol.analyze(problem, outcomes_sobol['Total Costs'][0:j], calc_second_order=True, print_to_console=False)\n",
    "        s_data.loc[:, j] = scores['ST']\n",
    "    print(\"Sobol analysis completed successfully\")\n",
    "except IndexError as e:\n",
    "    print(f\"IndexError during Sobol analysis: {e}\")\n",
    "except Exception as e:\n",
    "    print(f\"Error during Sobol analysis: {e}\")\n",
    "\n",
    "# Print the resulting DataFrame\n",
    "print(s_data)\n"
   ],
   "metadata": {
    "collapsed": false,
    "is_executing": true,
    "ExecuteTime": {
     "start_time": "2024-06-08T09:09:40.053049800Z"
    }
   },
   "id": "dfc2ebd9f0bee8ec"
  },
  {
   "cell_type": "code",
   "execution_count": null,
   "outputs": [],
   "source": [
    "fig, ax = plt.subplots(1)\n",
    "\n",
    "s_data.T.plot(ax=ax)\n",
    "ax.set_xlabel('Samples')\n",
    "ax.set_ylabel('Total index (ST)')\n",
    "plt.show()"
   ],
   "metadata": {
    "collapsed": false,
    "ExecuteTime": {
     "start_time": "2024-06-03T14:35:22.697089900Z"
    }
   },
   "id": "e409c51df07de3c"
  }
 ],
 "metadata": {
  "kernelspec": {
   "display_name": "Python 3",
   "language": "python",
   "name": "python3"
  },
  "language_info": {
   "codemirror_mode": {
    "name": "ipython",
    "version": 2
   },
   "file_extension": ".py",
   "mimetype": "text/x-python",
   "name": "python",
   "nbconvert_exporter": "python",
   "pygments_lexer": "ipython2",
   "version": "2.7.6"
  }
 },
 "nbformat": 4,
 "nbformat_minor": 5
}
