{
 "cells": [
  {
   "cell_type": "markdown",
   "source": [
    "### Sensitivity analysis --> Sobol \n",
    "Defining parameters to vary and find variance on parameters outcome --> damage important to all actors\n",
    "Finding variance that explains that damage is highest in other scenarios --> RfR & damage is low --> dike heightening "
   ],
   "metadata": {
    "collapsed": false
   },
   "id": "f2585c40ca2d6b01"
  },
  {
   "cell_type": "code",
   "execution_count": 1,
   "id": "initial_id",
   "metadata": {
    "collapsed": true,
    "ExecuteTime": {
     "end_time": "2024-06-06T15:19:53.834104400Z",
     "start_time": "2024-06-06T15:19:48.957666Z"
    }
   },
   "outputs": [],
   "source": [
    "## Importing all functions\n",
    "\n",
    "%matplotlib inline\n",
    "import numpy as np\n",
    "import pandas as pd\n",
    "\n",
    "import matplotlib.pyplot as plt\n",
    "import seaborn as sns\n",
    "sns.set_style('white')\n",
    "\n",
    "from ema_workbench import (Model, RealParameter, TimeSeriesOutcome,\n",
    "                           perform_experiments, ema_logging,Policy)\n",
    "\n",
    "from ema_workbench import Samplers\n",
    "\n",
    "from ema_workbench.analysis import feature_scoring\n",
    "from ema_workbench.analysis.scenario_discovery_util import RuleInductionType\n",
    "from ema_workbench.em_framework.salib_samplers import get_SALib_problem\n",
    "\n",
    "from ema_workbench.analysis.scenario_discovery_util import RuleInductionType\n",
    "\n",
    "from ema_workbench.util import ema_logging\n",
    "\n",
    "from dike_model_function import DikeNetwork\n",
    "\n",
    "# exp, out = evaluator.perform_experiments(...,uncertainty_sampling=Samplers.SOBOL)\n",
    "\n",
    "from SALib.analyze import sobol\n"
   ]
  },
  {
   "cell_type": "code",
   "execution_count": 19,
   "outputs": [
    {
     "name": "stdout",
     "output_type": "stream",
     "text": [
      "{'num_vars': 19, 'names': ['A.0_ID flood wave shape', 'A.1_Bmax', 'A.1_Brate', 'A.1_pfail', 'A.2_Bmax', 'A.2_Brate', 'A.2_pfail', 'A.3_Bmax', 'A.3_Brate', 'A.3_pfail', 'A.4_Bmax', 'A.4_Brate', 'A.4_pfail', 'A.5_Bmax', 'A.5_Brate', 'A.5_pfail', 'discount rate 0', 'discount rate 1', 'discount rate 2'], 'bounds': [(0, 133), (30, 350), (0, 3), (0, 1), (30, 350), (0, 3), (0, 1), (30, 350), (0, 3), (0, 1), (30, 350), (0, 3), (0, 1), (30, 350), (0, 3), (0, 1), (0, 4), (0, 4), (0, 4)]}\n"
     ]
    }
   ],
   "source": [
    "from ema_workbench import (\n",
    "    Model,\n",
    "    RealParameter,\n",
    "    IntegerParameter,\n",
    "    CategoricalParameter,\n",
    "    ScalarOutcome,\n",
    "    Samplers,\n",
    "    perform_experiments\n",
    ")\n",
    "from ema_workbench.em_framework import Samplers\n",
    "from ema_workbench.em_framework.salib_samplers import (get_SALib_problem)\n",
    "from dike_model_function import DikeNetwork\n",
    "from ema_workbench.util import ema_logging\n",
    "from SALib.analyze import sobol\n",
    "\n",
    "# Define the sum_over function\n",
    "def sum_over(*args):\n",
    "    numbers = []\n",
    "    for entry in args:\n",
    "        try:\n",
    "            value = sum(entry)\n",
    "        except TypeError:\n",
    "            value = entry\n",
    "        numbers.append(value)\n",
    "    return sum(numbers)\n",
    "\n",
    "# Configure logging\n",
    "# ema_logging.log_to_stderr(ema_logging.INFO)\n",
    "\n",
    "# Define the function to get the model for the given problem formulation\n",
    "def get_model_for_problem_formulation(problem_formulation_id):\n",
    "    function = DikeNetwork()\n",
    "    dike_model = Model(\"dikesnet\", function=function)\n",
    "\n",
    "    Real_uncert = {\"Bmax\": [30, 350], \"pfail\": [0, 1]}  # m and [.]\n",
    "    cat_uncert_loc = {\"Brate\": (1.0, 1.5, 10)}\n",
    "    cat_uncert = {f\"discount rate {n}\": (1.5, 2.5, 3.5, 4.5) for n in function.planning_steps}\n",
    "    Int_uncert = {\"A.0_ID flood wave shape\": [0, 132]}\n",
    "\n",
    "    uncertainties = []\n",
    "\n",
    "    for uncert_name in cat_uncert.keys():\n",
    "        categories = cat_uncert[uncert_name]\n",
    "        uncertainties.append(CategoricalParameter(uncert_name, categories))\n",
    "\n",
    "    for uncert_name in Int_uncert.keys():\n",
    "        uncertainties.append(IntegerParameter(uncert_name, Int_uncert[uncert_name][0], Int_uncert[uncert_name][1]))\n",
    "\n",
    "    dike_height_levers = []\n",
    "    for dike in function.dikelist:\n",
    "        for uncert_name in Real_uncert.keys():\n",
    "            name = f\"{dike}_{uncert_name}\"\n",
    "            lower, upper = Real_uncert[uncert_name]\n",
    "            uncertainties.append(RealParameter(name, lower, upper))\n",
    "\n",
    "        for uncert_name in cat_uncert_loc.keys():\n",
    "            name = f\"{dike}_{uncert_name}\"\n",
    "            categories = cat_uncert_loc[uncert_name]\n",
    "            uncertainties.append(CategoricalParameter(name, categories))\n",
    "        \n",
    "        for n in function.planning_steps:\n",
    "            name = f\"{dike}_DikeIncrease {n}\"\n",
    "            dike_height_levers.append(IntegerParameter(name, 0, 10))\n",
    "        \n",
    "    dike_model.uncertainties = uncertainties\n",
    "\n",
    "    dike_height_levers.append(IntegerParameter(\"EWS_DaysToThreat\", 0, 4))  # days\n",
    "    # Set levers: No RfR, dike heightening\n",
    "    dike_model.levers = dike_height_levers\n",
    "\n",
    "    # Define the outcomes\n",
    "    outcomes = [\n",
    "        ScalarOutcome('Total Costs', kind=ScalarOutcome.MINIMIZE, function=sum_over, variable_name=[\n",
    "            f\"{dike}_Expected Annual Damage\" for dike in function.dikelist] +\n",
    "            [f\"{dike}_Dike Investment Costs\" for dike in function.dikelist] +\n",
    "            [\"RfR Total Costs\"] \n",
    "        ),\n",
    "        ScalarOutcome('Expected Number of Deaths', kind=ScalarOutcome.MINIMIZE, function=sum_over, variable_name=[\n",
    "            f\"{dike}_Expected Number of Deaths\" for dike in function.dikelist]\n",
    "        ),\n",
    "        ScalarOutcome('Expected Annual Damage', kind=ScalarOutcome.MINIMIZE, variable_name=[\n",
    "            f\"{dike}_Expected Annual Damage\" for dike in function.dikelist]),\n",
    "        ScalarOutcome('Dike Investment Costs', kind=ScalarOutcome.MINIMIZE, variable_name=[f\"{dike}_Dike Investment Costs\" for dike in function.dikelist]),\n",
    "        ScalarOutcome('RfR Total Costs', kind=ScalarOutcome.MINIMIZE, variable_name=[\"RfR Total Costs\"] )\n",
    "\n",
    "    ]\n",
    "    \n",
    "    # \n",
    "    # # Define the levers\n",
    "    # levers = [\n",
    "    #     # Range of dike heightening:\n",
    "    #     IntegerParameter(\"DikeIncrease\", 0, 10),  # dm\n",
    "    # \n",
    "    #     # Series of five Room for the River projects:\n",
    "    #     *[CategoricalParameter(f\"{project_id}_RfR\", [0, 1]) for project_id in range(0, 5)],\n",
    "    # \n",
    "    #     # Time of warning: 0, 1, 2, 3, 4 days ahead from the flood\n",
    "    #     IntegerParameter(\"EWS_DaysToThreat\", 0, 4)  # days\n",
    "    # ]\n",
    "\n",
    "    # Assign uncertainties, outcomes, and levers to the model\n",
    "    # dike_model.uncertainties = uncertainties\n",
    "    dike_model.outcomes = outcomes\n",
    "    \n",
    "    # dike_model.levers = levers \n",
    "\n",
    "    return dike_model\n",
    "\n",
    "# Get the model for a specific problem formulation\n",
    "problem_formulation_id = 6  # Change this to the desired problem formulation\n",
    "dike_model = get_model_for_problem_formulation(problem_formulation_id)\n",
    "\n",
    "# Get SALib problem\n",
    "problem = get_SALib_problem(dike_model.uncertainties)\n",
    "\n",
    "# Print the problem definition\n",
    "print(problem)\n"
   ],
   "metadata": {
    "collapsed": false,
    "ExecuteTime": {
     "end_time": "2024-06-07T09:23:54.697599700Z",
     "start_time": "2024-06-07T09:23:54.517244300Z"
    }
   },
   "id": "323e83e265fb2b55"
  },
  {
   "cell_type": "code",
   "execution_count": 20,
   "outputs": [
    {
     "name": "stderr",
     "output_type": "stream",
     "text": [
      "C:\\Users\\Joost\\PycharmProjects\\venv\\lib\\site-packages\\scipy\\stats\\_qmc.py:804: UserWarning: The balance properties of Sobol' points require n to be a power of 2.\n",
      "  sample = self._random(n, workers=workers)\n",
      "\n",
      "  0%|                                                | 0/90000 [04:07<?, ?it/s]\u001B[A\n"
     ]
    },
    {
     "ename": "EMAError",
     "evalue": "More than one value returned without processing function",
     "output_type": "error",
     "traceback": [
      "\u001B[1;31m---------------------------------------------------------------------------\u001B[0m",
      "\u001B[1;31mEMAError\u001B[0m                                  Traceback (most recent call last)",
      "Cell \u001B[1;32mIn[20], line 3\u001B[0m\n\u001B[0;32m      1\u001B[0m n_exp \u001B[38;5;241m=\u001B[39m \u001B[38;5;241m750\u001B[39m\n\u001B[1;32m----> 3\u001B[0m experiments_sobol, outcomes_sobol \u001B[38;5;241m=\u001B[39m \u001B[43mperform_experiments\u001B[49m\u001B[43m(\u001B[49m\u001B[43mdike_model\u001B[49m\u001B[43m,\u001B[49m\u001B[43m \u001B[49m\u001B[43mscenarios\u001B[49m\u001B[38;5;241;43m=\u001B[39;49m\u001B[43mn_exp\u001B[49m\u001B[43m,\u001B[49m\n\u001B[0;32m      4\u001B[0m \u001B[43m                                                        \u001B[49m\u001B[43mpolicies\u001B[49m\u001B[38;5;241;43m=\u001B[39;49m\u001B[38;5;241;43m3\u001B[39;49m\u001B[43m,\u001B[49m\n\u001B[0;32m      5\u001B[0m \u001B[43m                                                        \u001B[49m\u001B[43muncertainty_sampling\u001B[49m\u001B[38;5;241;43m=\u001B[39;49m\u001B[43mSamplers\u001B[49m\u001B[38;5;241;43m.\u001B[39;49m\u001B[43mSOBOL\u001B[49m\u001B[43m)\u001B[49m\n\u001B[0;32m      7\u001B[0m dike_final_sobol \u001B[38;5;241m=\u001B[39m outcomes_sobol[\u001B[38;5;124m\"\u001B[39m\u001B[38;5;124mTotal Costs\u001B[39m\u001B[38;5;124m\"\u001B[39m][:,\u001B[38;5;241m0\u001B[39m,\u001B[38;5;241m-\u001B[39m\u001B[38;5;241m1\u001B[39m]\n\u001B[0;32m      8\u001B[0m dike_mean_sobol \u001B[38;5;241m=\u001B[39m np\u001B[38;5;241m.\u001B[39mmean(outcomes_sobol[\u001B[38;5;124m\"\u001B[39m\u001B[38;5;124mTotal Costs\u001B[39m\u001B[38;5;124m\"\u001B[39m][:,\u001B[38;5;241m0\u001B[39m,:],axis\u001B[38;5;241m=\u001B[39m\u001B[38;5;241m1\u001B[39m)\n",
      "File \u001B[1;32m~\\PycharmProjects\\venv\\lib\\site-packages\\ema_workbench\\em_framework\\evaluators.py:406\u001B[0m, in \u001B[0;36mperform_experiments\u001B[1;34m(models, scenarios, policies, evaluator, reporting_interval, reporting_frequency, uncertainty_union, lever_union, outcome_union, uncertainty_sampling, lever_sampling, callback, return_callback, combine, log_progress, **kwargs)\u001B[0m\n\u001B[0;32m    403\u001B[0m \u001B[38;5;28;01mif\u001B[39;00m \u001B[38;5;129;01mnot\u001B[39;00m evaluator:\n\u001B[0;32m    404\u001B[0m     evaluator \u001B[38;5;241m=\u001B[39m SequentialEvaluator(models)\n\u001B[1;32m--> 406\u001B[0m evaluator\u001B[38;5;241m.\u001B[39mevaluate_experiments(scenarios, policies, callback, combine\u001B[38;5;241m=\u001B[39mcombine, \u001B[38;5;241m*\u001B[39m\u001B[38;5;241m*\u001B[39mkwargs)\n\u001B[0;32m    408\u001B[0m \u001B[38;5;28;01mif\u001B[39;00m callback\u001B[38;5;241m.\u001B[39mi \u001B[38;5;241m!=\u001B[39m nr_of_exp:\n\u001B[0;32m    409\u001B[0m     \u001B[38;5;28;01mraise\u001B[39;00m EMAError(\n\u001B[0;32m    410\u001B[0m         \u001B[38;5;124mf\u001B[39m\u001B[38;5;124m\"\u001B[39m\u001B[38;5;124mSome fatal error has occurred while running the experiments, not all runs have completed. Expected \u001B[39m\u001B[38;5;132;01m{\u001B[39;00mnr_of_exp\u001B[38;5;132;01m}\u001B[39;00m\u001B[38;5;124m, got \u001B[39m\u001B[38;5;132;01m{\u001B[39;00mcallback\u001B[38;5;241m.\u001B[39mi\u001B[38;5;132;01m}\u001B[39;00m\u001B[38;5;124m\"\u001B[39m\n\u001B[0;32m    411\u001B[0m     )\n",
      "File \u001B[1;32m~\\PycharmProjects\\venv\\lib\\site-packages\\ema_workbench\\em_framework\\evaluators.py:291\u001B[0m, in \u001B[0;36mSequentialEvaluator.evaluate_experiments\u001B[1;34m(self, scenarios, policies, callback, combine)\u001B[0m\n\u001B[0;32m    288\u001B[0m runner \u001B[38;5;241m=\u001B[39m ExperimentRunner(models)\n\u001B[0;32m    290\u001B[0m \u001B[38;5;28;01mfor\u001B[39;00m experiment \u001B[38;5;129;01min\u001B[39;00m ex_gen:\n\u001B[1;32m--> 291\u001B[0m     outcomes \u001B[38;5;241m=\u001B[39m \u001B[43mrunner\u001B[49m\u001B[38;5;241;43m.\u001B[39;49m\u001B[43mrun_experiment\u001B[49m\u001B[43m(\u001B[49m\u001B[43mexperiment\u001B[49m\u001B[43m)\u001B[49m\n\u001B[0;32m    292\u001B[0m     callback(experiment, outcomes)\n\u001B[0;32m    293\u001B[0m runner\u001B[38;5;241m.\u001B[39mcleanup()\n",
      "File \u001B[1;32m~\\PycharmProjects\\venv\\lib\\site-packages\\ema_workbench\\util\\ema_logging.py:153\u001B[0m, in \u001B[0;36mmethod_logger.<locals>.real_decorator.<locals>.wrapper\u001B[1;34m(*args, **kwargs)\u001B[0m\n\u001B[0;32m    148\u001B[0m \u001B[38;5;129m@wraps\u001B[39m(func)\n\u001B[0;32m    149\u001B[0m \u001B[38;5;28;01mdef\u001B[39;00m \u001B[38;5;21mwrapper\u001B[39m(\u001B[38;5;241m*\u001B[39margs, \u001B[38;5;241m*\u001B[39m\u001B[38;5;241m*\u001B[39mkwargs):\n\u001B[0;32m    150\u001B[0m     \u001B[38;5;66;03m# hack, because log is applied to methods, we can get\u001B[39;00m\n\u001B[0;32m    151\u001B[0m     \u001B[38;5;66;03m# object instance as first arguments in args\u001B[39;00m\n\u001B[0;32m    152\u001B[0m     logger\u001B[38;5;241m.\u001B[39mdebug(\u001B[38;5;124mf\u001B[39m\u001B[38;5;124m\"\u001B[39m\u001B[38;5;124mcalling \u001B[39m\u001B[38;5;132;01m{\u001B[39;00mfunc\u001B[38;5;241m.\u001B[39m\u001B[38;5;18m__name__\u001B[39m\u001B[38;5;132;01m}\u001B[39;00m\u001B[38;5;124m on \u001B[39m\u001B[38;5;132;01m{\u001B[39;00mclassname\u001B[38;5;132;01m}\u001B[39;00m\u001B[38;5;124m\"\u001B[39m)\n\u001B[1;32m--> 153\u001B[0m     res \u001B[38;5;241m=\u001B[39m func(\u001B[38;5;241m*\u001B[39margs, \u001B[38;5;241m*\u001B[39m\u001B[38;5;241m*\u001B[39mkwargs)\n\u001B[0;32m    154\u001B[0m     logger\u001B[38;5;241m.\u001B[39mdebug(\u001B[38;5;124mf\u001B[39m\u001B[38;5;124m\"\u001B[39m\u001B[38;5;124mcompleted calling \u001B[39m\u001B[38;5;132;01m{\u001B[39;00mfunc\u001B[38;5;241m.\u001B[39m\u001B[38;5;18m__name__\u001B[39m\u001B[38;5;132;01m}\u001B[39;00m\u001B[38;5;124m on \u001B[39m\u001B[38;5;132;01m{\u001B[39;00mclassname\u001B[38;5;132;01m}\u001B[39;00m\u001B[38;5;124m\"\u001B[39m)\n\u001B[0;32m    155\u001B[0m     \u001B[38;5;28;01mreturn\u001B[39;00m res\n",
      "File \u001B[1;32m~\\PycharmProjects\\venv\\lib\\site-packages\\ema_workbench\\em_framework\\experiment_runner.py:92\u001B[0m, in \u001B[0;36mExperimentRunner.run_experiment\u001B[1;34m(self, experiment)\u001B[0m\n\u001B[0;32m     85\u001B[0m _logger\u001B[38;5;241m.\u001B[39mdebug(\n\u001B[0;32m     86\u001B[0m     \u001B[38;5;28mself\u001B[39m\u001B[38;5;241m.\u001B[39mlog_message\u001B[38;5;241m.\u001B[39mformat(\n\u001B[0;32m     87\u001B[0m         scenario_id\u001B[38;5;241m=\u001B[39mscenario_id, policy_name\u001B[38;5;241m=\u001B[39mpolicy_name, model_name\u001B[38;5;241m=\u001B[39mmodel_name\n\u001B[0;32m     88\u001B[0m     )\n\u001B[0;32m     89\u001B[0m )\n\u001B[0;32m     91\u001B[0m \u001B[38;5;28;01mtry\u001B[39;00m:\n\u001B[1;32m---> 92\u001B[0m     \u001B[43mmodel\u001B[49m\u001B[38;5;241;43m.\u001B[39;49m\u001B[43mrun_model\u001B[49m\u001B[43m(\u001B[49m\u001B[43mscenario\u001B[49m\u001B[43m,\u001B[49m\u001B[43m \u001B[49m\u001B[43mpolicy\u001B[49m\u001B[43m)\u001B[49m\n\u001B[0;32m     93\u001B[0m \u001B[38;5;28;01mexcept\u001B[39;00m CaseError \u001B[38;5;28;01mas\u001B[39;00m e:\n\u001B[0;32m     94\u001B[0m     _logger\u001B[38;5;241m.\u001B[39mwarning(\u001B[38;5;28mstr\u001B[39m(e))\n",
      "File \u001B[1;32m~\\PycharmProjects\\venv\\lib\\site-packages\\ema_workbench\\util\\ema_logging.py:153\u001B[0m, in \u001B[0;36mmethod_logger.<locals>.real_decorator.<locals>.wrapper\u001B[1;34m(*args, **kwargs)\u001B[0m\n\u001B[0;32m    148\u001B[0m \u001B[38;5;129m@wraps\u001B[39m(func)\n\u001B[0;32m    149\u001B[0m \u001B[38;5;28;01mdef\u001B[39;00m \u001B[38;5;21mwrapper\u001B[39m(\u001B[38;5;241m*\u001B[39margs, \u001B[38;5;241m*\u001B[39m\u001B[38;5;241m*\u001B[39mkwargs):\n\u001B[0;32m    150\u001B[0m     \u001B[38;5;66;03m# hack, because log is applied to methods, we can get\u001B[39;00m\n\u001B[0;32m    151\u001B[0m     \u001B[38;5;66;03m# object instance as first arguments in args\u001B[39;00m\n\u001B[0;32m    152\u001B[0m     logger\u001B[38;5;241m.\u001B[39mdebug(\u001B[38;5;124mf\u001B[39m\u001B[38;5;124m\"\u001B[39m\u001B[38;5;124mcalling \u001B[39m\u001B[38;5;132;01m{\u001B[39;00mfunc\u001B[38;5;241m.\u001B[39m\u001B[38;5;18m__name__\u001B[39m\u001B[38;5;132;01m}\u001B[39;00m\u001B[38;5;124m on \u001B[39m\u001B[38;5;132;01m{\u001B[39;00mclassname\u001B[38;5;132;01m}\u001B[39;00m\u001B[38;5;124m\"\u001B[39m)\n\u001B[1;32m--> 153\u001B[0m     res \u001B[38;5;241m=\u001B[39m func(\u001B[38;5;241m*\u001B[39margs, \u001B[38;5;241m*\u001B[39m\u001B[38;5;241m*\u001B[39mkwargs)\n\u001B[0;32m    154\u001B[0m     logger\u001B[38;5;241m.\u001B[39mdebug(\u001B[38;5;124mf\u001B[39m\u001B[38;5;124m\"\u001B[39m\u001B[38;5;124mcompleted calling \u001B[39m\u001B[38;5;132;01m{\u001B[39;00mfunc\u001B[38;5;241m.\u001B[39m\u001B[38;5;18m__name__\u001B[39m\u001B[38;5;132;01m}\u001B[39;00m\u001B[38;5;124m on \u001B[39m\u001B[38;5;132;01m{\u001B[39;00mclassname\u001B[38;5;132;01m}\u001B[39;00m\u001B[38;5;124m\"\u001B[39m)\n\u001B[0;32m    155\u001B[0m     \u001B[38;5;28;01mreturn\u001B[39;00m res\n",
      "File \u001B[1;32m~\\PycharmProjects\\venv\\lib\\site-packages\\ema_workbench\\em_framework\\model.py:349\u001B[0m, in \u001B[0;36mSingleReplication.run_model\u001B[1;34m(self, scenario, policy)\u001B[0m\n\u001B[0;32m    345\u001B[0m experiment \u001B[38;5;241m=\u001B[39m ExperimentReplication(scenario, \u001B[38;5;28mself\u001B[39m\u001B[38;5;241m.\u001B[39mpolicy, constants)\n\u001B[0;32m    347\u001B[0m outputs \u001B[38;5;241m=\u001B[39m \u001B[38;5;28mself\u001B[39m\u001B[38;5;241m.\u001B[39mrun_experiment(experiment)\n\u001B[1;32m--> 349\u001B[0m \u001B[38;5;28;43mself\u001B[39;49m\u001B[38;5;241;43m.\u001B[39;49m\u001B[43moutcomes_output\u001B[49m \u001B[38;5;241m=\u001B[39m outputs\n\u001B[0;32m    350\u001B[0m \u001B[38;5;28mself\u001B[39m\u001B[38;5;241m.\u001B[39mconstraints_output \u001B[38;5;241m=\u001B[39m (experiment, \u001B[38;5;28mself\u001B[39m\u001B[38;5;241m.\u001B[39moutcomes_output)\n",
      "File \u001B[1;32m~\\PycharmProjects\\venv\\lib\\site-packages\\ema_workbench\\em_framework\\model.py:69\u001B[0m, in \u001B[0;36mAbstractModel.outcomes_output\u001B[1;34m(self, outputs)\u001B[0m\n\u001B[0;32m     67\u001B[0m \u001B[38;5;28;01mfor\u001B[39;00m outcome \u001B[38;5;129;01min\u001B[39;00m \u001B[38;5;28mself\u001B[39m\u001B[38;5;241m.\u001B[39moutcomes:\n\u001B[0;32m     68\u001B[0m     data \u001B[38;5;241m=\u001B[39m [outputs[var] \u001B[38;5;28;01mfor\u001B[39;00m var \u001B[38;5;129;01min\u001B[39;00m outcome\u001B[38;5;241m.\u001B[39mvariable_name]\n\u001B[1;32m---> 69\u001B[0m     \u001B[38;5;28mself\u001B[39m\u001B[38;5;241m.\u001B[39m_outcomes_output[outcome\u001B[38;5;241m.\u001B[39mname] \u001B[38;5;241m=\u001B[39m \u001B[43moutcome\u001B[49m\u001B[38;5;241;43m.\u001B[39;49m\u001B[43mprocess\u001B[49m\u001B[43m(\u001B[49m\u001B[43mdata\u001B[49m\u001B[43m)\u001B[49m\n",
      "File \u001B[1;32m~\\PycharmProjects\\venv\\lib\\site-packages\\ema_workbench\\em_framework\\outcomes.py:331\u001B[0m, in \u001B[0;36mScalarOutcome.process\u001B[1;34m(self, values)\u001B[0m\n\u001B[0;32m    330\u001B[0m \u001B[38;5;28;01mdef\u001B[39;00m \u001B[38;5;21mprocess\u001B[39m(\u001B[38;5;28mself\u001B[39m, values):\n\u001B[1;32m--> 331\u001B[0m     values \u001B[38;5;241m=\u001B[39m \u001B[38;5;28;43msuper\u001B[39;49m\u001B[43m(\u001B[49m\u001B[43m)\u001B[49m\u001B[38;5;241;43m.\u001B[39;49m\u001B[43mprocess\u001B[49m\u001B[43m(\u001B[49m\u001B[43mvalues\u001B[49m\u001B[43m)\u001B[49m\n\u001B[0;32m    332\u001B[0m     \u001B[38;5;28;01mif\u001B[39;00m \u001B[38;5;129;01mnot\u001B[39;00m \u001B[38;5;28misinstance\u001B[39m(values, numbers\u001B[38;5;241m.\u001B[39mNumber):\n\u001B[0;32m    333\u001B[0m         \u001B[38;5;28;01mraise\u001B[39;00m EMAError(\n\u001B[0;32m    334\u001B[0m             \u001B[38;5;124mf\u001B[39m\u001B[38;5;124m\"\u001B[39m\u001B[38;5;124mOutcome \u001B[39m\u001B[38;5;132;01m{\u001B[39;00m\u001B[38;5;28mself\u001B[39m\u001B[38;5;241m.\u001B[39mname\u001B[38;5;132;01m}\u001B[39;00m\u001B[38;5;124m should be a scalar, but is a \u001B[39m\u001B[38;5;132;01m{\u001B[39;00m\u001B[38;5;28mtype\u001B[39m(values)\u001B[38;5;132;01m}\u001B[39;00m\u001B[38;5;124m: \u001B[39m\u001B[38;5;132;01m{\u001B[39;00mvalues\u001B[38;5;132;01m}\u001B[39;00m\u001B[38;5;124m\"\u001B[39m\n\u001B[0;32m    335\u001B[0m         )\n",
      "File \u001B[1;32m~\\PycharmProjects\\venv\\lib\\site-packages\\ema_workbench\\em_framework\\outcomes.py:192\u001B[0m, in \u001B[0;36mAbstractOutcome.process\u001B[1;34m(self, values)\u001B[0m\n\u001B[0;32m    190\u001B[0m \u001B[38;5;28;01melse\u001B[39;00m:\n\u001B[0;32m    191\u001B[0m     \u001B[38;5;28;01mif\u001B[39;00m \u001B[38;5;28mlen\u001B[39m(values) \u001B[38;5;241m>\u001B[39m \u001B[38;5;241m1\u001B[39m:\n\u001B[1;32m--> 192\u001B[0m         \u001B[38;5;28;01mraise\u001B[39;00m EMAError(\u001B[38;5;124m\"\u001B[39m\u001B[38;5;124mMore than one value returned without processing function\u001B[39m\u001B[38;5;124m\"\u001B[39m)\n\u001B[0;32m    194\u001B[0m     \u001B[38;5;28;01mreturn\u001B[39;00m values[\u001B[38;5;241m0\u001B[39m]\n",
      "\u001B[1;31mEMAError\u001B[0m: More than one value returned without processing function"
     ]
    }
   ],
   "source": [
    "n_exp = 750\n",
    "\n",
    "experiments_sobol, outcomes_sobol = perform_experiments(dike_model, scenarios=n_exp,\n",
    "                                                        policies=3,\n",
    "                                                        uncertainty_sampling=Samplers.SOBOL)\n",
    "\n",
    "dike_final_sobol = outcomes_sobol[\"Total Costs\"][:,0,-1]\n",
    "dike_mean_sobol = np.mean(outcomes_sobol[\"Total Costs\"][:,0,:],axis=1)\n",
    "dike_std_sobol = np.std(outcomes_sobol[\"Total Costs\"][:,0,:],axis=1)\n",
    "\n",
    "Si = sobol.analyze(problem, dike_mean_sobol, calc_second_order=True, print_to_console=True)\n"
   ],
   "metadata": {
    "collapsed": false,
    "ExecuteTime": {
     "end_time": "2024-06-07T09:23:59.868324800Z",
     "start_time": "2024-06-07T09:23:57.762795200Z"
    }
   },
   "id": "384240e6d2868a13"
  },
  {
   "cell_type": "code",
   "execution_count": 9,
   "outputs": [
    {
     "name": "stdout",
     "output_type": "stream",
     "text": [
      "Outcomes keys:\n",
      "dict_keys(['Total Costs', 'Expected Number of Deaths'])\n",
      "Shape of 'Total Costs' outcome:\n",
      "(90000,)\n",
      "First few elements of 'Total Costs':\n",
      "[6.50719915e+08 6.50682313e+08 6.50719915e+08 6.50719915e+08\n",
      " 1.25272150e+09]\n"
     ]
    }
   ],
   "source": [
    "# dike_final_sobol = outcomes_sobol[\"Total Costs\"][:,0,-1]\n",
    "# dike_mean_sobol = np.mean(outcomes_sobol[\"Total Costs\"][:,0,:],axis=1)\n",
    "# dike_std_sobol = np.std(outcomes_sobol[\"Total Costs\"][:,0,:],axis=1)\n",
    "# \n",
    "# Si = sobol.analyze(problem, dike_mean_sobol, calc_second_order=True, print_to_console=True)\n",
    "\n",
    "# Debugging output\n",
    "print(\"Outcomes keys:\")\n",
    "print(outcomes_sobol.keys())\n",
    "\n",
    "print(\"Shape of 'Total Costs' outcome:\")\n",
    "print(outcomes_sobol[\"Total Costs\"].shape)\n",
    "\n",
    "print(\"First few elements of 'Total Costs':\")\n",
    "print(outcomes_sobol[\"Total Costs\"][:5])\n"
   ],
   "metadata": {
    "collapsed": false,
    "ExecuteTime": {
     "end_time": "2024-06-07T09:04:13.538942700Z",
     "start_time": "2024-06-07T09:04:13.523321800Z"
    }
   },
   "id": "c90406d41683243b"
  },
  {
   "cell_type": "code",
   "execution_count": 8,
   "outputs": [
    {
     "ename": "NameError",
     "evalue": "name 'Si' is not defined",
     "output_type": "error",
     "traceback": [
      "\u001B[1;31m---------------------------------------------------------------------------\u001B[0m",
      "\u001B[1;31mNameError\u001B[0m                                 Traceback (most recent call last)",
      "Cell \u001B[1;32mIn[8], line 1\u001B[0m\n\u001B[1;32m----> 1\u001B[0m Si_filter \u001B[38;5;241m=\u001B[39m {k:Si[k] \u001B[38;5;28;01mfor\u001B[39;00m k \u001B[38;5;129;01min\u001B[39;00m [\u001B[38;5;124m'\u001B[39m\u001B[38;5;124mST\u001B[39m\u001B[38;5;124m'\u001B[39m,\u001B[38;5;124m'\u001B[39m\u001B[38;5;124mST_conf\u001B[39m\u001B[38;5;124m'\u001B[39m,\u001B[38;5;124m'\u001B[39m\u001B[38;5;124mS1\u001B[39m\u001B[38;5;124m'\u001B[39m,\u001B[38;5;124m'\u001B[39m\u001B[38;5;124mS1_conf\u001B[39m\u001B[38;5;124m'\u001B[39m]}\n\u001B[0;32m      2\u001B[0m Si_df \u001B[38;5;241m=\u001B[39m pd\u001B[38;5;241m.\u001B[39mDataFrame(Si_filter, index\u001B[38;5;241m=\u001B[39mproblem[\u001B[38;5;124m'\u001B[39m\u001B[38;5;124mnames\u001B[39m\u001B[38;5;124m'\u001B[39m])\n\u001B[0;32m      4\u001B[0m sns\u001B[38;5;241m.\u001B[39mset_style(\u001B[38;5;124m'\u001B[39m\u001B[38;5;124mwhite\u001B[39m\u001B[38;5;124m'\u001B[39m)\n",
      "Cell \u001B[1;32mIn[8], line 1\u001B[0m, in \u001B[0;36m<dictcomp>\u001B[1;34m(.0)\u001B[0m\n\u001B[1;32m----> 1\u001B[0m Si_filter \u001B[38;5;241m=\u001B[39m {k:\u001B[43mSi\u001B[49m[k] \u001B[38;5;28;01mfor\u001B[39;00m k \u001B[38;5;129;01min\u001B[39;00m [\u001B[38;5;124m'\u001B[39m\u001B[38;5;124mST\u001B[39m\u001B[38;5;124m'\u001B[39m,\u001B[38;5;124m'\u001B[39m\u001B[38;5;124mST_conf\u001B[39m\u001B[38;5;124m'\u001B[39m,\u001B[38;5;124m'\u001B[39m\u001B[38;5;124mS1\u001B[39m\u001B[38;5;124m'\u001B[39m,\u001B[38;5;124m'\u001B[39m\u001B[38;5;124mS1_conf\u001B[39m\u001B[38;5;124m'\u001B[39m]}\n\u001B[0;32m      2\u001B[0m Si_df \u001B[38;5;241m=\u001B[39m pd\u001B[38;5;241m.\u001B[39mDataFrame(Si_filter, index\u001B[38;5;241m=\u001B[39mproblem[\u001B[38;5;124m'\u001B[39m\u001B[38;5;124mnames\u001B[39m\u001B[38;5;124m'\u001B[39m])\n\u001B[0;32m      4\u001B[0m sns\u001B[38;5;241m.\u001B[39mset_style(\u001B[38;5;124m'\u001B[39m\u001B[38;5;124mwhite\u001B[39m\u001B[38;5;124m'\u001B[39m)\n",
      "\u001B[1;31mNameError\u001B[0m: name 'Si' is not defined"
     ]
    }
   ],
   "source": [
    "Si_filter = {k:Si[k] for k in ['ST','ST_conf','S1','S1_conf']}\n",
    "Si_df = pd.DataFrame(Si_filter, index=problem['names'])\n",
    "\n",
    "sns.set_style('white')\n",
    "fig, ax = plt.subplots(1)\n",
    "\n",
    "indices = Si_df[['S1','ST']]\n",
    "err = Si_df[['S1_conf','ST_conf']]\n",
    "\n",
    "indices.plot.bar(yerr=err.values.T,ax=ax)\n",
    "fig.set_size_inches(8,6)\n",
    "fig.subplots_adjust(bottom=0.3)\n",
    "plt.show()"
   ],
   "metadata": {
    "collapsed": false,
    "ExecuteTime": {
     "end_time": "2024-06-07T09:04:07.856443300Z",
     "start_time": "2024-06-07T09:04:07.793903300Z"
    }
   },
   "id": "bf537276bcd0c769"
  },
  {
   "cell_type": "code",
   "execution_count": 23,
   "outputs": [
    {
     "ename": "NameError",
     "evalue": "name 'dike_mean_sobol' is not defined",
     "output_type": "error",
     "traceback": [
      "\u001B[1;31m---------------------------------------------------------------------------\u001B[0m",
      "\u001B[1;31mNameError\u001B[0m                                 Traceback (most recent call last)",
      "Cell \u001B[1;32mIn[23], line 1\u001B[0m\n\u001B[1;32m----> 1\u001B[0m Y \u001B[38;5;241m=\u001B[39m \u001B[43mdike_mean_sobol\u001B[49m\n\u001B[0;32m      3\u001B[0m s_data \u001B[38;5;241m=\u001B[39m pd\u001B[38;5;241m.\u001B[39mDataFrame(index\u001B[38;5;241m=\u001B[39mproblem[\u001B[38;5;124m'\u001B[39m\u001B[38;5;124mnames\u001B[39m\u001B[38;5;124m'\u001B[39m],\n\u001B[0;32m      4\u001B[0m                       columns\u001B[38;5;241m=\u001B[39mnp\u001B[38;5;241m.\u001B[39marange(\u001B[38;5;241m20\u001B[39m,n_exp,\u001B[38;5;241m50\u001B[39m)\u001B[38;5;241m*\u001B[39m(\u001B[38;5;241m2\u001B[39m\u001B[38;5;241m*\u001B[39mproblem[\u001B[38;5;124m'\u001B[39m\u001B[38;5;124mnum_vars\u001B[39m\u001B[38;5;124m'\u001B[39m]\u001B[38;5;241m+\u001B[39m\u001B[38;5;241m2\u001B[39m))\n\u001B[0;32m      5\u001B[0m \u001B[38;5;28;01mfor\u001B[39;00m j \u001B[38;5;129;01min\u001B[39;00m s_data\u001B[38;5;241m.\u001B[39mcolumns:\n",
      "\u001B[1;31mNameError\u001B[0m: name 'dike_mean_sobol' is not defined"
     ]
    }
   ],
   "source": [
    "Y = dike_mean_sobol\n",
    "\n",
    "s_data = pd.DataFrame(index=problem['names'],\n",
    "                      columns=np.arange(20,n_exp,50)*(2*problem['num_vars']+2))\n",
    "for j in s_data.columns:\n",
    "    scores = sobol.analyze(problem, Y[0:j], calc_second_order=True, print_to_console=False)\n",
    "    s_data.loc[:,j] = scores['ST']"
   ],
   "metadata": {
    "collapsed": false,
    "ExecuteTime": {
     "end_time": "2024-06-04T14:00:50.925484300Z",
     "start_time": "2024-06-04T14:00:50.924034200Z"
    }
   },
   "id": "dfc2ebd9f0bee8ec"
  },
  {
   "cell_type": "code",
   "execution_count": null,
   "outputs": [],
   "source": [
    "fig, ax = plt.subplots(1)\n",
    "\n",
    "s_data.T.plot(ax=ax)\n",
    "ax.set_xlabel('Samples')\n",
    "ax.set_ylabel('Total index (ST)')\n",
    "plt.show()"
   ],
   "metadata": {
    "collapsed": false,
    "ExecuteTime": {
     "start_time": "2024-06-03T14:35:22.697089900Z"
    }
   },
   "id": "e409c51df07de3c"
  },
  {
   "cell_type": "code",
   "execution_count": null,
   "outputs": [],
   "source": [],
   "metadata": {
    "collapsed": false,
    "ExecuteTime": {
     "start_time": "2024-06-03T14:35:22.712718800Z"
    }
   },
   "id": "6434b8845ac7b0ff"
  },
  {
   "cell_type": "code",
   "execution_count": null,
   "outputs": [],
   "source": [],
   "metadata": {
    "collapsed": false,
    "ExecuteTime": {
     "end_time": "2024-06-03T14:35:22.712718800Z",
     "start_time": "2024-06-03T14:35:22.712718800Z"
    }
   },
   "id": "1b8734869cfd731"
  }
 ],
 "metadata": {
  "kernelspec": {
   "display_name": "Python 3",
   "language": "python",
   "name": "python3"
  },
  "language_info": {
   "codemirror_mode": {
    "name": "ipython",
    "version": 2
   },
   "file_extension": ".py",
   "mimetype": "text/x-python",
   "name": "python",
   "nbconvert_exporter": "python",
   "pygments_lexer": "ipython2",
   "version": "2.7.6"
  }
 },
 "nbformat": 4,
 "nbformat_minor": 5
}
