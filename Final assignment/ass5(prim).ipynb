{
 "cells": [
  {
   "cell_type": "markdown",
   "id": "0d66655c",
   "metadata": {},
   "source": [
    "\n",
    "# Dike Model Continued - Subspace Partitioning\n",
    "\n",
    "In the previous assignment, we focused on getting acquainted with the dike model. In this assignment, we will continue with the dike model, focusing explicitly on using it for open exploration and scenario discovery using PRIM.\n",
    "\n",
    "**It is paramount that you are using the dike problem with the appropriate decision variables and parameters.**\n"
   ]
  },
  {
   "cell_type": "code",
   "execution_count": 2,
   "id": "7a7af225",
   "metadata": {
    "ExecuteTime": {
     "end_time": "2024-06-03T12:06:42.539059Z",
     "start_time": "2024-06-03T12:06:42.343495200Z"
    }
   },
   "outputs": [],
   "source": [
    "from ema_workbench import Model, RealParameter, ScalarOutcome, IntegerParameter, CategoricalParameter\n",
    "from dike_model_function import DikeNetwork\n",
    "from ema_workbench.util import ema_logging\n",
    "\n",
    "# Define the sum_over function\n",
    "def sum_over(*args):\n",
    "    numbers = []\n",
    "    for entry in args:\n",
    "        try:\n",
    "            value = sum(entry)\n",
    "        except TypeError:\n",
    "            value = entry\n",
    "        numbers.append(value)\n",
    "    return sum(numbers)\n",
    "\n",
    "# Configure logging\n",
    "ema_logging.log_to_stderr(ema_logging.INFO)\n",
    "\n",
    "# Define the function to get the model for the given problem formulation\n",
    "def get_model_for_problem_formulation():\n",
    "    function = DikeNetwork()\n",
    "    dike_model = Model(\"dikesnet\", function=function)\n",
    "    \n",
    "    #specify uncertainties\n",
    "    Real_uncert = {\"Bmax\": [30, 350], \"pfail\": [0, 1]}  # m and [.]\n",
    "    cat_uncert_loc = {\"Brate\": (1.0, 1.5, 10)}\n",
    "    cat_uncert = {f\"discount rate {n}\": (1.5, 2.5, 3.5, 4.5) for n in function.planning_steps}\n",
    "    Int_uncert = {\"A.0_ID flood wave shape\": [0, 132]}\n",
    "\n",
    "    uncertainties = []\n",
    "\n",
    "    for uncert_name in cat_uncert.keys():\n",
    "        categories = cat_uncert[uncert_name]\n",
    "        uncertainties.append(CategoricalParameter(uncert_name, categories))\n",
    "\n",
    "    for uncert_name in Int_uncert.keys():\n",
    "        uncertainties.append(IntegerParameter(uncert_name, Int_uncert[uncert_name][0], Int_uncert[uncert_name][1]))\n",
    "\n",
    "    for dike in function.dikelist:\n",
    "        for uncert_name in Real_uncert.keys():\n",
    "            name = f\"{dike}_{uncert_name}\"\n",
    "            lower, upper = Real_uncert[uncert_name]\n",
    "            uncertainties.append(RealParameter(name, lower, upper))\n",
    "\n",
    "        for uncert_name in cat_uncert_loc.keys():\n",
    "            name = f\"{dike}_{uncert_name}\"\n",
    "            categories = cat_uncert_loc[uncert_name]\n",
    "            uncertainties.append(CategoricalParameter(name, categories))\n",
    "    \n",
    "    dike_model.uncertainties = uncertainties\n",
    "\n",
    "    # Set levers (example, adapt as necessary)\n",
    "    levers = [IntegerParameter(f\"raise {i}\", 0, 10) for i in range(1, 6)]\n",
    "    dike_model.levers = levers\n",
    "\n",
    "    #specify outcomes\n",
    "    outcomes = [\n",
    "        ScalarOutcome('Total Costs', kind=ScalarOutcome.MINIMIZE, function=sum_over, variable_name=[\n",
    "            f\"{dike}_Expected Annual Damage\" for dike in function.dikelist] +\n",
    "            [f\"{dike}_Dike Investment Costs\" for dike in function.dikelist] +\n",
    "            [\"RfR Total Costs\", \"Expected Evacuation Costs\"] \n",
    "        ),\n",
    "        ScalarOutcome('Expected Number of Deaths', kind=ScalarOutcome.MINIMIZE, function=sum_over, variable_name=[\n",
    "            f\"{dike}_Expected Number of Deaths\" for dike in function.dikelist]\n",
    "        )\n",
    "    ]\n",
    "    dike_model.outcomes = outcomes\n",
    "\n",
    "    return dike_model\n",
    "\n",
    "# Get the model for the problem formulation\n",
    "dike_model = get_model_for_problem_formulation()\n"
   ]
  },
  {
   "cell_type": "code",
   "execution_count": null,
   "id": "1628ba65",
   "metadata": {
    "is_executing": true,
    "ExecuteTime": {
     "start_time": "2024-06-03T12:06:42.682657900Z"
    }
   },
   "outputs": [
    {
     "name": "stderr",
     "output_type": "stream",
     "text": [
      "[MainProcess/INFO] pool started with 1 workers\n",
      "[MainProcess/INFO] performing 10 scenarios * 10 policies * 1 model(s) = 100 experiments\n",
      "  0%|                                                  | 0/100 [00:00<?, ?it/s]"
     ]
    }
   ],
   "source": [
    "from ema_workbench import MultiprocessingEvaluator, ema_logging\n",
    "\n",
    "ema_logging.log_to_stderr(ema_logging.INFO)\n",
    "\n",
    "n_scenarios = 10\n",
    "n_policies = 10\n",
    "\n",
    "with MultiprocessingEvaluator(dike_model, n_processes=1) as evaluator:\n",
    "    results = evaluator.perform_experiments(n_scenarios, n_policies)\n",
    "\n",
    "print(\"Experiments completed:\", results)\n"
   ]
  },
  {
   "cell_type": "code",
   "execution_count": null,
   "id": "1f081e80",
   "metadata": {
    "is_executing": true
   },
   "outputs": [],
   "source": []
  },
  {
   "cell_type": "markdown",
   "id": "676f13de",
   "metadata": {},
   "source": [
    "\n",
    "## Conclusion\n",
    "\n",
    "In this notebook, we successfully analyzed the dike model using simulation and optimization techniques, and performed scenario discovery using PRIM. We configured the model, performed simulations, set up and executed optimizations, and analyzed the results to derive meaningful insights.\n"
   ]
  },
  {
   "cell_type": "code",
   "execution_count": null,
   "outputs": [],
   "source": [],
   "metadata": {
    "collapsed": false
   },
   "id": "a816259a8c779829"
  }
 ],
 "metadata": {
  "kernelspec": {
   "name": "python3",
   "language": "python",
   "display_name": "Python 3 (ipykernel)"
  }
 },
 "nbformat": 4,
 "nbformat_minor": 5
}
