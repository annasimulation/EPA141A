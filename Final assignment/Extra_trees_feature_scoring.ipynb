{
 "cells": [
  {
   "cell_type": "code",
   "outputs": [],
   "source": [
    "%matplotlib inline\n",
    "import numpy as np\n",
    "import pandas as pd\n",
    "\n",
    "import matplotlib.pyplot as plt\n",
    "import seaborn as sns\n",
    "sns.set_style('white')\n",
    "\n",
    "from ema_workbench import (Model, RealParameter, TimeSeriesOutcome,\n",
    "                           perform_experiments, ema_logging,Policy)\n",
    "\n",
    "from ema_workbench import Samplers\n",
    "\n",
    "from ema_workbench.analysis import feature_scoring\n",
    "from ema_workbench.analysis.scenario_discovery_util import RuleInductionType\n",
    "from ema_workbench.em_framework.salib_samplers import get_SALib_problem\n",
    "\n",
    "from problem_formulation import get_model_for_problem_formulation\n",
    "from dike_model_function import DikeNetwork\n",
    "from SALib.analyze import sobol"
   ],
   "metadata": {
    "collapsed": false
   },
   "id": "bdd9e22668340e81"
  },
  {
   "cell_type": "code",
   "outputs": [],
   "source": [
    "dike_final_sobol = outcomes[\"Total Costs\"]\n",
    "dike_mean_sobol = np.mean(outcomes[\"Total Costs\"])\n",
    "dike_std_sobol = np.std(outcomes_sobol[\"Total Costs\"])"
   ],
   "metadata": {
    "collapsed": false
   },
   "id": "22b63fa567a1f6a"
  },
  {
   "cell_type": "code",
   "outputs": [],
   "source": [],
   "metadata": {
    "collapsed": false
   },
   "id": "6f686c87f44c341"
  },
  {
   "cell_type": "code",
   "outputs": [],
   "source": [
    "n_exp = 1000\n",
    "\n",
    "results = perform_experiments(py_model, scenarios=n_exp, uncertainty_sampling=Samplers.LHS)\n",
    "\n",
    "exp_lhs, out_lhs = results_lhs"
   ],
   "metadata": {
    "collapsed": false
   },
   "id": "da1bf1a2a33583bf"
  },
  {
   "cell_type": "code",
   "outputs": [],
   "source": [
    "dike_final_sobol = outcomes_sobol[\"Total Costs\"]\n",
    "dike_mean_sobol = np.mean(outcomes_sobol[\"Total Costs\"])\n",
    "dike_std_sobol = np.std(outcomes_sobol[\"Total Costs\"])\n",
    "\n",
    "prey_final_sobol = outcomes_sobol['prey'][:,0,-1]\n",
    "prey_mean_sobol = np.mean(outcomes_sobol['prey'][:,0,:],axis=1)\n",
    "prey_std_sobol = np.std(outcomes_sobol['prey'][:,0,:],axis=1)"
   ],
   "metadata": {
    "collapsed": false
   },
   "id": "2fa5873446548510"
  },
  {
   "cell_type": "code",
   "outputs": [],
   "source": [
    "scores = feature_scoring.get_ex_feature_scores(experiments_sobol, prey_final_sobol,\n",
    "                                      max_features=0.6, mode=RuleInductionType.REGRESSION)[0]\n",
    "scores"
   ],
   "metadata": {
    "collapsed": false
   },
   "id": "b7657717f9816851"
  },
  {
   "cell_type": "code",
   "outputs": [],
   "source": [
    "combined_scores = []\n",
    "for j in range(100, experiments_sobol.shape[0], 100):\n",
    "    scores = feature_scoring.get_ex_feature_scores(experiments_sobol.iloc[0:j, :],\n",
    "                                                   prey_mean_sobol[0:j],\n",
    "                                                   max_features=0.6,\n",
    "                                                   mode=RuleInductionType.REGRESSION)[0]\n",
    "    scores.columns = [j]\n",
    "    combined_scores.append(scores)"
   ],
   "metadata": {
    "collapsed": false
   },
   "id": "6d0c980a517956b9"
  },
  {
   "cell_type": "code",
   "outputs": [],
   "source": [
    "combined_scores = pd.concat(combined_scores, axis=1, sort=True)"
   ],
   "metadata": {
    "collapsed": false
   },
   "id": "d2acac860f2d042f"
  },
  {
   "cell_type": "code",
   "outputs": [],
   "source": [
    "fig, ax = plt.subplots(1)\n",
    "\n",
    "combined_scores.T.plot(ax=ax)\n",
    "ax.legend(bbox_to_anchor=(1,1))\n",
    "ax.set_xlabel('Samples')\n",
    "ax.set_ylabel('feature scores')\n",
    "plt.show()"
   ],
   "metadata": {
    "collapsed": false
   },
   "id": "5f8004b954989f63"
  },
  {
   "cell_type": "code",
   "outputs": [],
   "source": [
    "import seaborn as sns\n",
    "cleaned_experiments = experiments_sobol.drop(columns=[l.name for l in dike_model.levers])\n",
    "\n",
    "for policy in experiments_sobol.policy.unique():\n",
    "    logical = experiments_sobol.policy == policy\n",
    "    subset_results = {k:v[logical] for k,v in outcomes_sobol.items()}\n",
    "    scores = feature_scoring.get_feature_scores_all(cleaned_experiments[logical],\n",
    "                                                   subset_results)\n",
    "    sns.heatmap(scores, annot=True, cmap='viridis')\n",
    "    \n",
    "    plt.title(f'Feature Scores for Policy: {policy}')\n",
    "\n",
    "    plt.show()"
   ],
   "metadata": {
    "collapsed": false
   },
   "id": "48f6cb53cd14e860"
  },
  {
   "cell_type": "code",
   "execution_count": null,
   "id": "initial_id",
   "metadata": {
    "collapsed": true
   },
   "outputs": [],
   "source": [
    "for policy in experiments_sobol.policy.unique():\n",
    "    logical = experiments_sobol.policy == policy\n",
    "    subset_results = {k: v[logical] for k, v in outcomes_sobol.items()}\n",
    "    scores = feature_scoring.get_feature_scores_all(experiments_sobol[logical], subset_results)\n",
    "    plt.figure(figsize=(14, 10))\n",
    "    sns.heatmap(scores, annot=True, cmap='viridis')\n",
    "    plt.title(f'Feature Scores for Policy: {policy}')\n",
    "    plt.xlabel('Outcomes')\n",
    "    plt.ylabel('Features')\n",
    "    plt.show()\n",
    "\n",
    "# Combined feature scoring for increasing sample sizes\n",
    "combined_scores = []\n",
    "dike_mean_sobol = outcomes_sobol['Total Costs'].mean(axis=1)\n",
    "\n",
    "for j in range(100, experiments_sobol.shape[0], 100):\n",
    "    scores = feature_scoring.get_ex_feature_scores(experiments_sobol.iloc[0:j, :],\n",
    "                                                   dike_mean_sobol[0:j],\n",
    "                                                   max_features=0.6,\n",
    "                                                   mode=feature_scoring.RuleInductionType.REGRESSION)[0]\n",
    "    scores.columns = [j]\n",
    "    combined_scores.append(scores)\n",
    "\n",
    "combined_scores = pd.concat(combined_scores, axis=1, sort=True)\n",
    "\n",
    "fig, ax = plt.subplots(figsize=(14, 10))\n",
    "combined_scores.T.plot(ax=ax)\n",
    "ax.legend(bbox_to_anchor=(1.05, 1), loc='upper left')\n",
    "ax.set_xlabel('Samples')\n",
    "ax.set_ylabel('Feature Scores')\n",
    "plt.title('Combined Feature Scores Over Samples')\n",
    "plt.show()"
   ]
  }
 ],
 "metadata": {
  "kernelspec": {
   "display_name": "Python 3",
   "language": "python",
   "name": "python3"
  },
  "language_info": {
   "codemirror_mode": {
    "name": "ipython",
    "version": 2
   },
   "file_extension": ".py",
   "mimetype": "text/x-python",
   "name": "python",
   "nbconvert_exporter": "python",
   "pygments_lexer": "ipython2",
   "version": "2.7.6"
  }
 },
 "nbformat": 4,
 "nbformat_minor": 5
}
