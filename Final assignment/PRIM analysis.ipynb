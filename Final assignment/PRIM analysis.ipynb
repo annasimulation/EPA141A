{
 "cells": [
  {
   "cell_type": "code",
   "execution_count": 1,
   "id": "initial_id",
   "metadata": {
    "collapsed": true,
    "ExecuteTime": {
     "end_time": "2024-06-03T09:06:58.356298600Z",
     "start_time": "2024-06-03T09:06:47.369989200Z"
    }
   },
   "outputs": [],
   "source": [
    "from ema_workbench.analysis import prim\n",
    "from ema_workbench import ema_logging\n",
    "ema_logging.log_to_stderr(ema_logging.INFO)\n",
    "import pandas as pd\n",
    "import numpy as np\n",
    "import matplotlib.pyplot as plt\n",
    "import seaborn as sns"
   ]
  },
  {
   "cell_type": "code",
   "execution_count": 2,
   "outputs": [
    {
     "data": {
      "text/plain": "   Unnamed: 0  Expected Annual Damage  Dike Investment Costs  \\\n0           0            7.614090e+06           5.202083e+08   \n1           1            4.588159e+07           5.453525e+08   \n2           2            0.000000e+00           5.784227e+08   \n3           3            0.000000e+00           7.138791e+08   \n4           4            0.000000e+00           9.292998e+08   \n\n   RfR Investment Costs  Damage In Area  \n0          1.043500e+09               1  \n1          1.027900e+09               1  \n2          1.080100e+09               0  \n3          6.138000e+08               0  \n4          1.049400e+09               0  ",
      "text/html": "<div>\n<style scoped>\n    .dataframe tbody tr th:only-of-type {\n        vertical-align: middle;\n    }\n\n    .dataframe tbody tr th {\n        vertical-align: top;\n    }\n\n    .dataframe thead th {\n        text-align: right;\n    }\n</style>\n<table border=\"1\" class=\"dataframe\">\n  <thead>\n    <tr style=\"text-align: right;\">\n      <th></th>\n      <th>Unnamed: 0</th>\n      <th>Expected Annual Damage</th>\n      <th>Dike Investment Costs</th>\n      <th>RfR Investment Costs</th>\n      <th>Damage In Area</th>\n    </tr>\n  </thead>\n  <tbody>\n    <tr>\n      <th>0</th>\n      <td>0</td>\n      <td>7.614090e+06</td>\n      <td>5.202083e+08</td>\n      <td>1.043500e+09</td>\n      <td>1</td>\n    </tr>\n    <tr>\n      <th>1</th>\n      <td>1</td>\n      <td>4.588159e+07</td>\n      <td>5.453525e+08</td>\n      <td>1.027900e+09</td>\n      <td>1</td>\n    </tr>\n    <tr>\n      <th>2</th>\n      <td>2</td>\n      <td>0.000000e+00</td>\n      <td>5.784227e+08</td>\n      <td>1.080100e+09</td>\n      <td>0</td>\n    </tr>\n    <tr>\n      <th>3</th>\n      <td>3</td>\n      <td>0.000000e+00</td>\n      <td>7.138791e+08</td>\n      <td>6.138000e+08</td>\n      <td>0</td>\n    </tr>\n    <tr>\n      <th>4</th>\n      <td>4</td>\n      <td>0.000000e+00</td>\n      <td>9.292998e+08</td>\n      <td>1.049400e+09</td>\n      <td>0</td>\n    </tr>\n  </tbody>\n</table>\n</div>"
     },
     "execution_count": 2,
     "metadata": {},
     "output_type": "execute_result"
    }
   ],
   "source": [
    "data = pd.read_csv('outcomes_df6.csv') \n",
    "\n",
    "data['Damage In Area'] = (data['Expected Annual Damage'] > 0).astype(int)\n",
    "data.head()"
   ],
   "metadata": {
    "collapsed": false,
    "ExecuteTime": {
     "end_time": "2024-06-03T09:06:58.471539900Z",
     "start_time": "2024-06-03T09:06:58.365033600Z"
    }
   },
   "id": "611c82b627036149"
  },
  {
   "cell_type": "code",
   "execution_count": 3,
   "outputs": [
    {
     "name": "stdout",
     "output_type": "stream",
     "text": [
      "Columns in x: ['Dike Investment Costs' 'RfR Investment Costs']\n"
     ]
    }
   ],
   "source": [
    "x = data.iloc[:, 2:4]\n",
    "print(f\"Columns in x: {x.columns.values}\")"
   ],
   "metadata": {
    "collapsed": false,
    "ExecuteTime": {
     "end_time": "2024-06-03T09:06:58.536495500Z",
     "start_time": "2024-06-03T09:06:58.463834300Z"
    }
   },
   "id": "e4f056533747bbf7"
  },
  {
   "cell_type": "code",
   "execution_count": 4,
   "outputs": [
    {
     "name": "stdout",
     "output_type": "stream",
     "text": [
      "Columns in y: [1 1 0 0 0]\n"
     ]
    }
   ],
   "source": [
    "y = data.iloc[:, 4].values\n",
    "print(f\"Columns in y: {y}\")"
   ],
   "metadata": {
    "collapsed": false,
    "ExecuteTime": {
     "end_time": "2024-06-03T09:06:58.542033300Z",
     "start_time": "2024-06-03T09:06:58.502007500Z"
    }
   },
   "id": "9c0cdb8757ebc17c"
  },
  {
   "cell_type": "code",
   "execution_count": 5,
   "outputs": [
    {
     "name": "stderr",
     "output_type": "stream",
     "text": [
      "[MainProcess/INFO] 5 points remaining, containing 2 cases of interest\n",
      "[MainProcess/INFO] mean: 1.0, mass: 0.4, coverage: 1.0, density: 1.0 restricted_dimensions: 1\n"
     ]
    }
   ],
   "source": [
    "from ema_workbench.analysis import prim\n",
    "from ema_workbench import ema_logging\n",
    "ema_logging.log_to_stderr(ema_logging.INFO)\n",
    "\n",
    "y = np.array(y)\n",
    "\n",
    "prim_alg = prim.Prim(x, y, threshold=0.8, peel_alpha=0.1)\n",
    "\n",
    "box1 = prim_alg.find_box()"
   ],
   "metadata": {
    "collapsed": false,
    "ExecuteTime": {
     "end_time": "2024-06-03T09:06:58.818696600Z",
     "start_time": "2024-06-03T09:06:58.542033300Z"
    }
   },
   "id": "8dfd8f5c5f586bf3"
  },
  {
   "cell_type": "code",
   "execution_count": 6,
   "outputs": [],
   "source": [
    "# Enable matplotlib interactive mode\n",
    "# %matplotlib notebook"
   ],
   "metadata": {
    "collapsed": false,
    "ExecuteTime": {
     "end_time": "2024-06-03T09:06:58.818696600Z",
     "start_time": "2024-06-03T09:06:58.605076700Z"
    }
   },
   "id": "de424e1887180d65"
  },
  {
   "cell_type": "code",
   "execution_count": 7,
   "outputs": [
    {
     "data": {
      "text/plain": "<Figure size 640x480 with 2 Axes>",
      "image/png": "[encoded data removed]"
     },
     "metadata": {},
     "output_type": "display_data"
    }
   ],
   "source": [
    "import matplotlib.pyplot as plt\n",
    " \n",
    "box1.show_tradeoff(annotated=True)\n",
    "plt.show()"
   ],
   "metadata": {
    "collapsed": false,
    "ExecuteTime": {
     "end_time": "2024-06-03T09:06:59.439787700Z",
     "start_time": "2024-06-03T09:06:58.626624700Z"
    }
   },
   "id": "521438a977f388d6"
  },
  {
   "cell_type": "code",
   "execution_count": 8,
   "outputs": [
    {
     "name": "stdout",
     "output_type": "stream",
     "text": [
      "coverage    1.000000\n",
      "density     0.666667\n",
      "id          2.000000\n",
      "k           2.000000\n",
      "mass        0.600000\n",
      "mean        0.666667\n",
      "n           3.000000\n",
      "res_dim     1.000000\n",
      "Name: 2, dtype: float64\n",
      "\n",
      "                              box 2                                \n",
      "                                min           max qp value qp value\n",
      "Dike Investment Costs  5.202083e+08  6.461509e+08      NaN    0.352\n"
     ]
    },
    {
     "data": {
      "text/plain": "[None]"
     },
     "execution_count": 8,
     "metadata": {},
     "output_type": "execute_result"
    }
   ],
   "source": [
    "point = 2\n",
    "box1.inspect(point)"
   ],
   "metadata": {
    "collapsed": false,
    "ExecuteTime": {
     "end_time": "2024-06-03T09:06:59.441296800Z",
     "start_time": "2024-06-03T09:06:59.385400600Z"
    }
   },
   "id": "f8b752dc3cd98a21"
  },
  {
   "cell_type": "code",
   "execution_count": 10,
   "outputs": [
    {
     "data": {
      "text/plain": "<Figure size 640x480 with 1 Axes>",
      "image/png": "[encoded data removed]"
     },
     "metadata": {},
     "output_type": "display_data"
    }
   ],
   "source": [
    "box1.inspect(point, style='graph')\n",
    "plt.show()"
   ],
   "metadata": {
    "collapsed": false,
    "ExecuteTime": {
     "end_time": "2024-06-03T09:12:36.156639500Z",
     "start_time": "2024-06-03T09:12:35.978523600Z"
    }
   },
   "id": "5e69a0306dcb72ac"
  },
  {
   "cell_type": "code",
   "execution_count": 11,
   "outputs": [],
   "source": [
    "from ema_workbench.analysis import dimensional_stacking"
   ],
   "metadata": {
    "collapsed": false,
    "ExecuteTime": {
     "end_time": "2024-06-03T09:12:47.336545800Z",
     "start_time": "2024-06-03T09:12:47.264539200Z"
    }
   },
   "id": "3c892966b74743a6"
  },
  {
   "cell_type": "code",
   "execution_count": 13,
   "outputs": [
    {
     "ename": "NameError",
     "evalue": "name 'cleaned_experiments' is not defined",
     "output_type": "error",
     "traceback": [
      "\u001B[1;31m---------------------------------------------------------------------------\u001B[0m",
      "\u001B[1;31mNameError\u001B[0m                                 Traceback (most recent call last)",
      "Cell \u001B[1;32mIn[13], line 1\u001B[0m\n\u001B[1;32m----> 1\u001B[0m dimensional_stacking\u001B[38;5;241m.\u001B[39mcreate_pivot_plot(\u001B[43mcleaned_experiments\u001B[49m, y)\n",
      "\u001B[1;31mNameError\u001B[0m: name 'cleaned_experiments' is not defined"
     ]
    }
   ],
   "source": [
    "dimensional_stacking.create_pivot_plot(cleaned_experiments, y)"
   ],
   "metadata": {
    "collapsed": false,
    "ExecuteTime": {
     "end_time": "2024-06-03T09:13:14.328099100Z",
     "start_time": "2024-06-03T09:13:14.275184500Z"
    }
   },
   "id": "7305f3dc5e0ba583"
  },
  {
   "cell_type": "code",
   "execution_count": null,
   "outputs": [],
   "source": [],
   "metadata": {
    "collapsed": false
   },
   "id": "544773a8783f108b"
  }
 ],
 "metadata": {
  "kernelspec": {
   "display_name": "Python 3",
   "language": "python",
   "name": "python3"
  },
  "language_info": {
   "codemirror_mode": {
    "name": "ipython",
    "version": 2
   },
   "file_extension": ".py",
   "mimetype": "text/x-python",
   "name": "python",
   "nbconvert_exporter": "python",
   "pygments_lexer": "ipython2",
   "version": "2.7.6"
  }
 },
 "nbformat": 4,
 "nbformat_minor": 5
}
