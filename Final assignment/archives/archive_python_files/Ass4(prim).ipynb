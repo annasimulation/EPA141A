{
 "cells": [
  {
   "cell_type": "code",
   "execution_count": 32,
   "id": "initial_id",
   "metadata": {
    "collapsed": true,
    "ExecuteTime": {
     "end_time": "2024-06-03T14:55:26.633380100Z",
     "start_time": "2024-06-03T14:55:26.529298Z"
    }
   },
   "outputs": [],
   "source": [
    "from ema_workbench.analysis import prim\n",
    "from ema_workbench import ema_logging\n",
    "ema_logging.log_to_stderr(ema_logging.INFO)\n",
    "import pandas as pd\n",
    "import numpy as np\n",
    "import matplotlib.pyplot as plt\n",
    "import seaborn as sns"
   ]
  },
  {
   "cell_type": "code",
   "execution_count": 33,
   "outputs": [
    {
     "data": {
      "text/plain": "   Unnamed: 0  Expected Annual Damage  Dike Investment Costs  \\\n0           0            2.632335e+06           7.228272e+08   \n1           1            1.626074e+07           7.700024e+08   \n2           2            0.000000e+00           6.103668e+08   \n3           3            0.000000e+00           4.631629e+08   \n4           4            2.030692e+06           7.867298e+08   \n\n   RfR Investment Costs  Damage In Area  \n0          1.268900e+09               1  \n1          5.509000e+08               1  \n2          9.911000e+08               0  \n3          6.721000e+08               0  \n4          1.707600e+09               1  ",
      "text/html": "<div>\n<style scoped>\n    .dataframe tbody tr th:only-of-type {\n        vertical-align: middle;\n    }\n\n    .dataframe tbody tr th {\n        vertical-align: top;\n    }\n\n    .dataframe thead th {\n        text-align: right;\n    }\n</style>\n<table border=\"1\" class=\"dataframe\">\n  <thead>\n    <tr style=\"text-align: right;\">\n      <th></th>\n      <th>Unnamed: 0</th>\n      <th>Expected Annual Damage</th>\n      <th>Dike Investment Costs</th>\n      <th>RfR Investment Costs</th>\n      <th>Damage In Area</th>\n    </tr>\n  </thead>\n  <tbody>\n    <tr>\n      <th>0</th>\n      <td>0</td>\n      <td>2.632335e+06</td>\n      <td>7.228272e+08</td>\n      <td>1.268900e+09</td>\n      <td>1</td>\n    </tr>\n    <tr>\n      <th>1</th>\n      <td>1</td>\n      <td>1.626074e+07</td>\n      <td>7.700024e+08</td>\n      <td>5.509000e+08</td>\n      <td>1</td>\n    </tr>\n    <tr>\n      <th>2</th>\n      <td>2</td>\n      <td>0.000000e+00</td>\n      <td>6.103668e+08</td>\n      <td>9.911000e+08</td>\n      <td>0</td>\n    </tr>\n    <tr>\n      <th>3</th>\n      <td>3</td>\n      <td>0.000000e+00</td>\n      <td>4.631629e+08</td>\n      <td>6.721000e+08</td>\n      <td>0</td>\n    </tr>\n    <tr>\n      <th>4</th>\n      <td>4</td>\n      <td>2.030692e+06</td>\n      <td>7.867298e+08</td>\n      <td>1.707600e+09</td>\n      <td>1</td>\n    </tr>\n  </tbody>\n</table>\n</div>"
     },
     "execution_count": 33,
     "metadata": {},
     "output_type": "execute_result"
    }
   ],
   "source": [
    "data = pd.read_csv('outcomes_df6.csv') \n",
    "\n",
    "data['Damage In Area'] = (data['Expected Annual Damage'] > 0).astype(int)\n",
    "data.head()"
   ],
   "metadata": {
    "collapsed": false,
    "ExecuteTime": {
     "end_time": "2024-06-03T14:55:26.687890100Z",
     "start_time": "2024-06-03T14:55:26.582420400Z"
    }
   },
   "id": "611c82b627036149"
  },
  {
   "cell_type": "code",
   "execution_count": 34,
   "outputs": [
    {
     "name": "stdout",
     "output_type": "stream",
     "text": [
      "Columns in x: ['Dike Investment Costs' 'RfR Investment Costs']\n"
     ]
    }
   ],
   "source": [
    "x = data.iloc[:, 2:4]\n",
    "print(f\"Columns in x: {x.columns.values}\")"
   ],
   "metadata": {
    "collapsed": false,
    "ExecuteTime": {
     "end_time": "2024-06-03T14:55:26.706389800Z",
     "start_time": "2024-06-03T14:55:26.660754800Z"
    }
   },
   "id": "e4f056533747bbf7"
  },
  {
   "cell_type": "code",
   "execution_count": 35,
   "outputs": [
    {
     "name": "stdout",
     "output_type": "stream",
     "text": [
      "Columns in y: [1 1 0 0 1]\n"
     ]
    }
   ],
   "source": [
    "y = data.iloc[:, 4].values\n",
    "print(f\"Columns in y: {y}\")"
   ],
   "metadata": {
    "collapsed": false,
    "ExecuteTime": {
     "end_time": "2024-06-03T14:55:26.789544300Z",
     "start_time": "2024-06-03T14:55:26.712498200Z"
    }
   },
   "id": "9c0cdb8757ebc17c"
  },
  {
   "cell_type": "code",
   "outputs": [],
   "source": [
    "experiments = pd.read_csv('experiments_df6.csv') "
   ],
   "metadata": {
    "collapsed": false,
    "ExecuteTime": {
     "end_time": "2024-06-03T15:04:13.901512400Z",
     "start_time": "2024-06-03T15:04:13.870518900Z"
    }
   },
   "id": "519ed60e0ffa6aaa",
   "execution_count": 43
  },
  {
   "cell_type": "code",
   "outputs": [
    {
     "data": {
      "text/plain": "   Unnamed: 0  discount rate 0  discount rate 1  discount rate 2  \\\n0           0              3.5              3.5              3.5   \n1           1              3.5              3.5              3.5   \n2           2              3.5              3.5              3.5   \n3           3              3.5              3.5              3.5   \n4           4              3.5              3.5              3.5   \n\n   A.0_ID flood wave shape  A.1_Bmax  A.1_pfail  A.1_Brate  A.2_Bmax  \\\n0                        4     175.0        0.5        1.5     175.0   \n1                        4     175.0        0.5        1.5     175.0   \n2                        4     175.0        0.5        1.5     175.0   \n3                        4     175.0        0.5        1.5     175.0   \n4                        4     175.0        0.5        1.5     175.0   \n\n   A.2_pfail  ...  A.4_DikeIncrease 0  A.4_DikeIncrease 1  A.4_DikeIncrease 2  \\\n0        0.5  ...                   0                   0                   8   \n1        0.5  ...                   6                   5                  10   \n2        0.5  ...                  10                   6                   2   \n3        0.5  ...                   3                  10                   6   \n4        0.5  ...                   6                   3                   1   \n\n   A.5_DikeIncrease 0  A.5_DikeIncrease 1  A.5_DikeIncrease 2  \\\n0                   2                   6                   5   \n1                   2                   9                   7   \n2                  10                   7                   0   \n3                   6                   0                  10   \n4                   7                   2                   4   \n\n   EWS_DaysToThreat   scenario  policy     model  \n0                 0  reference       0  dikesnet  \n1                 2  reference       1  dikesnet  \n2                 4  reference       2  dikesnet  \n3                 1  reference       3  dikesnet  \n4                 3  reference       4  dikesnet  \n\n[5 rows x 54 columns]",
      "text/html": "<div>\n<style scoped>\n    .dataframe tbody tr th:only-of-type {\n        vertical-align: middle;\n    }\n\n    .dataframe tbody tr th {\n        vertical-align: top;\n    }\n\n    .dataframe thead th {\n        text-align: right;\n    }\n</style>\n<table border=\"1\" class=\"dataframe\">\n  <thead>\n    <tr style=\"text-align: right;\">\n      <th></th>\n      <th>Unnamed: 0</th>\n      <th>discount rate 0</th>\n      <th>discount rate 1</th>\n      <th>discount rate 2</th>\n      <th>A.0_ID flood wave shape</th>\n      <th>A.1_Bmax</th>\n      <th>A.1_pfail</th>\n      <th>A.1_Brate</th>\n      <th>A.2_Bmax</th>\n      <th>A.2_pfail</th>\n      <th>...</th>\n      <th>A.4_DikeIncrease 0</th>\n      <th>A.4_DikeIncrease 1</th>\n      <th>A.4_DikeIncrease 2</th>\n      <th>A.5_DikeIncrease 0</th>\n      <th>A.5_DikeIncrease 1</th>\n      <th>A.5_DikeIncrease 2</th>\n      <th>EWS_DaysToThreat</th>\n      <th>scenario</th>\n      <th>policy</th>\n      <th>model</th>\n    </tr>\n  </thead>\n  <tbody>\n    <tr>\n      <th>0</th>\n      <td>0</td>\n      <td>3.5</td>\n      <td>3.5</td>\n      <td>3.5</td>\n      <td>4</td>\n      <td>175.0</td>\n      <td>0.5</td>\n      <td>1.5</td>\n      <td>175.0</td>\n      <td>0.5</td>\n      <td>...</td>\n      <td>0</td>\n      <td>0</td>\n      <td>8</td>\n      <td>2</td>\n      <td>6</td>\n      <td>5</td>\n      <td>0</td>\n      <td>reference</td>\n      <td>0</td>\n      <td>dikesnet</td>\n    </tr>\n    <tr>\n      <th>1</th>\n      <td>1</td>\n      <td>3.5</td>\n      <td>3.5</td>\n      <td>3.5</td>\n      <td>4</td>\n      <td>175.0</td>\n      <td>0.5</td>\n      <td>1.5</td>\n      <td>175.0</td>\n      <td>0.5</td>\n      <td>...</td>\n      <td>6</td>\n      <td>5</td>\n      <td>10</td>\n      <td>2</td>\n      <td>9</td>\n      <td>7</td>\n      <td>2</td>\n      <td>reference</td>\n      <td>1</td>\n      <td>dikesnet</td>\n    </tr>\n    <tr>\n      <th>2</th>\n      <td>2</td>\n      <td>3.5</td>\n      <td>3.5</td>\n      <td>3.5</td>\n      <td>4</td>\n      <td>175.0</td>\n      <td>0.5</td>\n      <td>1.5</td>\n      <td>175.0</td>\n      <td>0.5</td>\n      <td>...</td>\n      <td>10</td>\n      <td>6</td>\n      <td>2</td>\n      <td>10</td>\n      <td>7</td>\n      <td>0</td>\n      <td>4</td>\n      <td>reference</td>\n      <td>2</td>\n      <td>dikesnet</td>\n    </tr>\n    <tr>\n      <th>3</th>\n      <td>3</td>\n      <td>3.5</td>\n      <td>3.5</td>\n      <td>3.5</td>\n      <td>4</td>\n      <td>175.0</td>\n      <td>0.5</td>\n      <td>1.5</td>\n      <td>175.0</td>\n      <td>0.5</td>\n      <td>...</td>\n      <td>3</td>\n      <td>10</td>\n      <td>6</td>\n      <td>6</td>\n      <td>0</td>\n      <td>10</td>\n      <td>1</td>\n      <td>reference</td>\n      <td>3</td>\n      <td>dikesnet</td>\n    </tr>\n    <tr>\n      <th>4</th>\n      <td>4</td>\n      <td>3.5</td>\n      <td>3.5</td>\n      <td>3.5</td>\n      <td>4</td>\n      <td>175.0</td>\n      <td>0.5</td>\n      <td>1.5</td>\n      <td>175.0</td>\n      <td>0.5</td>\n      <td>...</td>\n      <td>6</td>\n      <td>3</td>\n      <td>1</td>\n      <td>7</td>\n      <td>2</td>\n      <td>4</td>\n      <td>3</td>\n      <td>reference</td>\n      <td>4</td>\n      <td>dikesnet</td>\n    </tr>\n  </tbody>\n</table>\n<p>5 rows × 54 columns</p>\n</div>"
     },
     "execution_count": 47,
     "metadata": {},
     "output_type": "execute_result"
    }
   ],
   "source": [
    "experiments.head()"
   ],
   "metadata": {
    "collapsed": false,
    "ExecuteTime": {
     "end_time": "2024-06-03T15:07:16.281152Z",
     "start_time": "2024-06-03T15:07:16.231948900Z"
    }
   },
   "id": "93b1f51ca8c5765f",
   "execution_count": 47
  },
  {
   "cell_type": "code",
   "execution_count": 36,
   "outputs": [
    {
     "name": "stderr",
     "output_type": "stream",
     "text": [
      "[MainProcess/INFO] 5 points remaining, containing 3 cases of interest\n",
      "[MainProcess/INFO] mean: 1.0, mass: 0.6, coverage: 1.0, density: 1.0 restricted_dimensions: 1\n"
     ]
    }
   ],
   "source": [
    "from ema_workbench.analysis import prim\n",
    "from ema_workbench import ema_logging\n",
    "ema_logging.log_to_stderr(ema_logging.INFO)\n",
    "\n",
    "y = np.array(y)\n",
    "\n",
    "prim_alg = prim.Prim(x, y, threshold=0.8, peel_alpha=0.1)\n",
    "\n",
    "box1 = prim_alg.find_box()"
   ],
   "metadata": {
    "collapsed": false,
    "ExecuteTime": {
     "end_time": "2024-06-03T14:55:26.888583200Z",
     "start_time": "2024-06-03T14:55:26.759296500Z"
    }
   },
   "id": "8dfd8f5c5f586bf3"
  },
  {
   "cell_type": "code",
   "execution_count": 37,
   "outputs": [],
   "source": [
    "# Enable matplotlib interactive mode\n",
    "# %matplotlib notebook"
   ],
   "metadata": {
    "collapsed": false,
    "ExecuteTime": {
     "end_time": "2024-06-03T14:55:26.896678300Z",
     "start_time": "2024-06-03T14:55:26.845133400Z"
    }
   },
   "id": "de424e1887180d65"
  },
  {
   "cell_type": "code",
   "execution_count": 38,
   "outputs": [
    {
     "data": {
      "text/plain": "<Figure size 640x480 with 2 Axes>",
      "image/png": "[encoded data removed]"
     },
     "metadata": {},
     "output_type": "display_data"
    }
   ],
   "source": [
    "import matplotlib.pyplot as plt\n",
    " \n",
    "box1.show_tradeoff(annotated=True)\n",
    "plt.show()"
   ],
   "metadata": {
    "collapsed": false,
    "ExecuteTime": {
     "end_time": "2024-06-03T14:55:27.374045300Z",
     "start_time": "2024-06-03T14:55:26.902714600Z"
    }
   },
   "id": "521438a977f388d6"
  },
  {
   "cell_type": "code",
   "execution_count": 39,
   "outputs": [
    {
     "name": "stdout",
     "output_type": "stream",
     "text": [
      "coverage    1.0\n",
      "density     1.0\n",
      "id          2.0\n",
      "k           3.0\n",
      "mass        0.6\n",
      "mean        1.0\n",
      "n           3.0\n",
      "res_dim     1.0\n",
      "Name: 2, dtype: float64\n",
      "\n",
      "                              box 2                                \n",
      "                                min           max qp value qp value\n",
      "Dike Investment Costs  6.665970e+08  7.867298e+08    0.216      NaN\n"
     ]
    },
    {
     "data": {
      "text/plain": "[None]"
     },
     "execution_count": 39,
     "metadata": {},
     "output_type": "execute_result"
    }
   ],
   "source": [
    "point = 2\n",
    "box1.inspect(point)"
   ],
   "metadata": {
    "collapsed": false,
    "ExecuteTime": {
     "end_time": "2024-06-03T14:55:27.395102100Z",
     "start_time": "2024-06-03T14:55:27.377607200Z"
    }
   },
   "id": "f8b752dc3cd98a21"
  },
  {
   "cell_type": "code",
   "execution_count": 40,
   "outputs": [
    {
     "data": {
      "text/plain": "<Figure size 640x480 with 1 Axes>",
      "image/png": "[encoded data removed]"
     },
     "metadata": {},
     "output_type": "display_data"
    }
   ],
   "source": [
    "box1.inspect(point, style='graph')\n",
    "plt.show()"
   ],
   "metadata": {
    "collapsed": false,
    "ExecuteTime": {
     "end_time": "2024-06-03T14:55:27.583650900Z",
     "start_time": "2024-06-03T14:55:27.394104200Z"
    }
   },
   "id": "5e69a0306dcb72ac"
  },
  {
   "cell_type": "code",
   "execution_count": 41,
   "outputs": [],
   "source": [
    "from ema_workbench.analysis import dimensional_stacking"
   ],
   "metadata": {
    "collapsed": false,
    "ExecuteTime": {
     "end_time": "2024-06-03T14:55:27.594161Z",
     "start_time": "2024-06-03T14:55:27.587995100Z"
    }
   },
   "id": "3c892966b74743a6"
  },
  {
   "cell_type": "code",
   "execution_count": 42,
   "outputs": [
    {
     "ename": "NameError",
     "evalue": "name 'cleaned_experiments' is not defined",
     "output_type": "error",
     "traceback": [
      "\u001B[1;31m---------------------------------------------------------------------------\u001B[0m",
      "\u001B[1;31mNameError\u001B[0m                                 Traceback (most recent call last)",
      "Cell \u001B[1;32mIn[42], line 1\u001B[0m\n\u001B[1;32m----> 1\u001B[0m dimensional_stacking\u001B[38;5;241m.\u001B[39mcreate_pivot_plot(\u001B[43mcleaned_experiments\u001B[49m, y)\n",
      "\u001B[1;31mNameError\u001B[0m: name 'cleaned_experiments' is not defined"
     ]
    }
   ],
   "source": [
    "dimensional_stacking.create_pivot_plot(cleaned_experiments, y)"
   ],
   "metadata": {
    "collapsed": false,
    "ExecuteTime": {
     "end_time": "2024-06-03T14:55:27.768197500Z",
     "start_time": "2024-06-03T14:55:27.595400900Z"
    }
   },
   "id": "7305f3dc5e0ba583"
  },
  {
   "cell_type": "code",
   "execution_count": null,
   "outputs": [],
   "source": [
    "# from ema_workbench.analysis import prim\n",
    "# from ema_workbench import MultiprocessingEvaluator\n",
    "# \n",
    "# # Increase the number of scenarios\n",
    "# n_scenarios = 2000\n",
    "# n_policies = 10\n",
    "# \n",
    "# with MultiprocessingEvaluator(dike_model, n_processes=-1) as evaluator:\n",
    "#     results = evaluator.perform_experiments(n_scenarios, n_policies)\n",
    "# \n",
    "# experiments, outcomes = results\n",
    "# cleaned_experiments = experiments.drop(labels=[l.name for l in dike_model.levers], axis=1)\n",
    "# \n",
    "# data = outcomes['reliability']\n",
    "# y = data < np.percentile(data, 10)\n",
    "# \n",
    "# # Adjust PRIM parameters\n",
    "# prim_alg = prim.Prim(cleaned_experiments, y, threshold=0.7, peel_alpha=0.05, min_box_mass=0.05)\n",
    "# box1 = prim_alg.find_box()\n",
    "# \n",
    "# # Visualize the trade-off\n",
    "# box1.show_tradeoff(annotated=True)\n",
    "# plt.show()\n",
    "# \n",
    "# # Inspect the resulting box\n",
    "# box1.inspect(0)\n",
    "# box1.inspect(0, style='graph')\n",
    "# plt.show()\n"
   ],
   "metadata": {
    "collapsed": false,
    "ExecuteTime": {
     "start_time": "2024-06-03T14:55:27.636539900Z"
    }
   },
   "id": "544773a8783f108b"
  },
  {
   "cell_type": "code",
   "outputs": [],
   "source": [],
   "metadata": {
    "collapsed": false,
    "ExecuteTime": {
     "start_time": "2024-06-03T14:55:27.638066900Z"
    }
   },
   "id": "f09db222b80a32d0"
  }
 ],
 "metadata": {
  "kernelspec": {
   "display_name": "Python 3",
   "language": "python",
   "name": "python3"
  },
  "language_info": {
   "codemirror_mode": {
    "name": "ipython",
    "version": 2
   },
   "file_extension": ".py",
   "mimetype": "text/x-python",
   "name": "python",
   "nbconvert_exporter": "python",
   "pygments_lexer": "ipython2",
   "version": "2.7.6"
  }
 },
 "nbformat": 4,
 "nbformat_minor": 5
}
