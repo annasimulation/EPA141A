{
 "cells": [
  {
   "cell_type": "code",
   "execution_count": 1,
   "id": "initial_id",
   "metadata": {
    "collapsed": true,
    "ExecuteTime": {
     "end_time": "2024-06-10T13:43:32.015655500Z",
     "start_time": "2024-06-10T13:43:25.902487300Z"
    }
   },
   "outputs": [],
   "source": [
    "# Import necessary libraries\n",
    "import pandas as pd\n",
    "import numpy as np\n",
    "from ema_workbench import (Model, RealParameter, IntegerParameter, CategoricalParameter,\n",
    "                           ScalarOutcome, perform_experiments, Samplers, Policy)\n",
    "from ema_workbench.em_framework import (SequentialEvaluator, MultiprocessingEvaluator)\n",
    "from ema_workbench.util import ema_logging\n",
    "from ema_workbench.em_framework.optimization import (EpsNSGAII, Convergence)\n",
    "from ema_workbench.analysis import parcoords\n",
    "from dike_model_function import DikeNetwork\n",
    "import matplotlib.pyplot as plt\n",
    "\n",
    "# Configure logging\n",
    "ema_logging.log_to_stderr(ema_logging.INFO)\n",
    "\n",
    "# Define the sum_over function\n",
    "def sum_over(*args):\n",
    "    numbers = []\n",
    "    for entry in args:\n",
    "        try:\n",
    "            value = sum(entry)\n",
    "        except TypeError:\n",
    "            value = entry\n",
    "        numbers.append(value)\n",
    "    return sum(numbers)\n",
    "\n",
    "# Define the function to get the model for the given problem formulation\n",
    "def get_model_for_problem_formulation(problem_formulation_id):\n",
    "    function = DikeNetwork()\n",
    "    dike_model = Model(\"dikesnet\", function=function)\n",
    "\n",
    "    Real_uncert = {\"Bmax\": [30, 350], \"pfail\": [0, 1]}  # m and [.]\n",
    "    cat_uncert_loc = {\"Brate\": (1.0, 1.5, 10)}\n",
    "    cat_uncert = {f\"discount rate {n}\": (1.5, 2.5, 3.5, 4.5) for n in function.planning_steps}\n",
    "    Int_uncert = {\"A.0_ID flood wave shape\": [0, 132]}\n",
    "\n",
    "    uncertainties = []\n",
    "\n",
    "    for uncert_name in cat_uncert.keys():\n",
    "        categories = cat_uncert[uncert_name]\n",
    "        uncertainties.append(CategoricalParameter(uncert_name, categories))\n",
    "\n",
    "    for uncert_name in Int_uncert.keys():\n",
    "        uncertainties.append(IntegerParameter(uncert_name, Int_uncert[uncert_name][0], Int_uncert[uncert_name][1]))\n",
    "\n",
    "    dike_height_levers = []\n",
    "    for dike in function.dikelist:\n",
    "        for uncert_name in Real_uncert.keys():\n",
    "            name = f\"{dike}_{uncert_name}\"\n",
    "            lower, upper = Real_uncert[uncert_name]\n",
    "            uncertainties.append(RealParameter(name, lower, upper))\n",
    "\n",
    "        for uncert_name in cat_uncert_loc.keys():\n",
    "            name = f\"{dike}_{uncert_name}\"\n",
    "            categories = cat_uncert_loc[uncert_name]\n",
    "            uncertainties.append(CategoricalParameter(name, categories))\n",
    "        \n",
    "        for n in function.planning_steps:\n",
    "            name = f\"{dike}_DikeIncrease {n}\"\n",
    "            dike_height_levers.append(IntegerParameter(name, 0, 10))\n",
    "        \n",
    "    dike_model.uncertainties = uncertainties\n",
    "\n",
    "    dike_height_levers.append(IntegerParameter(\"EWS_DaysToThreat\", 0, 4))  # days\n",
    "    # Set levers: No RfR, dike heightening\n",
    "    dike_model.levers = dike_height_levers\n",
    "\n",
    "    # Define the outcomes\n",
    "    outcomes = [\n",
    "        ScalarOutcome('Total Costs', kind=ScalarOutcome.MINIMIZE, function=sum_over, variable_name=[\n",
    "            f\"{dike}_Expected Annual Damage\" for dike in function.dikelist] +\n",
    "            [f\"{dike}_Dike Investment Costs\" for dike in function.dikelist] +\n",
    "            [\"RfR Total Costs\"] \n",
    "        ),\n",
    "        ScalarOutcome('Expected Number of Deaths', kind=ScalarOutcome.MINIMIZE, function=sum_over, variable_name=[\n",
    "            f\"{dike}_Expected Number of Deaths\" for dike in function.dikelist]\n",
    "        ),\n",
    "        ScalarOutcome('Expected Annual Damage', kind=ScalarOutcome.MINIMIZE, function=sum_over, variable_name=[\n",
    "            f\"{dike}_Expected Annual Damage\" for dike in function.dikelist]),\n",
    "        ScalarOutcome('Dike Investment Costs', kind=ScalarOutcome.MINIMIZE, function=sum_over, variable_name=[f\"{dike}_Dike Investment Costs\" for dike in function.dikelist]),\n",
    "        ScalarOutcome('RfR Total Costs', kind=ScalarOutcome.MINIMIZE, function=sum_over, variable_name=[\"RfR Total Costs\"] )\n",
    "    ]\n",
    "    \n",
    "    dike_model.outcomes = outcomes\n",
    "\n",
    "    return dike_model\n",
    "\n",
    "# Define policies to test different dike height increases\n",
    "def create_policies():\n",
    "    policies = [Policy(f\"DikeIncrease_{i}\", **{f\"{dike}_DikeIncrease {n}\": i for dike in dike_model.function.dikelist for n in dike_model.function.planning_steps}, **{\"EWS_DaysToThreat\": 2}) for i in range(1, 11, 2)]\n",
    "    return policies\n",
    "\n",
    "# Get the model for a specific problem formulation\n",
    "problem_formulation_id = 6  # Change this to the desired problem formulation\n",
    "dike_model = get_model_for_problem_formulation(problem_formulation_id)\n",
    "\n",
    "# Run experiments\n",
    "policies = create_policies()\n",
    "\n",
    "\n",
    "\n"
   ]
  },
  {
   "cell_type": "code",
   "execution_count": null,
   "outputs": [
    {
     "name": "stderr",
     "output_type": "stream",
     "text": [
      "[MainProcess/INFO] pool started with 12 workers\n",
      "  0%|                                                 | 0/5000 [00:00<?, ?it/s]"
     ]
    }
   ],
   "source": [
    "# Optimization with EpsNSGAII\n",
    "with MultiprocessingEvaluator(dike_model) as evaluator:\n",
    "    results = evaluator.optimize(nfe=5000,\n",
    "                                 searchover='levers',\n",
    "                                 epsilons=[0.1, ] * len(dike_model.outcomes),\n",
    "                                 algorithm=EpsNSGAII)"
   ],
   "metadata": {
    "collapsed": false,
    "is_executing": true,
    "ExecuteTime": {
     "start_time": "2024-06-08T12:29:00.430155Z"
    }
   },
   "id": "cc387f37c1c84a6a"
  },
  {
   "cell_type": "code",
   "execution_count": null,
   "outputs": [],
   "source": [
    "# Visualization of results\n",
    "parcoords.ParallelAxes(results.loc[:, dike_model.outcomes])\n",
    "\n",
    "plt.show()\n"
   ],
   "metadata": {
    "collapsed": false,
    "is_executing": true
   },
   "id": "f8e16c5335d279d8"
  }
 ],
 "metadata": {
  "kernelspec": {
   "display_name": "Python 3",
   "language": "python",
   "name": "python3"
  },
  "language_info": {
   "codemirror_mode": {
    "name": "ipython",
    "version": 2
   },
   "file_extension": ".py",
   "mimetype": "text/x-python",
   "name": "python",
   "nbconvert_exporter": "python",
   "pygments_lexer": "ipython2",
   "version": "2.7.6"
  }
 },
 "nbformat": 4,
 "nbformat_minor": 5
}
