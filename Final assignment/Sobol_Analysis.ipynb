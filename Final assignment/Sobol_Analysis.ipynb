{
 "cells": [
  {
   "cell_type": "markdown",
   "source": [
    "## Sensitivity analysis \n",
    "In this part of the sensitivity analysis, a Sobol analysis will be performed. The Sobol will find the variance each parameter has on the specified outcomes. "
   ],
   "metadata": {
    "collapsed": false
   },
   "id": "f2585c40ca2d6b01"
  },
  {
   "cell_type": "markdown",
   "source": [
    "### Sobol Analysis"
   ],
   "metadata": {
    "collapsed": false
   },
   "id": "5dc340ebeeb67ea1"
  },
  {
   "cell_type": "code",
   "outputs": [],
   "source": [
    "import pandas as pd\n",
    "from sklearn.ensemble import ExtraTreesRegressor\n",
    "from ema_workbench.analysis import feature_scoring\n",
    "from ema_workbench.em_framework.salib_samplers import get_SALib_problem\n",
    "from ema_workbench.util import ema_logging\n",
    "from ema_workbench import Policy, MultiprocessingEvaluator, Samplers, SequentialEvaluator \n",
    "from SALib.analyze import sobol\n",
    "import seaborn as sns\n",
    "import matplotlib.pyplot as plt\n",
    "sns.set_style('white')\n",
    "%matplotlib inline\n",
    "import numpy as np\n",
    "from ema_workbench.analysis.scenario_discovery_util import RuleInductionType\n",
    "\n",
    "from problem_formulation import get_model_for_problem_formulation\n",
    "\n",
    "from dike_model_function import DikeNetwork"
   ],
   "metadata": {
    "collapsed": false,
    "ExecuteTime": {
     "end_time": "2024-06-21T10:45:36.440275500Z",
     "start_time": "2024-06-21T10:45:31.435321Z"
    }
   },
   "id": "b7ffd63324669e13",
   "execution_count": 2
  },
  {
   "cell_type": "code",
   "outputs": [],
   "source": [
    "ema_logging.log_to_stderr(ema_logging.INFO)\n",
    "\n",
    "dike_model, planning_steps = get_model_for_problem_formulation(6)"
   ],
   "metadata": {
    "collapsed": false,
    "ExecuteTime": {
     "end_time": "2024-06-21T10:45:37.243544100Z",
     "start_time": "2024-06-21T10:45:36.442848400Z"
    }
   },
   "id": "6354552a653cb62c",
   "execution_count": 3
  },
  {
   "cell_type": "code",
   "outputs": [],
   "source": [
    "policies = [Policy(f\"DikeIncrease_{i}\", **{f\"{dike}_DikeIncrease {n}\": i for dike in dike_model.function.dikelist for n in dike_model.function.planning_steps}, **{\"EWS_DaysToThreat\": 2}) for i in range(1, 11)]"
   ],
   "metadata": {
    "collapsed": false,
    "ExecuteTime": {
     "end_time": "2024-06-21T10:45:37.254280100Z",
     "start_time": "2024-06-21T10:45:37.246051200Z"
    }
   },
   "id": "7e9d1d8dfeda342f",
   "execution_count": 4
  },
  {
   "cell_type": "code",
   "outputs": [
    {
     "name": "stderr",
     "output_type": "stream",
     "text": [
      "C:\\Users\\anna\\anaconda3\\Lib\\site-packages\\scipy\\stats\\_qmc.py:804: UserWarning: The balance properties of Sobol' points require n to be a power of 2.\n",
      "  sample = self._random(n, workers=workers)\n",
      "[MainProcess/INFO] performing 400 scenarios * 10 policies * 1 model(s) = 4000 experiments\n",
      "  0%|                                                 | 0/4000 [00:00<?, ?it/s][MainProcess/INFO] performing experiments sequentially\n",
      " 69%|██████████████████████████▎           | 2771/4000 [33:06<22:30,  1.10s/it]"
     ]
    }
   ],
   "source": [
    "#Running experiments \n",
    "with SequentialEvaluator(dike_model) as evaluator:\n",
    "    experiments, outcomes = evaluator.perform_experiments(scenarios=10, policies=policies, uncertainty_sampling=Samplers.SOBOL)\n",
    "\n",
    "#Adding outcomes to experiments dataframe\n",
    "for keys in outcomes.keys():\n",
    "    experiments[keys] = outcomes[keys]\n",
    "        \n",
    "#Saving sobol outcomes to csv file\n",
    "experiments.to_csv(\"output/outcomes_sobol_3.csv\")"
   ],
   "metadata": {
    "collapsed": false,
    "is_executing": true,
    "ExecuteTime": {
     "start_time": "2024-06-21T10:45:37.253295300Z"
    }
   },
   "id": "fdd4bdaf38de1d60",
   "execution_count": null
  },
  {
   "cell_type": "code",
   "outputs": [],
   "source": [
    "experiments = pd.read_csv('output/outcomes_sobol_3.csv')\n",
    "#experiments.keys()"
   ],
   "metadata": {
    "collapsed": false,
    "is_executing": true
   },
   "id": "e6681df1d8517aef",
   "execution_count": null
  },
  {
   "cell_type": "code",
   "outputs": [],
   "source": [
    "problem = get_SALib_problem(dike_model.uncertainties)\n",
    "#print(problem)"
   ],
   "metadata": {
    "collapsed": false,
    "is_executing": true
   },
   "id": "8f2e807ade1c65ce",
   "execution_count": null
  },
  {
   "cell_type": "code",
   "outputs": [],
   "source": [
    "#define outcomes of interest\n",
    "ooi = ['Expected Annual Damage', 'Dike Investment Costs']\n",
    "\n",
    "uncertainties = [\n",
    "    'A.0_ID flood wave shape', 'A.1_Bmax', 'A.1_Brate', 'A.1_pfail',\n",
    "    'A.2_Bmax', 'A.2_Brate', 'A.2_pfail', 'A.3_Bmax', 'A.3_Brate',\n",
    "    'A.3_pfail', 'A.4_Bmax', 'A.4_Brate', 'A.4_pfail', 'A.5_Bmax',\n",
    "    'A.5_Brate', 'A.5_pfail', 'discount rate 0', 'discount rate 1',\n",
    "    'discount rate 2'\n",
    "]"
   ],
   "metadata": {
    "collapsed": false,
    "is_executing": true
   },
   "id": "1e1b01c0aecc1e2b",
   "execution_count": null
  },
  {
   "cell_type": "code",
   "outputs": [],
   "source": [
    "#analysing and plotting the sobol analysis for all outcomes of interest\n",
    "problem = {\n",
    "    'num_vars': len(uncertainties),\n",
    "    'names': uncertainties,\n",
    "    'bounds': [[0, 1]] * len(uncertainties)  # Assuming all uncertainties are normalized between 0 and 1\n",
    "}\n",
    "\n",
    "for outcome in ooi:\n",
    "    #print(f\"Performing Sobol analysis for {outcome}\")\n",
    "    Si = sobol.analyze(problem, experiments[outcome].to_numpy(), calc_second_order=True, print_to_console=True)\n",
    "\n",
    "    Si_filter = {k: Si[k] for k in ['ST', 'ST_conf', 'S1', 'S1_conf']}\n",
    "    Si_df = pd.DataFrame(Si_filter, index=problem['names'])\n",
    "\n",
    "    sns.set_style('white')\n",
    "    fig, ax = plt.subplots(1)\n",
    "\n",
    "    indices = Si_df[['S1', 'ST']]\n",
    "    err = Si_df[['S1_conf', 'ST_conf']]\n",
    "    #print(indices)\n",
    "\n",
    "    indices.plot.bar(yerr=err.values.T, ax=ax)\n",
    "    ax.set_title(f'Sobol Sensitivity Analysis for {outcome}')\n",
    "    fig.set_size_inches(8, 6)\n",
    "    fig.subplots_adjust(bottom=0.3)\n",
    "    plt.show()\n",
    "    #fig.savefig(f'img/Sobol for {outcome}')"
   ],
   "metadata": {
    "collapsed": false,
    "is_executing": true
   },
   "id": "bf48f4d80df29ccd",
   "execution_count": null
  },
  {
   "cell_type": "code",
   "outputs": [],
   "source": [
    "outcomes = pd.read_csv('output/outcomes_sobol_3.csv')\n",
    "\n",
    "dike_final_sobol = outcomes[\"Expected Annual Damage\"]\n",
    "dike_mean_sobol = np.mean(outcomes[\"Expected Annual Damage\"])\n",
    "dike_std_sobol = np.std(outcomes[\"Expected Annual Damage\"])"
   ],
   "metadata": {
    "collapsed": false,
    "is_executing": true
   },
   "id": "bfbee83d695b853f",
   "execution_count": null
  },
  {
   "cell_type": "markdown",
   "source": [
    "### Extra Trees Analysis\n",
    "The performing of the feature score analysis using the methods of extra trees. "
   ],
   "metadata": {
    "collapsed": false
   },
   "id": "d7e7267e931afa52"
  },
  {
   "cell_type": "code",
   "outputs": [],
   "source": [
    "scores = feature_scoring.get_ex_feature_scores(experiments, dike_final_sobol, \n",
    "                                    max_features=0.6, mode=RuleInductionType.REGRESSION)[0]                                         \n",
    "#scores"
   ],
   "metadata": {
    "collapsed": false,
    "is_executing": true
   },
   "id": "dc0d799bbf6db7e8",
   "execution_count": null
  },
  {
   "cell_type": "code",
   "outputs": [],
   "source": [
    "X = experiments[uncertainties]\n",
    "combined_scores = []\n",
    "\n",
    "# Perform feature scoring in batches\n",
    "for j in range(100, experiments.shape[0], 100):\n",
    "    scores = feature_scoring.get_ex_feature_scores(\n",
    "        X.iloc[0:j, :], \n",
    "        experiments[ooi[0]].iloc[0:j],\n",
    "        max_features=0.6,\n",
    "        mode=RuleInductionType.REGRESSION\n",
    "    )[0]\n",
    "    scores.columns = [j]\n",
    "    combined_scores.append(scores)\n",
    "\n",
    "# Combine scores\n",
    "combined_scores_df = pd.concat(combined_scores, axis=1)\n",
    "#print(combined_scores_df)\n",
    "\n",
    "# Plotting the feature importances\n",
    "combined_scores_mean = combined_scores_df.mean(axis=1)\n",
    "combined_scores_std = combined_scores_df.std(axis=1)\n",
    "\n",
    "sns.set_style('white')\n",
    "fig, ax = plt.subplots()\n",
    "combined_scores_mean.plot.bar(yerr=combined_scores_std, ax=ax)\n",
    "ax.set_title(\"Feature importances using Extra Trees\")\n",
    "ax.set_ylabel(\"Mean decrease in impurity\")\n",
    "fig.tight_layout()\n",
    "plt.show()\n",
    "#fig.savefig('img/ExtraTrees_FeatureImportance.png')"
   ],
   "metadata": {
    "collapsed": false,
    "is_executing": true
   },
   "id": "c527889dd088fccf",
   "execution_count": null
  },
  {
   "cell_type": "code",
   "outputs": [],
   "source": [
    "fig, ax = plt.subplots(1)\n",
    "\n",
    "combined_scores_df.T.plot(ax=ax)\n",
    "ax.legend(bbox_to_anchor=(1,1))\n",
    "ax.set_xlabel('Samples')\n",
    "ax.set_ylabel('feature scores')\n",
    "plt.show()\n",
    "#fig.savefig('img/feature_scores.png')"
   ],
   "metadata": {
    "collapsed": false,
    "is_executing": true
   },
   "id": "4bb4c51ddf0a22dc",
   "execution_count": null
  },
  {
   "cell_type": "code",
   "outputs": [],
   "source": [
    "#creating a heatmap of the featuring scores \n",
    "sns.set(rc = {'figure.figsize':(10,10)})\n",
    "svm=sns.heatmap(scores, cmap=\"viridis\", annot=True)\n",
    "plt.show()\n",
    "figure = svm.get_figure()    \n",
    "#figure.savefig('img/heatmap.png', dpi=400, bbox_inches='tight')"
   ],
   "metadata": {
    "collapsed": false,
    "is_executing": true
   },
   "id": "61a3f34e6b198aa",
   "execution_count": null
  },
  {
   "cell_type": "code",
   "outputs": [],
   "source": [],
   "metadata": {
    "collapsed": false,
    "is_executing": true
   },
   "id": "3925ccc8fd7789ef"
  }
 ],
 "metadata": {
  "kernelspec": {
   "display_name": "Python 3",
   "language": "python",
   "name": "python3"
  },
  "language_info": {
   "codemirror_mode": {
    "name": "ipython",
    "version": 2
   },
   "file_extension": ".py",
   "mimetype": "text/x-python",
   "name": "python",
   "nbconvert_exporter": "python",
   "pygments_lexer": "ipython2",
   "version": "2.7.6"
  }
 },
 "nbformat": 4,
 "nbformat_minor": 5
}
