{
 "cells": [
  {
   "cell_type": "markdown",
   "source": [
    "## Sensitivity analysis \n",
    "In this part of the sensitivity analysis, a Sobol analysis will be performed. The Sobol will find the variance each parameter has on the specified outcomes. "
   ],
   "metadata": {
    "collapsed": false
   },
   "id": "f2585c40ca2d6b01"
  },
  {
   "cell_type": "markdown",
   "source": [
    "### Sobol Analysis"
   ],
   "metadata": {
    "collapsed": false
   },
   "id": "5dc340ebeeb67ea1"
  },
  {
   "cell_type": "code",
   "outputs": [],
   "source": [
    "import pandas as pd\n",
    "from sklearn.ensemble import ExtraTreesRegressor\n",
    "from ema_workbench.analysis import feature_scoring\n",
    "from ema_workbench.em_framework.salib_samplers import get_SALib_problem\n",
    "from ema_workbench.util import ema_logging\n",
    "from ema_workbench import Policy, MultiprocessingEvaluator, Samplers, SequentialEvaluator \n",
    "from SALib.analyze import sobol\n",
    "import seaborn as sns\n",
    "import matplotlib.pyplot as plt\n",
    "sns.set_style('white')\n",
    "%matplotlib inline\n",
    "import numpy as np\n",
    "from ema_workbench.analysis.scenario_discovery_util import RuleInductionType\n",
    "\n",
    "from problem_formulation import get_model_for_problem_formulation\n",
    "\n",
    "from dike_model_function import DikeNetwork"
   ],
   "metadata": {
    "collapsed": false,
    "ExecuteTime": {
     "end_time": "2024-06-21T10:45:36.440275500Z",
     "start_time": "2024-06-21T10:45:31.435321Z"
    }
   },
   "id": "b7ffd63324669e13",
   "execution_count": 2
  },
  {
   "cell_type": "code",
   "outputs": [],
   "source": [
    "ema_logging.log_to_stderr(ema_logging.INFO)\n",
    "\n",
    "dike_model, planning_steps = get_model_for_problem_formulation(6)"
   ],
   "metadata": {
    "collapsed": false,
    "ExecuteTime": {
     "end_time": "2024-06-21T10:45:37.243544100Z",
     "start_time": "2024-06-21T10:45:36.442848400Z"
    }
   },
   "id": "6354552a653cb62c",
   "execution_count": 3
  },
  {
   "cell_type": "code",
   "outputs": [],
   "source": [
    "policies = [Policy(f\"DikeIncrease_{i}\", **{f\"{dike}_DikeIncrease {n}\": i for dike in dike_model.function.dikelist for n in dike_model.function.planning_steps}, **{\"EWS_DaysToThreat\": 2}) for i in range(1, 11)]"
   ],
   "metadata": {
    "collapsed": false,
    "ExecuteTime": {
     "end_time": "2024-06-21T10:45:37.254280100Z",
     "start_time": "2024-06-21T10:45:37.246051200Z"
    }
   },
   "id": "7e9d1d8dfeda342f",
   "execution_count": 4
  },
  {
   "cell_type": "code",
   "outputs": [
    {
     "name": "stderr",
     "output_type": "stream",
     "text": [
      "C:\\Users\\anna\\anaconda3\\Lib\\site-packages\\scipy\\stats\\_qmc.py:804: UserWarning: The balance properties of Sobol' points require n to be a power of 2.\n",
      "  sample = self._random(n, workers=workers)\n",
      "[MainProcess/INFO] performing 400 scenarios * 10 policies * 1 model(s) = 4000 experiments\n",
      "  0%|                                                 | 0/4000 [00:00<?, ?it/s][MainProcess/INFO] performing experiments sequentially\n",
      "100%|██████████████████████████████████████| 4000/4000 [53:33<00:00,  1.24it/s]\n",
      "[MainProcess/INFO] experiments finished\n"
     ]
    }
   ],
   "source": [
    "#Running experiments \n",
    "with SequentialEvaluator(dike_model) as evaluator:\n",
    "    experiments, outcomes = evaluator.perform_experiments(scenarios=100, policies=policies, uncertainty_sampling=Samplers.SOBOL)\n",
    "\n",
    "#Adding outcomes to experiments dataframe\n",
    "for keys in outcomes.keys():\n",
    "    experiments[keys] = outcomes[keys]\n",
    "        \n",
    "#Saving sobol outcomes to csv file\n",
    "experiments.to_csv(\"output/outcomes_sobol_3.csv\")"
   ],
   "metadata": {
    "collapsed": false,
    "ExecuteTime": {
     "end_time": "2024-06-21T11:39:10.878591800Z",
     "start_time": "2024-06-21T10:45:37.253295300Z"
    }
   },
   "id": "fdd4bdaf38de1d60",
   "execution_count": 5
  },
  {
   "cell_type": "code",
   "outputs": [],
   "source": [
    "experiments = pd.read_csv('output/outcomes_sobol_3.csv')\n",
    "#experiments.keys()"
   ],
   "metadata": {
    "collapsed": false,
    "ExecuteTime": {
     "end_time": "2024-06-21T11:39:10.949820500Z",
     "start_time": "2024-06-21T11:39:10.894005200Z"
    }
   },
   "id": "e6681df1d8517aef",
   "execution_count": 6
  },
  {
   "cell_type": "code",
   "outputs": [],
   "source": [
    "problem = get_SALib_problem(dike_model.uncertainties)\n",
    "#print(problem)"
   ],
   "metadata": {
    "collapsed": false,
    "ExecuteTime": {
     "end_time": "2024-06-21T11:39:10.960103100Z",
     "start_time": "2024-06-21T11:39:10.949820500Z"
    }
   },
   "id": "8f2e807ade1c65ce",
   "execution_count": 7
  },
  {
   "cell_type": "code",
   "outputs": [],
   "source": [
    "#define outcomes of interest\n",
    "ooi = ['Expected Annual Damage', 'Dike Investment Costs']\n",
    "\n",
    "uncertainties = [\n",
    "    'A.0_ID flood wave shape', 'A.1_Bmax', 'A.1_Brate', 'A.1_pfail',\n",
    "    'A.2_Bmax', 'A.2_Brate', 'A.2_pfail', 'A.3_Bmax', 'A.3_Brate',\n",
    "    'A.3_pfail', 'A.4_Bmax', 'A.4_Brate', 'A.4_pfail', 'A.5_Bmax',\n",
    "    'A.5_Brate', 'A.5_pfail', 'discount rate 0', 'discount rate 1',\n",
    "    'discount rate 2'\n",
    "]"
   ],
   "metadata": {
    "collapsed": false,
    "ExecuteTime": {
     "end_time": "2024-06-21T11:39:10.972623Z",
     "start_time": "2024-06-21T11:39:10.962708200Z"
    }
   },
   "id": "1e1b01c0aecc1e2b",
   "execution_count": 8
  },
  {
   "cell_type": "code",
   "outputs": [
    {
     "name": "stdout",
     "output_type": "stream",
     "text": [
      "                                   ST       ST_conf\n",
      "A.0_ID flood wave shape  7.125897e-04  1.165798e-03\n",
      "A.1_Bmax                 6.377328e-04  1.136887e-03\n",
      "A.1_Brate                5.433502e-07  8.010193e-07\n",
      "A.1_pfail                6.595532e-01  2.589252e-01\n",
      "A.2_Bmax                 8.957508e-06  1.797141e-05\n",
      "A.2_Brate                5.950304e-06  1.085871e-05\n",
      "A.2_pfail                9.494552e-03  2.832362e-02\n",
      "A.3_Bmax                 5.146216e-05  1.501677e-04\n",
      "A.3_Brate                1.225857e-05  3.645701e-05\n",
      "A.3_pfail                6.404849e-02  1.118946e-01\n",
      "A.4_Bmax                 0.000000e+00  0.000000e+00\n",
      "A.4_Brate                0.000000e+00  0.000000e+00\n",
      "A.4_pfail                3.550917e-04  8.630616e-04\n",
      "A.5_Bmax                 0.000000e+00  0.000000e+00\n",
      "A.5_Brate                0.000000e+00  0.000000e+00\n",
      "A.5_pfail                2.006157e-02  4.097124e-02\n",
      "discount rate 0          1.834468e-02  3.422248e-02\n",
      "discount rate 1          6.177321e-03  6.182319e-03\n",
      "discount rate 2          4.769576e-04  7.982331e-04\n",
      "                               S1   S1_conf\n",
      "A.0_ID flood wave shape  0.003902  0.004589\n",
      "A.1_Bmax                 0.015852  0.022433\n",
      "A.1_Brate                0.000502  0.000748\n",
      "A.1_pfail                0.749760  0.485268\n",
      "A.2_Bmax                -0.001458  0.003560\n",
      "A.2_Brate               -0.001104  0.002660\n",
      "A.2_pfail               -0.030801  0.059593\n",
      "A.3_Bmax                 0.000153  0.000382\n",
      "A.3_Brate               -0.000050  0.000136\n",
      "A.3_pfail                0.104153  0.216150\n",
      "A.4_Bmax                 0.000000  0.000000\n",
      "A.4_Brate                0.000000  0.000000\n",
      "A.4_pfail                0.000966  0.002212\n",
      "A.5_Bmax                 0.000000  0.000000\n",
      "A.5_Brate                0.000000  0.000000\n",
      "A.5_pfail                0.015918  0.044157\n",
      "discount rate 0          0.065210  0.070844\n",
      "discount rate 1          0.005892  0.007516\n",
      "discount rate 2         -0.008108  0.011186\n",
      "                                            S2   S2_conf\n",
      "(A.0_ID flood wave shape, A.1_Bmax)  -0.001856  0.008956\n",
      "(A.0_ID flood wave shape, A.1_Brate) -0.001986  0.009369\n",
      "(A.0_ID flood wave shape, A.1_pfail)  0.009576  0.026707\n",
      "(A.0_ID flood wave shape, A.2_Bmax)  -0.002152  0.009579\n",
      "(A.0_ID flood wave shape, A.2_Brate) -0.002124  0.009551\n",
      "...                                        ...       ...\n",
      "(A.5_pfail, discount rate 1)          0.025511  0.140666\n",
      "(A.5_pfail, discount rate 2)          0.020477  0.129433\n",
      "(discount rate 0, discount rate 1)   -0.087531  0.099862\n",
      "(discount rate 0, discount rate 2)   -0.086074  0.099101\n",
      "(discount rate 1, discount rate 2)   -0.007097  0.011032\n",
      "\n",
      "[171 rows x 2 columns]\n"
     ]
    },
    {
     "data": {
      "text/plain": "<Figure size 800x600 with 1 Axes>",
      "image/png": "[encoded data removed]"
     },
     "metadata": {},
     "output_type": "display_data"
    },
    {
     "name": "stdout",
     "output_type": "stream",
     "text": [
      "                          ST  ST_conf\n",
      "A.0_ID flood wave shape  0.0      0.0\n",
      "A.1_Bmax                 0.0      0.0\n",
      "A.1_Brate                0.0      0.0\n",
      "A.1_pfail                0.0      0.0\n",
      "A.2_Bmax                 0.0      0.0\n",
      "A.2_Brate                0.0      0.0\n",
      "A.2_pfail                0.0      0.0\n",
      "A.3_Bmax                 0.0      0.0\n",
      "A.3_Brate                0.0      0.0\n",
      "A.3_pfail                0.0      0.0\n",
      "A.4_Bmax                 0.0      0.0\n",
      "A.4_Brate                0.0      0.0\n",
      "A.4_pfail                0.0      0.0\n",
      "A.5_Bmax                 0.0      0.0\n",
      "A.5_Brate                0.0      0.0\n",
      "A.5_pfail                0.0      0.0\n",
      "discount rate 0          0.0      0.0\n",
      "discount rate 1          0.0      0.0\n",
      "discount rate 2          0.0      0.0\n",
      "                          S1  S1_conf\n",
      "A.0_ID flood wave shape  0.0      0.0\n",
      "A.1_Bmax                 0.0      0.0\n",
      "A.1_Brate                0.0      0.0\n",
      "A.1_pfail                0.0      0.0\n",
      "A.2_Bmax                 0.0      0.0\n",
      "A.2_Brate                0.0      0.0\n",
      "A.2_pfail                0.0      0.0\n",
      "A.3_Bmax                 0.0      0.0\n",
      "A.3_Brate                0.0      0.0\n",
      "A.3_pfail                0.0      0.0\n",
      "A.4_Bmax                 0.0      0.0\n",
      "A.4_Brate                0.0      0.0\n",
      "A.4_pfail                0.0      0.0\n",
      "A.5_Bmax                 0.0      0.0\n",
      "A.5_Brate                0.0      0.0\n",
      "A.5_pfail                0.0      0.0\n",
      "discount rate 0          0.0      0.0\n",
      "discount rate 1          0.0      0.0\n",
      "discount rate 2          0.0      0.0\n",
      "                                       S2  S2_conf\n",
      "(A.0_ID flood wave shape, A.1_Bmax)   0.0      0.0\n",
      "(A.0_ID flood wave shape, A.1_Brate)  0.0      0.0\n",
      "(A.0_ID flood wave shape, A.1_pfail)  0.0      0.0\n",
      "(A.0_ID flood wave shape, A.2_Bmax)   0.0      0.0\n",
      "(A.0_ID flood wave shape, A.2_Brate)  0.0      0.0\n",
      "...                                   ...      ...\n",
      "(A.5_pfail, discount rate 1)          0.0      0.0\n",
      "(A.5_pfail, discount rate 2)          0.0      0.0\n",
      "(discount rate 0, discount rate 1)    0.0      0.0\n",
      "(discount rate 0, discount rate 2)    0.0      0.0\n",
      "(discount rate 1, discount rate 2)    0.0      0.0\n",
      "\n",
      "[171 rows x 2 columns]\n"
     ]
    },
    {
     "data": {
      "text/plain": "<Figure size 800x600 with 1 Axes>",
      "image/png": "[encoded data removed]"
     },
     "metadata": {},
     "output_type": "display_data"
    }
   ],
   "source": [
    "#analysing and plotting the sobol analysis for all outcomes of interest\n",
    "problem = {\n",
    "    'num_vars': len(uncertainties),\n",
    "    'names': uncertainties,\n",
    "    'bounds': [[0, 1]] * len(uncertainties)  # Assuming all uncertainties are normalized between 0 and 1\n",
    "}\n",
    "\n",
    "for outcome in ooi:\n",
    "    #print(f\"Performing Sobol analysis for {outcome}\")\n",
    "    Si = sobol.analyze(problem, experiments[outcome].to_numpy(), calc_second_order=True, print_to_console=True)\n",
    "\n",
    "    Si_filter = {k: Si[k] for k in ['ST', 'ST_conf', 'S1', 'S1_conf']}\n",
    "    Si_df = pd.DataFrame(Si_filter, index=problem['names'])\n",
    "\n",
    "    sns.set_style('white')\n",
    "    fig, ax = plt.subplots(1)\n",
    "\n",
    "    indices = Si_df[['S1', 'ST']]\n",
    "    err = Si_df[['S1_conf', 'ST_conf']]\n",
    "    #print(indices)\n",
    "\n",
    "    indices.plot.bar(yerr=err.values.T, ax=ax)\n",
    "    ax.set_title(f'Sobol Sensitivity Analysis for {outcome}')\n",
    "    fig.set_size_inches(8, 6)\n",
    "    fig.subplots_adjust(bottom=0.3)\n",
    "    plt.show()\n",
    "    #fig.savefig(f'img/Sobol for {outcome}')"
   ],
   "metadata": {
    "collapsed": false,
    "ExecuteTime": {
     "end_time": "2024-06-21T11:39:14.218272700Z",
     "start_time": "2024-06-21T11:39:10.985260200Z"
    }
   },
   "id": "bf48f4d80df29ccd",
   "execution_count": 9
  },
  {
   "cell_type": "code",
   "outputs": [],
   "source": [
    "outcomes = pd.read_csv('output/outcomes_sobol_3.csv')\n",
    "\n",
    "dike_final_sobol = outcomes[\"Expected Annual Damage\"]\n",
    "dike_mean_sobol = np.mean(outcomes[\"Expected Annual Damage\"])\n",
    "dike_std_sobol = np.std(outcomes[\"Expected Annual Damage\"])"
   ],
   "metadata": {
    "collapsed": false,
    "ExecuteTime": {
     "end_time": "2024-06-21T11:39:14.436293200Z",
     "start_time": "2024-06-21T11:39:14.117461500Z"
    }
   },
   "id": "bfbee83d695b853f",
   "execution_count": 10
  },
  {
   "cell_type": "markdown",
   "source": [
    "### Extra Trees Analysis\n",
    "The performing of the feature score analysis using the methods of extra trees. "
   ],
   "metadata": {
    "collapsed": false
   },
   "id": "d7e7267e931afa52"
  },
  {
   "cell_type": "code",
   "outputs": [
    {
     "ename": "ValueError",
     "evalue": "Found input variables with inconsistent numbers of samples: [4000, 40000]",
     "output_type": "error",
     "traceback": [
      "\u001B[1;31m---------------------------------------------------------------------------\u001B[0m",
      "\u001B[1;31mValueError\u001B[0m                                Traceback (most recent call last)",
      "Cell \u001B[1;32mIn[11], line 1\u001B[0m\n\u001B[1;32m----> 1\u001B[0m scores \u001B[38;5;241m=\u001B[39m \u001B[43mfeature_scoring\u001B[49m\u001B[38;5;241;43m.\u001B[39;49m\u001B[43mget_ex_feature_scores\u001B[49m\u001B[43m(\u001B[49m\u001B[43mexperiments\u001B[49m\u001B[43m,\u001B[49m\u001B[43m \u001B[49m\u001B[43mdike_final_sobol\u001B[49m\u001B[43m,\u001B[49m\u001B[43m \u001B[49m\n\u001B[0;32m      2\u001B[0m \u001B[43m                                    \u001B[49m\u001B[43mmax_features\u001B[49m\u001B[38;5;241;43m=\u001B[39;49m\u001B[38;5;241;43m0.6\u001B[39;49m\u001B[43m,\u001B[49m\u001B[43m \u001B[49m\u001B[43mmode\u001B[49m\u001B[38;5;241;43m=\u001B[39;49m\u001B[43mRuleInductionType\u001B[49m\u001B[38;5;241;43m.\u001B[39;49m\u001B[43mREGRESSION\u001B[49m\u001B[43m)\u001B[49m[\u001B[38;5;241m0\u001B[39m]                                         \n\u001B[0;32m      3\u001B[0m \u001B[38;5;66;03m#scores\u001B[39;00m\n",
      "File \u001B[1;32m~\\anaconda3\\Lib\\site-packages\\ema_workbench\\analysis\\feature_scoring.py:333\u001B[0m, in \u001B[0;36mget_ex_feature_scores\u001B[1;34m(x, y, mode, nr_trees, max_features, max_depth, min_samples_split, min_samples_leaf, min_weight_fraction_leaf, max_leaf_nodes, bootstrap, oob_score, random_state)\u001B[0m\n\u001B[0;32m    318\u001B[0m     \u001B[38;5;28;01mraise\u001B[39;00m \u001B[38;5;167;01mValueError\u001B[39;00m(\u001B[38;5;124mf\u001B[39m\u001B[38;5;124m\"\u001B[39m\u001B[38;5;132;01m{\u001B[39;00mmode\u001B[38;5;132;01m}\u001B[39;00m\u001B[38;5;124m not valid for mode\u001B[39m\u001B[38;5;124m\"\u001B[39m)\n\u001B[0;32m    320\u001B[0m extra_trees \u001B[38;5;241m=\u001B[39m etc(\n\u001B[0;32m    321\u001B[0m     n_estimators\u001B[38;5;241m=\u001B[39mnr_trees,\n\u001B[0;32m    322\u001B[0m     criterion\u001B[38;5;241m=\u001B[39mcriterion,\n\u001B[1;32m   (...)\u001B[0m\n\u001B[0;32m    331\u001B[0m     random_state\u001B[38;5;241m=\u001B[39mrandom_state,\n\u001B[0;32m    332\u001B[0m )\n\u001B[1;32m--> 333\u001B[0m \u001B[43mextra_trees\u001B[49m\u001B[38;5;241;43m.\u001B[39;49m\u001B[43mfit\u001B[49m\u001B[43m(\u001B[49m\u001B[43mx\u001B[49m\u001B[43m,\u001B[49m\u001B[43m \u001B[49m\u001B[43my\u001B[49m\u001B[43m)\u001B[49m\n\u001B[0;32m    335\u001B[0m importances \u001B[38;5;241m=\u001B[39m extra_trees\u001B[38;5;241m.\u001B[39mfeature_importances_\n\u001B[0;32m    337\u001B[0m importances \u001B[38;5;241m=\u001B[39m \u001B[38;5;28mzip\u001B[39m(uncs, importances)\n",
      "File \u001B[1;32m~\\anaconda3\\Lib\\site-packages\\sklearn\\base.py:1152\u001B[0m, in \u001B[0;36m_fit_context.<locals>.decorator.<locals>.wrapper\u001B[1;34m(estimator, *args, **kwargs)\u001B[0m\n\u001B[0;32m   1145\u001B[0m     estimator\u001B[38;5;241m.\u001B[39m_validate_params()\n\u001B[0;32m   1147\u001B[0m \u001B[38;5;28;01mwith\u001B[39;00m config_context(\n\u001B[0;32m   1148\u001B[0m     skip_parameter_validation\u001B[38;5;241m=\u001B[39m(\n\u001B[0;32m   1149\u001B[0m         prefer_skip_nested_validation \u001B[38;5;129;01mor\u001B[39;00m global_skip_validation\n\u001B[0;32m   1150\u001B[0m     )\n\u001B[0;32m   1151\u001B[0m ):\n\u001B[1;32m-> 1152\u001B[0m     \u001B[38;5;28;01mreturn\u001B[39;00m \u001B[43mfit_method\u001B[49m\u001B[43m(\u001B[49m\u001B[43mestimator\u001B[49m\u001B[43m,\u001B[49m\u001B[43m \u001B[49m\u001B[38;5;241;43m*\u001B[39;49m\u001B[43margs\u001B[49m\u001B[43m,\u001B[49m\u001B[43m \u001B[49m\u001B[38;5;241;43m*\u001B[39;49m\u001B[38;5;241;43m*\u001B[39;49m\u001B[43mkwargs\u001B[49m\u001B[43m)\u001B[49m\n",
      "File \u001B[1;32m~\\anaconda3\\Lib\\site-packages\\sklearn\\ensemble\\_forest.py:348\u001B[0m, in \u001B[0;36mBaseForest.fit\u001B[1;34m(self, X, y, sample_weight)\u001B[0m\n\u001B[0;32m    346\u001B[0m \u001B[38;5;28;01mif\u001B[39;00m issparse(y):\n\u001B[0;32m    347\u001B[0m     \u001B[38;5;28;01mraise\u001B[39;00m \u001B[38;5;167;01mValueError\u001B[39;00m(\u001B[38;5;124m\"\u001B[39m\u001B[38;5;124msparse multilabel-indicator for y is not supported.\u001B[39m\u001B[38;5;124m\"\u001B[39m)\n\u001B[1;32m--> 348\u001B[0m X, y \u001B[38;5;241m=\u001B[39m \u001B[38;5;28;43mself\u001B[39;49m\u001B[38;5;241;43m.\u001B[39;49m\u001B[43m_validate_data\u001B[49m\u001B[43m(\u001B[49m\n\u001B[0;32m    349\u001B[0m \u001B[43m    \u001B[49m\u001B[43mX\u001B[49m\u001B[43m,\u001B[49m\u001B[43m \u001B[49m\u001B[43my\u001B[49m\u001B[43m,\u001B[49m\u001B[43m \u001B[49m\u001B[43mmulti_output\u001B[49m\u001B[38;5;241;43m=\u001B[39;49m\u001B[38;5;28;43;01mTrue\u001B[39;49;00m\u001B[43m,\u001B[49m\u001B[43m \u001B[49m\u001B[43maccept_sparse\u001B[49m\u001B[38;5;241;43m=\u001B[39;49m\u001B[38;5;124;43m\"\u001B[39;49m\u001B[38;5;124;43mcsc\u001B[39;49m\u001B[38;5;124;43m\"\u001B[39;49m\u001B[43m,\u001B[49m\u001B[43m \u001B[49m\u001B[43mdtype\u001B[49m\u001B[38;5;241;43m=\u001B[39;49m\u001B[43mDTYPE\u001B[49m\n\u001B[0;32m    350\u001B[0m \u001B[43m\u001B[49m\u001B[43m)\u001B[49m\n\u001B[0;32m    351\u001B[0m \u001B[38;5;28;01mif\u001B[39;00m sample_weight \u001B[38;5;129;01mis\u001B[39;00m \u001B[38;5;129;01mnot\u001B[39;00m \u001B[38;5;28;01mNone\u001B[39;00m:\n\u001B[0;32m    352\u001B[0m     sample_weight \u001B[38;5;241m=\u001B[39m _check_sample_weight(sample_weight, X)\n",
      "File \u001B[1;32m~\\anaconda3\\Lib\\site-packages\\sklearn\\base.py:622\u001B[0m, in \u001B[0;36mBaseEstimator._validate_data\u001B[1;34m(self, X, y, reset, validate_separately, cast_to_ndarray, **check_params)\u001B[0m\n\u001B[0;32m    620\u001B[0m         y \u001B[38;5;241m=\u001B[39m check_array(y, input_name\u001B[38;5;241m=\u001B[39m\u001B[38;5;124m\"\u001B[39m\u001B[38;5;124my\u001B[39m\u001B[38;5;124m\"\u001B[39m, \u001B[38;5;241m*\u001B[39m\u001B[38;5;241m*\u001B[39mcheck_y_params)\n\u001B[0;32m    621\u001B[0m     \u001B[38;5;28;01melse\u001B[39;00m:\n\u001B[1;32m--> 622\u001B[0m         X, y \u001B[38;5;241m=\u001B[39m \u001B[43mcheck_X_y\u001B[49m\u001B[43m(\u001B[49m\u001B[43mX\u001B[49m\u001B[43m,\u001B[49m\u001B[43m \u001B[49m\u001B[43my\u001B[49m\u001B[43m,\u001B[49m\u001B[43m \u001B[49m\u001B[38;5;241;43m*\u001B[39;49m\u001B[38;5;241;43m*\u001B[39;49m\u001B[43mcheck_params\u001B[49m\u001B[43m)\u001B[49m\n\u001B[0;32m    623\u001B[0m     out \u001B[38;5;241m=\u001B[39m X, y\n\u001B[0;32m    625\u001B[0m \u001B[38;5;28;01mif\u001B[39;00m \u001B[38;5;129;01mnot\u001B[39;00m no_val_X \u001B[38;5;129;01mand\u001B[39;00m check_params\u001B[38;5;241m.\u001B[39mget(\u001B[38;5;124m\"\u001B[39m\u001B[38;5;124mensure_2d\u001B[39m\u001B[38;5;124m\"\u001B[39m, \u001B[38;5;28;01mTrue\u001B[39;00m):\n",
      "File \u001B[1;32m~\\anaconda3\\Lib\\site-packages\\sklearn\\utils\\validation.py:1164\u001B[0m, in \u001B[0;36mcheck_X_y\u001B[1;34m(X, y, accept_sparse, accept_large_sparse, dtype, order, copy, force_all_finite, ensure_2d, allow_nd, multi_output, ensure_min_samples, ensure_min_features, y_numeric, estimator)\u001B[0m\n\u001B[0;32m   1146\u001B[0m X \u001B[38;5;241m=\u001B[39m check_array(\n\u001B[0;32m   1147\u001B[0m     X,\n\u001B[0;32m   1148\u001B[0m     accept_sparse\u001B[38;5;241m=\u001B[39maccept_sparse,\n\u001B[1;32m   (...)\u001B[0m\n\u001B[0;32m   1159\u001B[0m     input_name\u001B[38;5;241m=\u001B[39m\u001B[38;5;124m\"\u001B[39m\u001B[38;5;124mX\u001B[39m\u001B[38;5;124m\"\u001B[39m,\n\u001B[0;32m   1160\u001B[0m )\n\u001B[0;32m   1162\u001B[0m y \u001B[38;5;241m=\u001B[39m _check_y(y, multi_output\u001B[38;5;241m=\u001B[39mmulti_output, y_numeric\u001B[38;5;241m=\u001B[39my_numeric, estimator\u001B[38;5;241m=\u001B[39mestimator)\n\u001B[1;32m-> 1164\u001B[0m \u001B[43mcheck_consistent_length\u001B[49m\u001B[43m(\u001B[49m\u001B[43mX\u001B[49m\u001B[43m,\u001B[49m\u001B[43m \u001B[49m\u001B[43my\u001B[49m\u001B[43m)\u001B[49m\n\u001B[0;32m   1166\u001B[0m \u001B[38;5;28;01mreturn\u001B[39;00m X, y\n",
      "File \u001B[1;32m~\\anaconda3\\Lib\\site-packages\\sklearn\\utils\\validation.py:407\u001B[0m, in \u001B[0;36mcheck_consistent_length\u001B[1;34m(*arrays)\u001B[0m\n\u001B[0;32m    405\u001B[0m uniques \u001B[38;5;241m=\u001B[39m np\u001B[38;5;241m.\u001B[39munique(lengths)\n\u001B[0;32m    406\u001B[0m \u001B[38;5;28;01mif\u001B[39;00m \u001B[38;5;28mlen\u001B[39m(uniques) \u001B[38;5;241m>\u001B[39m \u001B[38;5;241m1\u001B[39m:\n\u001B[1;32m--> 407\u001B[0m     \u001B[38;5;28;01mraise\u001B[39;00m \u001B[38;5;167;01mValueError\u001B[39;00m(\n\u001B[0;32m    408\u001B[0m         \u001B[38;5;124m\"\u001B[39m\u001B[38;5;124mFound input variables with inconsistent numbers of samples: \u001B[39m\u001B[38;5;132;01m%r\u001B[39;00m\u001B[38;5;124m\"\u001B[39m\n\u001B[0;32m    409\u001B[0m         \u001B[38;5;241m%\u001B[39m [\u001B[38;5;28mint\u001B[39m(l) \u001B[38;5;28;01mfor\u001B[39;00m l \u001B[38;5;129;01min\u001B[39;00m lengths]\n\u001B[0;32m    410\u001B[0m     )\n",
      "\u001B[1;31mValueError\u001B[0m: Found input variables with inconsistent numbers of samples: [4000, 40000]"
     ]
    }
   ],
   "source": [
    "scores = feature_scoring.get_ex_feature_scores(experiments, dike_final_sobol, \n",
    "                                    max_features=0.6, mode=RuleInductionType.REGRESSION)[0]                                         \n",
    "#scores"
   ],
   "metadata": {
    "collapsed": false,
    "ExecuteTime": {
     "end_time": "2024-06-21T11:39:17.127198900Z",
     "start_time": "2024-06-21T11:39:14.444278200Z"
    }
   },
   "id": "dc0d799bbf6db7e8",
   "execution_count": 11
  },
  {
   "cell_type": "code",
   "outputs": [],
   "source": [
    "X = experiments[uncertainties]\n",
    "combined_scores = []\n",
    "\n",
    "# Perform feature scoring in batches\n",
    "for j in range(100, experiments.shape[0], 100):\n",
    "    scores = feature_scoring.get_ex_feature_scores(\n",
    "        X.iloc[0:j, :], \n",
    "        experiments[ooi[0]].iloc[0:j],\n",
    "        max_features=0.6,\n",
    "        mode=RuleInductionType.REGRESSION\n",
    "    )[0]\n",
    "    scores.columns = [j]\n",
    "    combined_scores.append(scores)\n",
    "\n",
    "# Combine scores\n",
    "combined_scores_df = pd.concat(combined_scores, axis=1)\n",
    "#print(combined_scores_df)\n",
    "\n",
    "# Plotting the feature importances\n",
    "combined_scores_mean = combined_scores_df.mean(axis=1)\n",
    "combined_scores_std = combined_scores_df.std(axis=1)\n",
    "\n",
    "sns.set_style('white')\n",
    "fig, ax = plt.subplots()\n",
    "combined_scores_mean.plot.bar(yerr=combined_scores_std, ax=ax)\n",
    "ax.set_title(\"Feature importances using Extra Trees\")\n",
    "ax.set_ylabel(\"Mean decrease in impurity\")\n",
    "fig.tight_layout()\n",
    "plt.show()\n",
    "#fig.savefig('img/ExtraTrees_FeatureImportance.png')"
   ],
   "metadata": {
    "collapsed": false,
    "ExecuteTime": {
     "end_time": "2024-06-21T11:39:17.128831200Z",
     "start_time": "2024-06-21T11:39:17.127198900Z"
    }
   },
   "id": "c527889dd088fccf",
   "execution_count": null
  },
  {
   "cell_type": "code",
   "outputs": [],
   "source": [
    "fig, ax = plt.subplots(1)\n",
    "\n",
    "combined_scores_df.T.plot(ax=ax)\n",
    "ax.legend(bbox_to_anchor=(1,1))\n",
    "ax.set_xlabel('Samples')\n",
    "ax.set_ylabel('feature scores')\n",
    "plt.show()\n",
    "#fig.savefig('img/feature_scores.png')"
   ],
   "metadata": {
    "collapsed": false,
    "ExecuteTime": {
     "end_time": "2024-06-21T11:39:17.131149800Z",
     "start_time": "2024-06-21T11:39:17.129990100Z"
    }
   },
   "id": "4bb4c51ddf0a22dc",
   "execution_count": null
  },
  {
   "cell_type": "code",
   "outputs": [],
   "source": [
    "#creating a heatmap of the featuring scores \n",
    "sns.set(rc = {'figure.figsize':(10,10)})\n",
    "svm=sns.heatmap(scores, cmap=\"viridis\", annot=True)\n",
    "plt.show()\n",
    "figure = svm.get_figure()    \n",
    "#figure.savefig('img/heatmap.png', dpi=400, bbox_inches='tight')"
   ],
   "metadata": {
    "collapsed": false,
    "ExecuteTime": {
     "end_time": "2024-06-21T11:39:17.133724700Z",
     "start_time": "2024-06-21T11:39:17.132422700Z"
    }
   },
   "id": "61a3f34e6b198aa",
   "execution_count": null
  },
  {
   "cell_type": "code",
   "outputs": [],
   "source": [],
   "metadata": {
    "collapsed": false,
    "ExecuteTime": {
     "end_time": "2024-06-21T11:39:17.134721900Z",
     "start_time": "2024-06-21T11:39:17.133724700Z"
    }
   },
   "id": "3925ccc8fd7789ef"
  }
 ],
 "metadata": {
  "kernelspec": {
   "display_name": "Python 3",
   "language": "python",
   "name": "python3"
  },
  "language_info": {
   "codemirror_mode": {
    "name": "ipython",
    "version": 2
   },
   "file_extension": ".py",
   "mimetype": "text/x-python",
   "name": "python",
   "nbconvert_exporter": "python",
   "pygments_lexer": "ipython2",
   "version": "2.7.6"
  }
 },
 "nbformat": 4,
 "nbformat_minor": 5
}
