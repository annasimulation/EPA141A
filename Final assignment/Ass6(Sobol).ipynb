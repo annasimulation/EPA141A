{
 "cells": [
  {
   "cell_type": "code",
   "execution_count": 13,
   "id": "initial_id",
   "metadata": {
    "collapsed": true,
    "ExecuteTime": {
     "end_time": "2024-06-03T14:35:22.286434400Z",
     "start_time": "2024-06-03T14:35:22.243574200Z"
    }
   },
   "outputs": [],
   "source": [
    "%matplotlib inline\n",
    "import numpy as np\n",
    "import pandas as pd\n",
    "\n",
    "import matplotlib.pyplot as plt\n",
    "import seaborn as sns\n",
    "sns.set_style('white')\n",
    "\n",
    "from ema_workbench import (Model, RealParameter, TimeSeriesOutcome,\n",
    "                           perform_experiments, ema_logging,Policy)\n",
    "\n",
    "from ema_workbench import Samplers\n",
    "\n",
    "from ema_workbench.analysis import feature_scoring\n",
    "from ema_workbench.analysis.scenario_discovery_util import RuleInductionType\n",
    "from ema_workbench.em_framework.salib_samplers import get_SALib_problem\n",
    "\n",
    "from ema_workbench import (\n",
    "    Model,\n",
    "    CategoricalParameter,\n",
    "    ArrayOutcome,\n",
    "    ScalarOutcome,\n",
    "    IntegerParameter,\n",
    "    RealParameter,\n",
    ")\n",
    "from dike_model_function import DikeNetwork  # @UnresolvedImport\n",
    "\n",
    "from SALib.analyze import sobol"
   ]
  },
  {
   "cell_type": "code",
   "execution_count": 14,
   "outputs": [
    {
     "name": "stdout",
     "output_type": "stream",
     "text": [
      "{'num_vars': 19, 'names': ['A.0_ID flood wave shape', 'A.1_Bmax', 'A.1_Brate', 'A.1_pfail', 'A.2_Bmax', 'A.2_Brate', 'A.2_pfail', 'A.3_Bmax', 'A.3_Brate', 'A.3_pfail', 'A.4_Bmax', 'A.4_Brate', 'A.4_pfail', 'A.5_Bmax', 'A.5_Brate', 'A.5_pfail', 'discount rate 0', 'discount rate 1', 'discount rate 2'], 'bounds': [(0, 133), (30, 350), (0, 3), (0, 1), (30, 350), (0, 3), (0, 1), (30, 350), (0, 3), (0, 1), (30, 350), (0, 3), (0, 1), (30, 350), (0, 3), (0, 1), (0, 4), (0, 4), (0, 4)]}\n"
     ]
    }
   ],
   "source": [
    "from ema_workbench import (\n",
    "    Model,\n",
    "    RealParameter,\n",
    "    IntegerParameter,\n",
    "    CategoricalParameter,\n",
    "    ScalarOutcome,\n",
    "    ArrayOutcome,\n",
    ")\n",
    "from ema_workbench.em_framework.salib_samplers import get_SALib_problem\n",
    "from dike_model_function import DikeNetwork\n",
    "from ema_workbench.util import ema_logging\n",
    "\n",
    "# Define the sum_over function\n",
    "def sum_over(*args):\n",
    "    numbers = []\n",
    "    for entry in args:\n",
    "        try:\n",
    "            value = sum(entry)\n",
    "        except TypeError:\n",
    "            value = entry\n",
    "        numbers.append(value)\n",
    "    return sum(numbers)\n",
    "\n",
    "# Configure logging\n",
    "ema_logging.log_to_stderr(ema_logging.INFO)\n",
    "\n",
    "# Define the function to get the model for the given problem formulation\n",
    "def get_model_for_problem_formulation(problem_formulation_id):\n",
    "    function = DikeNetwork()\n",
    "    dike_model = Model(\"dikesnet\", function=function)\n",
    "\n",
    "    Real_uncert = {\"Bmax\": [30, 350], \"pfail\": [0, 1]}  # m and [.]\n",
    "    cat_uncert_loc = {\"Brate\": (1.0, 1.5, 10)}\n",
    "    cat_uncert = {f\"discount rate {n}\": (1.5, 2.5, 3.5, 4.5) for n in function.planning_steps}\n",
    "    Int_uncert = {\"A.0_ID flood wave shape\": [0, 132]}\n",
    "\n",
    "    uncertainties = []\n",
    "\n",
    "    for uncert_name in cat_uncert.keys():\n",
    "        categories = cat_uncert[uncert_name]\n",
    "        uncertainties.append(CategoricalParameter(uncert_name, categories))\n",
    "\n",
    "    for uncert_name in Int_uncert.keys():\n",
    "        uncertainties.append(IntegerParameter(uncert_name, Int_uncert[uncert_name][0], Int_uncert[uncert_name][1]))\n",
    "\n",
    "    for dike in function.dikelist:\n",
    "        for uncert_name in Real_uncert.keys():\n",
    "            name = f\"{dike}_{uncert_name}\"\n",
    "            lower, upper = Real_uncert[uncert_name]\n",
    "            uncertainties.append(RealParameter(name, lower, upper))\n",
    "\n",
    "        for uncert_name in cat_uncert_loc.keys():\n",
    "            name = f\"{dike}_{uncert_name}\"\n",
    "            categories = cat_uncert_loc[uncert_name]\n",
    "            uncertainties.append(CategoricalParameter(name, categories))\n",
    "\n",
    "    # Define the outcomes\n",
    "    outcomes = [\n",
    "        ScalarOutcome('Total Costs', kind=ScalarOutcome.MINIMIZE, function=sum_over, variable_name=[\n",
    "            f\"{dike}_Expected Annual Damage\" for dike in function.dikelist] +\n",
    "            [f\"{dike}_Dike Investment Costs\" for dike in function.dikelist] +\n",
    "            [\"RfR Total Costs\", \"Expected Evacuation Costs\"] \n",
    "        ),\n",
    "        ScalarOutcome('Expected Number of Deaths', kind=ScalarOutcome.MINIMIZE, function=sum_over, variable_name=[\n",
    "            f\"{dike}_Expected Number of Deaths\" for dike in function.dikelist]\n",
    "        )\n",
    "    ]\n",
    "\n",
    "    # Assign uncertainties and outcomes to the model\n",
    "    dike_model.uncertainties = uncertainties\n",
    "    dike_model.outcomes = outcomes\n",
    "\n",
    "    return dike_model\n",
    "\n",
    "# Get the model for a specific problem formulation\n",
    "problem_formulation_id = 0  # Change this to the desired problem formulation\n",
    "dike_model = get_model_for_problem_formulation(problem_formulation_id)\n",
    "\n",
    "# Get SALib problem\n",
    "problem = get_SALib_problem(dike_model.uncertainties)\n",
    "\n",
    "# Print the problem definition\n",
    "print(problem)\n"
   ],
   "metadata": {
    "collapsed": false,
    "ExecuteTime": {
     "end_time": "2024-06-03T14:35:22.576012300Z",
     "start_time": "2024-06-03T14:35:22.253262500Z"
    }
   },
   "id": "323e83e265fb2b55"
  },
  {
   "cell_type": "code",
   "execution_count": 15,
   "outputs": [
    {
     "ename": "EMAError",
     "evalue": "You are trying to sample policies, but no levers have been defined",
     "output_type": "error",
     "traceback": [
      "\u001B[1;31m---------------------------------------------------------------------------\u001B[0m",
      "\u001B[1;31mEMAError\u001B[0m                                  Traceback (most recent call last)",
      "Cell \u001B[1;32mIn[15], line 3\u001B[0m\n\u001B[0;32m      1\u001B[0m n_exp \u001B[38;5;241m=\u001B[39m \u001B[38;5;241m1000\u001B[39m\n\u001B[1;32m----> 3\u001B[0m experiments_sobol, outcomes_sobol \u001B[38;5;241m=\u001B[39m \u001B[43mperform_experiments\u001B[49m\u001B[43m(\u001B[49m\u001B[43mdike_model\u001B[49m\u001B[43m,\u001B[49m\u001B[43m \u001B[49m\u001B[43mscenarios\u001B[49m\u001B[38;5;241;43m=\u001B[39;49m\u001B[38;5;241;43m1\u001B[39;49m\u001B[43m,\u001B[49m\n\u001B[0;32m      4\u001B[0m \u001B[43m                                                        \u001B[49m\u001B[43mpolicies\u001B[49m\u001B[38;5;241;43m=\u001B[39;49m\u001B[38;5;241;43m1\u001B[39;49m\u001B[43m,\u001B[49m\n\u001B[0;32m      5\u001B[0m \u001B[43m                                                        \u001B[49m\u001B[43muncertainty_sampling\u001B[49m\u001B[38;5;241;43m=\u001B[39;49m\u001B[43mSamplers\u001B[49m\u001B[38;5;241;43m.\u001B[39;49m\u001B[43mSOBOL\u001B[49m\u001B[43m)\u001B[49m\n\u001B[0;32m      7\u001B[0m dike_final_sobol \u001B[38;5;241m=\u001B[39m outcomes_sobol[\u001B[38;5;124m\"\u001B[39m\u001B[38;5;124mTotal Costs\u001B[39m\u001B[38;5;124m\"\u001B[39m][:,\u001B[38;5;241m0\u001B[39m,\u001B[38;5;241m-\u001B[39m\u001B[38;5;241m1\u001B[39m]\n\u001B[0;32m      8\u001B[0m dike_mean_sobol \u001B[38;5;241m=\u001B[39m np\u001B[38;5;241m.\u001B[39mmean(outcomes_sobol[\u001B[38;5;124m\"\u001B[39m\u001B[38;5;124mTotal Costs\u001B[39m\u001B[38;5;124m\"\u001B[39m][:,\u001B[38;5;241m0\u001B[39m,:],axis\u001B[38;5;241m=\u001B[39m\u001B[38;5;241m1\u001B[39m)\n",
      "File \u001B[1;32m~\\anaconda3\\Lib\\site-packages\\ema_workbench\\em_framework\\evaluators.py:363\u001B[0m, in \u001B[0;36mperform_experiments\u001B[1;34m(models, scenarios, policies, evaluator, reporting_interval, reporting_frequency, uncertainty_union, lever_union, outcome_union, uncertainty_sampling, lever_sampling, callback, return_callback, combine, log_progress, **kwargs)\u001B[0m\n\u001B[0;32m    358\u001B[0m     \u001B[38;5;28;01mraise\u001B[39;00m EMAError(\u001B[38;5;124m\"\u001B[39m\u001B[38;5;124mno experiments possible since both \u001B[39m\u001B[38;5;124m\"\u001B[39m \u001B[38;5;124m\"\u001B[39m\u001B[38;5;124mscenarios and policies are 0\u001B[39m\u001B[38;5;124m\"\u001B[39m)\n\u001B[0;32m    360\u001B[0m scenarios, uncertainties, n_scenarios \u001B[38;5;241m=\u001B[39m setup_scenarios(\n\u001B[0;32m    361\u001B[0m     scenarios, uncertainty_sampling, uncertainty_union, models\n\u001B[0;32m    362\u001B[0m )\n\u001B[1;32m--> 363\u001B[0m policies, levers, n_policies \u001B[38;5;241m=\u001B[39m \u001B[43msetup_policies\u001B[49m\u001B[43m(\u001B[49m\u001B[43mpolicies\u001B[49m\u001B[43m,\u001B[49m\u001B[43m \u001B[49m\u001B[43mlever_sampling\u001B[49m\u001B[43m,\u001B[49m\u001B[43m \u001B[49m\u001B[43mlever_union\u001B[49m\u001B[43m,\u001B[49m\u001B[43m \u001B[49m\u001B[43mmodels\u001B[49m\u001B[43m)\u001B[49m\n\u001B[0;32m    365\u001B[0m \u001B[38;5;28;01mtry\u001B[39;00m:\n\u001B[0;32m    366\u001B[0m     n_models \u001B[38;5;241m=\u001B[39m \u001B[38;5;28mlen\u001B[39m(models)\n",
      "File \u001B[1;32m~\\anaconda3\\Lib\\site-packages\\ema_workbench\\em_framework\\evaluators.py:466\u001B[0m, in \u001B[0;36msetup_policies\u001B[1;34m(policies, levers_sampling, lever_union, models)\u001B[0m\n\u001B[0;32m    463\u001B[0m \u001B[38;5;28;01mif\u001B[39;00m \u001B[38;5;129;01mnot\u001B[39;00m \u001B[38;5;28misinstance\u001B[39m(sampler, AbstractSampler):\n\u001B[0;32m    464\u001B[0m     sampler \u001B[38;5;241m=\u001B[39m sampler\u001B[38;5;241m.\u001B[39mvalue\n\u001B[1;32m--> 466\u001B[0m policies \u001B[38;5;241m=\u001B[39m \u001B[43msample_levers\u001B[49m\u001B[43m(\u001B[49m\u001B[43mmodels\u001B[49m\u001B[43m,\u001B[49m\u001B[43m \u001B[49m\u001B[43mpolicies\u001B[49m\u001B[43m,\u001B[49m\u001B[43m \u001B[49m\u001B[43munion\u001B[49m\u001B[38;5;241;43m=\u001B[39;49m\u001B[43mlever_union\u001B[49m\u001B[43m,\u001B[49m\u001B[43m \u001B[49m\u001B[43msampler\u001B[49m\u001B[38;5;241;43m=\u001B[39;49m\u001B[43msampler\u001B[49m\u001B[43m)\u001B[49m\n\u001B[0;32m    467\u001B[0m levers \u001B[38;5;241m=\u001B[39m policies\u001B[38;5;241m.\u001B[39mparameters\n\u001B[0;32m    468\u001B[0m n_policies \u001B[38;5;241m=\u001B[39m policies\u001B[38;5;241m.\u001B[39mn\n",
      "File \u001B[1;32m~\\anaconda3\\Lib\\site-packages\\ema_workbench\\em_framework\\samplers.py:533\u001B[0m, in \u001B[0;36msample_levers\u001B[1;34m(models, n_samples, union, sampler)\u001B[0m\n\u001B[0;32m    530\u001B[0m levers \u001B[38;5;241m=\u001B[39m determine_parameters(models, \u001B[38;5;124m\"\u001B[39m\u001B[38;5;124mlevers\u001B[39m\u001B[38;5;124m\"\u001B[39m, union\u001B[38;5;241m=\u001B[39munion)\n\u001B[0;32m    532\u001B[0m \u001B[38;5;28;01mif\u001B[39;00m \u001B[38;5;129;01mnot\u001B[39;00m levers:\n\u001B[1;32m--> 533\u001B[0m     \u001B[38;5;28;01mraise\u001B[39;00m EMAError(\u001B[38;5;124m\"\u001B[39m\u001B[38;5;124mYou are trying to sample policies, but no levers have been defined\u001B[39m\u001B[38;5;124m\"\u001B[39m)\n\u001B[0;32m    535\u001B[0m \u001B[38;5;28;01mreturn\u001B[39;00m sample_parameters(levers, n_samples, sampler, Policy)\n",
      "\u001B[1;31mEMAError\u001B[0m: You are trying to sample policies, but no levers have been defined"
     ]
    }
   ],
   "source": [
    "n_exp = 1000\n",
    "\n",
    "experiments_sobol, outcomes_sobol = perform_experiments(dike_model, scenarios=1,\n",
    "                                                        policies=1,\n",
    "                                                        uncertainty_sampling=Samplers.SOBOL)\n",
    "\n",
    "dike_final_sobol = outcomes_sobol[\"Total Costs\"][:,0,-1]\n",
    "dike_mean_sobol = np.mean(outcomes_sobol[\"Total Costs\"][:,0,:],axis=1)\n",
    "dike_std_sobol = np.std(outcomes_sobol[\"Total Costs\"][:,0,:],axis=1)\n",
    "\n",
    "Si = sobol.analyze(problem, dike_mean_sobol, calc_second_order=True, print_to_console=True)"
   ],
   "metadata": {
    "collapsed": false,
    "ExecuteTime": {
     "end_time": "2024-06-03T14:35:22.697089900Z",
     "start_time": "2024-06-03T14:35:22.570526400Z"
    }
   },
   "id": "384240e6d2868a13"
  },
  {
   "cell_type": "code",
   "execution_count": null,
   "outputs": [],
   "source": [],
   "metadata": {
    "collapsed": false,
    "ExecuteTime": {
     "end_time": "2024-06-03T14:35:22.712718800Z",
     "start_time": "2024-06-03T14:35:22.697089900Z"
    }
   },
   "id": "bf537276bcd0c769"
  },
  {
   "cell_type": "code",
   "execution_count": null,
   "outputs": [],
   "source": [],
   "metadata": {
    "collapsed": false,
    "ExecuteTime": {
     "start_time": "2024-06-03T14:35:22.697089900Z"
    }
   },
   "id": "dfc2ebd9f0bee8ec"
  },
  {
   "cell_type": "code",
   "execution_count": null,
   "outputs": [],
   "source": [],
   "metadata": {
    "collapsed": false,
    "ExecuteTime": {
     "start_time": "2024-06-03T14:35:22.697089900Z"
    }
   },
   "id": "e409c51df07de3c"
  },
  {
   "cell_type": "code",
   "execution_count": null,
   "outputs": [],
   "source": [],
   "metadata": {
    "collapsed": false,
    "ExecuteTime": {
     "start_time": "2024-06-03T14:35:22.712718800Z"
    }
   },
   "id": "6434b8845ac7b0ff"
  },
  {
   "cell_type": "code",
   "execution_count": null,
   "outputs": [],
   "source": [],
   "metadata": {
    "collapsed": false,
    "ExecuteTime": {
     "end_time": "2024-06-03T14:35:22.712718800Z",
     "start_time": "2024-06-03T14:35:22.712718800Z"
    }
   },
   "id": "1b8734869cfd731"
  }
 ],
 "metadata": {
  "kernelspec": {
   "display_name": "Python 3",
   "language": "python",
   "name": "python3"
  },
  "language_info": {
   "codemirror_mode": {
    "name": "ipython",
    "version": 2
   },
   "file_extension": ".py",
   "mimetype": "text/x-python",
   "name": "python",
   "nbconvert_exporter": "python",
   "pygments_lexer": "ipython2",
   "version": "2.7.6"
  }
 },
 "nbformat": 4,
 "nbformat_minor": 5
}
