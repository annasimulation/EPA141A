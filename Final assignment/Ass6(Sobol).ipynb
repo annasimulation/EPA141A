{
 "cells": [
  {
   "cell_type": "markdown",
   "source": [
    "### Sensitivity analysis --> Sobol \n",
    "Defining parameters to vary and find variance on parameters outcome --> damage important to all actors\n",
    "Finding variance that explains that damage is highest in other scenarios --> RfR & damage is low --> dike heightening "
   ],
   "metadata": {
    "collapsed": false
   },
   "id": "f2585c40ca2d6b01"
  },
  {
   "cell_type": "code",
   "execution_count": 10,
   "id": "initial_id",
   "metadata": {
    "collapsed": true,
    "ExecuteTime": {
     "end_time": "2024-06-08T09:36:07.911752200Z",
     "start_time": "2024-06-08T09:36:07.880472900Z"
    }
   },
   "outputs": [],
   "source": [
    "## Importing all functions\n",
    "\n",
    "%matplotlib inline\n",
    "import numpy as np\n",
    "import pandas as pd\n",
    "\n",
    "import matplotlib.pyplot as plt\n",
    "import seaborn as sns\n",
    "sns.set_style('white')\n",
    "\n",
    "from ema_workbench import (Model, RealParameter, TimeSeriesOutcome,\n",
    "                           perform_experiments, ema_logging,Policy)\n",
    "\n",
    "from ema_workbench import Samplers\n",
    "\n",
    "from ema_workbench.analysis import feature_scoring\n",
    "from ema_workbench.analysis.scenario_discovery_util import RuleInductionType\n",
    "from ema_workbench.em_framework.salib_samplers import get_SALib_problem\n",
    "\n",
    "from ema_workbench.analysis.scenario_discovery_util import RuleInductionType\n",
    "\n",
    "from ema_workbench.util import ema_logging\n",
    "\n",
    "from dike_model_function import DikeNetwork\n",
    "\n",
    "# exp, out = evaluator.perform_experiments(...,uncertainty_sampling=Samplers.SOBOL)\n",
    "\n",
    "from SALib.analyze import sobol\n"
   ]
  },
  {
   "cell_type": "code",
   "execution_count": 13,
   "outputs": [
    {
     "name": "stdout",
     "output_type": "stream",
     "text": [
      "{'num_vars': 19, 'names': ['A.0_ID flood wave shape', 'A.1_Bmax', 'A.1_Brate', 'A.1_pfail', 'A.2_Bmax', 'A.2_Brate', 'A.2_pfail', 'A.3_Bmax', 'A.3_Brate', 'A.3_pfail', 'A.4_Bmax', 'A.4_Brate', 'A.4_pfail', 'A.5_Bmax', 'A.5_Brate', 'A.5_pfail', 'discount rate 0', 'discount rate 1', 'discount rate 2'], 'bounds': [(0, 133), (30, 350), (0, 3), (0, 1), (30, 350), (0, 3), (0, 1), (30, 350), (0, 3), (0, 1), (30, 350), (0, 3), (0, 1), (30, 350), (0, 3), (0, 1), (0, 4), (0, 4), (0, 4)]}\n"
     ]
    }
   ],
   "source": [
    "from ema_workbench import (\n",
    "    Model,\n",
    "    RealParameter,\n",
    "    IntegerParameter,\n",
    "    CategoricalParameter,\n",
    "    ScalarOutcome,\n",
    "    Samplers,\n",
    "    perform_experiments\n",
    ")\n",
    "from ema_workbench.em_framework import Samplers\n",
    "from ema_workbench.em_framework.salib_samplers import (get_SALib_problem)\n",
    "from dike_model_function import DikeNetwork\n",
    "from ema_workbench.util import ema_logging\n",
    "from SALib.analyze import sobol\n",
    "\n",
    "# Define the sum_over function\n",
    "def sum_over(*args):\n",
    "    numbers = []\n",
    "    for entry in args:\n",
    "        try:\n",
    "            value = sum(entry)\n",
    "        except TypeError:\n",
    "            value = entry\n",
    "        numbers.append(value)\n",
    "    return sum(numbers)\n",
    "\n",
    "# Configure logging\n",
    "ema_logging.log_to_stderr(ema_logging.INFO)\n",
    "\n",
    "# Define the function to get the model for the given problem formulation\n",
    "def get_model_for_problem_formulation(problem_formulation_id):\n",
    "    function = DikeNetwork()\n",
    "    dike_model = Model(\"dikesnet\", function=function)\n",
    "\n",
    "    Real_uncert = {\"Bmax\": [30, 350], \"pfail\": [0, 1]}  # m and [.]\n",
    "    cat_uncert_loc = {\"Brate\": (1.0, 1.5, 10)}\n",
    "    cat_uncert = {f\"discount rate {n}\": (1.5, 2.5, 3.5, 4.5) for n in function.planning_steps}\n",
    "    Int_uncert = {\"A.0_ID flood wave shape\": [0, 132]}\n",
    "\n",
    "    uncertainties = []\n",
    "\n",
    "    for uncert_name in cat_uncert.keys():\n",
    "        categories = cat_uncert[uncert_name]\n",
    "        uncertainties.append(CategoricalParameter(uncert_name, categories))\n",
    "\n",
    "    for uncert_name in Int_uncert.keys():\n",
    "        uncertainties.append(IntegerParameter(uncert_name, Int_uncert[uncert_name][0], Int_uncert[uncert_name][1]))\n",
    "\n",
    "    dike_height_levers = []\n",
    "    for dike in function.dikelist:\n",
    "        for uncert_name in Real_uncert.keys():\n",
    "            name = f\"{dike}_{uncert_name}\"\n",
    "            lower, upper = Real_uncert[uncert_name]\n",
    "            uncertainties.append(RealParameter(name, lower, upper))\n",
    "\n",
    "        for uncert_name in cat_uncert_loc.keys():\n",
    "            name = f\"{dike}_{uncert_name}\"\n",
    "            categories = cat_uncert_loc[uncert_name]\n",
    "            uncertainties.append(CategoricalParameter(name, categories))\n",
    "        \n",
    "        for n in function.planning_steps:\n",
    "            name = f\"{dike}_DikeIncrease {n}\"\n",
    "            dike_height_levers.append(IntegerParameter(name, 0, 10))\n",
    "        \n",
    "    dike_model.uncertainties = uncertainties\n",
    "\n",
    "    dike_height_levers.append(IntegerParameter(\"EWS_DaysToThreat\", 0, 4))  # days\n",
    "    # Set levers: No RfR, dike heightening\n",
    "    dike_model.levers = dike_height_levers\n",
    "\n",
    "    # Define the outcomes\n",
    "    outcomes = [\n",
    "        ScalarOutcome('Total Costs', kind=ScalarOutcome.MINIMIZE, function=sum_over, variable_name=[\n",
    "            f\"{dike}_Expected Annual Damage\" for dike in function.dikelist] +\n",
    "            [f\"{dike}_Dike Investment Costs\" for dike in function.dikelist] +\n",
    "            [\"RfR Total Costs\"] \n",
    "        ),\n",
    "        ScalarOutcome('Expected Number of Deaths', kind=ScalarOutcome.MINIMIZE, function=sum_over, variable_name=[\n",
    "            f\"{dike}_Expected Number of Deaths\" for dike in function.dikelist]\n",
    "        ),\n",
    "        ScalarOutcome('Expected Annual Damage', kind=ScalarOutcome.MINIMIZE, function=sum_over, variable_name=[\n",
    "            f\"{dike}_Expected Annual Damage\" for dike in function.dikelist]),\n",
    "        ScalarOutcome('Dike Investment Costs', kind=ScalarOutcome.MINIMIZE, function=sum_over, variable_name=[f\"{dike}_Dike Investment Costs\" for dike in function.dikelist]),\n",
    "        ScalarOutcome('RfR Total Costs', kind=ScalarOutcome.MINIMIZE, function=sum_over, variable_name=[\"RfR Total Costs\"] )\n",
    "    ]\n",
    "    \n",
    "    # \n",
    "    # # Define the levers\n",
    "    # levers = [\n",
    "    #     # Range of dike heightening:\n",
    "    #     IntegerParameter(\"DikeIncrease\", 0, 10),  # dm\n",
    "    # \n",
    "    #     # Series of five Room for the River projects:\n",
    "    #     *[CategoricalParameter(f\"{project_id}_RfR\", [0, 1]) for project_id in range(0, 5)],\n",
    "    # \n",
    "    #     # Time of warning: 0, 1, 2, 3, 4 days ahead from the flood\n",
    "    #     IntegerParameter(\"EWS_DaysToThreat\", 0, 4)  # days\n",
    "    # ]\n",
    "\n",
    "    # Assign uncertainties, outcomes, and levers to the model\n",
    "    # dike_model.uncertainties = uncertainties\n",
    "    dike_model.outcomes = outcomes\n",
    "    \n",
    "    # dike_model.levers = levers \n",
    "\n",
    "    return dike_model\n",
    "\n",
    "# Get the model for a specific problem formulation\n",
    "problem_formulation_id = 6  # Change this to the desired problem formulation\n",
    "dike_model = get_model_for_problem_formulation(problem_formulation_id)\n",
    "\n",
    "# Define policies to test different dike height increases\n",
    "policies = [Policy(f\"DikeIncrease_{i}\", **{f\"{dike}_DikeIncrease {n}\": i for dike in dike_model.function.dikelist for n in dike_model.function.planning_steps}, **{\"EWS_DaysToThreat\": 2}) for i in range(1, 11, 2)]\n",
    "\n",
    "\n",
    "\n",
    "# Get the model for a specific problem formulation\n",
    "problem_formulation_id = 6  # Change this to the desired problem formulation\n",
    "dike_model = get_model_for_problem_formulation(problem_formulation_id)\n",
    "\n",
    "# Get SALib problem\n",
    "problem = get_SALib_problem(dike_model.uncertainties)\n",
    "\n",
    "# Print the problem definition\n",
    "print(problem)\n"
   ],
   "metadata": {
    "collapsed": false,
    "ExecuteTime": {
     "end_time": "2024-06-08T09:38:22.048478600Z",
     "start_time": "2024-06-08T09:38:20.678517Z"
    }
   },
   "id": "323e83e265fb2b55"
  },
  {
   "cell_type": "code",
   "execution_count": 38,
   "outputs": [
    {
     "name": "stderr",
     "output_type": "stream",
     "text": [
      "C:\\Users\\Joost\\PycharmProjects\\venv\\lib\\site-packages\\scipy\\stats\\_qmc.py:804: UserWarning: The balance properties of Sobol' points require n to be a power of 2.\n",
      "  sample = self._random(n, workers=workers)\n",
      "[MainProcess/INFO] performing 30000 scenarios * 5 policies * 1 model(s) = 150000 experiments\n",
      "  0%|                                               | 0/150000 [00:00<?, ?it/s][MainProcess/INFO] performing experiments sequentially\n",
      "  0%|                             | 97/300000 [3:24:15<10525:21:21, 126.35s/it]\n",
      "100%|███████████████████████████████| 150000/150000 [14:57:15<00:00,  2.79it/s]\n",
      "[MainProcess/INFO] experiments finished\n"
     ]
    },
    {
     "ename": "IndexError",
     "evalue": "too many indices for array: array is 1-dimensional, but 3 were indexed",
     "output_type": "error",
     "traceback": [
      "\u001B[1;31m---------------------------------------------------------------------------\u001B[0m",
      "\u001B[1;31mIndexError\u001B[0m                                Traceback (most recent call last)",
      "Cell \u001B[1;32mIn[38], line 7\u001B[0m\n\u001B[0;32m      1\u001B[0m n_exp \u001B[38;5;241m=\u001B[39m \u001B[38;5;241m750\u001B[39m\n\u001B[0;32m      3\u001B[0m experiments_sobol, outcomes_sobol \u001B[38;5;241m=\u001B[39m perform_experiments(dike_model, scenarios\u001B[38;5;241m=\u001B[39mn_exp,\n\u001B[0;32m      4\u001B[0m                                                         policies\u001B[38;5;241m=\u001B[39mpolicies,\n\u001B[0;32m      5\u001B[0m                                                         uncertainty_sampling\u001B[38;5;241m=\u001B[39mSamplers\u001B[38;5;241m.\u001B[39mSOBOL)\n\u001B[1;32m----> 7\u001B[0m dike_final_sobol \u001B[38;5;241m=\u001B[39m \u001B[43moutcomes_sobol\u001B[49m\u001B[43m[\u001B[49m\u001B[38;5;124;43m\"\u001B[39;49m\u001B[38;5;124;43mTotal Costs\u001B[39;49m\u001B[38;5;124;43m\"\u001B[39;49m\u001B[43m]\u001B[49m\u001B[43m[\u001B[49m\u001B[43m:\u001B[49m\u001B[43m,\u001B[49m\u001B[38;5;241;43m0\u001B[39;49m\u001B[43m,\u001B[49m\u001B[38;5;241;43m-\u001B[39;49m\u001B[38;5;241;43m1\u001B[39;49m\u001B[43m]\u001B[49m\n\u001B[0;32m      8\u001B[0m dike_mean_sobol \u001B[38;5;241m=\u001B[39m np\u001B[38;5;241m.\u001B[39mmean(outcomes_sobol[\u001B[38;5;124m\"\u001B[39m\u001B[38;5;124mTotal Costs\u001B[39m\u001B[38;5;124m\"\u001B[39m][:,\u001B[38;5;241m0\u001B[39m,:],axis\u001B[38;5;241m=\u001B[39m\u001B[38;5;241m1\u001B[39m)\n\u001B[0;32m      9\u001B[0m dike_std_sobol \u001B[38;5;241m=\u001B[39m np\u001B[38;5;241m.\u001B[39mstd(outcomes_sobol[\u001B[38;5;124m\"\u001B[39m\u001B[38;5;124mTotal Costs\u001B[39m\u001B[38;5;124m\"\u001B[39m][:,\u001B[38;5;241m0\u001B[39m,:],axis\u001B[38;5;241m=\u001B[39m\u001B[38;5;241m1\u001B[39m)\n",
      "\u001B[1;31mIndexError\u001B[0m: too many indices for array: array is 1-dimensional, but 3 were indexed"
     ]
    }
   ],
   "source": [
    "n_exp = 750\n",
    "\n",
    "experiments_sobol, outcomes_sobol = perform_experiments(dike_model, scenarios=n_exp,\n",
    "                                                        policies=policies,\n",
    "                                                        uncertainty_sampling=Samplers.SOBOL)\n",
    "\n",
    "dike_final_sobol = outcomes_sobol[\"Total Costs\"][:,0,-1]\n",
    "dike_mean_sobol = np.mean(outcomes_sobol[\"Total Costs\"][:,0,:],axis=1)\n",
    "dike_std_sobol = np.std(outcomes_sobol[\"Total Costs\"][:,0,:],axis=1)\n",
    "\n",
    "Si = sobol.analyze(problem, dike_mean_sobol, calc_second_order=True, print_to_console=True)\n"
   ],
   "metadata": {
    "collapsed": false,
    "ExecuteTime": {
     "end_time": "2024-06-08T05:15:58.961972Z",
     "start_time": "2024-06-07T14:18:42.553679800Z"
    }
   },
   "id": "384240e6d2868a13"
  },
  {
   "cell_type": "code",
   "execution_count": 37,
   "outputs": [
    {
     "name": "stdout",
     "output_type": "stream",
     "text": [
      "dict_keys(['Total Costs', 'Expected Number of Deaths', 'Expected Annual Damage', 'Dike Investment Costs', 'RfR Total Costs'])\n"
     ]
    }
   ],
   "source": [
    "import pandas as pd\n",
    "import numpy as np\n",
    "# experiments_sobol.to_csv('experiments_sobol.csv')\n",
    "# outcomes_df = pd.DataFrame(outcomes_sobol)\n",
    "# outcomes_df.to_csv('outcomes_sobol.csv', index=False)\n",
    "\n",
    "# Load the saved DataFrames\n",
    "experiments_sobol = pd.read_csv('experiments_sobol.csv')\n",
    "outcomes_sobol_df = pd.read_csv('outcomes_sobol.csv')\n",
    "\n",
    "# Convert outcomes_sobol_df back into a dictionary of numpy arrays\n",
    "outcomes_sobol = {}\n",
    "for column in outcomes_sobol_df.columns:\n",
    "    outcomes_sobol[column] = outcomes_sobol_df[column].to_numpy()\n",
    "\n",
    "print(outcomes_sobol.keys())"
   ],
   "metadata": {
    "collapsed": false,
    "ExecuteTime": {
     "end_time": "2024-06-08T09:49:42.708201600Z",
     "start_time": "2024-06-08T09:49:41.477903Z"
    }
   },
   "id": "13be0aaca44cf4b5"
  },
  {
   "cell_type": "code",
   "execution_count": 33,
   "outputs": [
    {
     "name": "stdout",
     "output_type": "stream",
     "text": [
      "Shape of outcomes_sobol['Total Costs']: (150000,)\n"
     ]
    },
    {
     "name": "stderr",
     "output_type": "stream",
     "text": [
      "C:\\Users\\Joost\\PycharmProjects\\venv\\lib\\site-packages\\SALib\\util\\__init__.py:274: FutureWarning: unique with argument that is not not a Series, Index, ExtensionArray, or np.ndarray is deprecated and will raise in a future version.\n",
      "  names = list(pd.unique(groups))\n"
     ]
    },
    {
     "name": "stdout",
     "output_type": "stream",
     "text": [
      "                               ST   ST_conf\n",
      "A.0_ID flood wave shape  0.002824  0.000599\n",
      "A.1_Bmax                 0.001952  0.001277\n",
      "A.1_Brate                0.000040  0.000051\n",
      "A.1_pfail                0.562362  0.051842\n",
      "A.2_Bmax                 0.000129  0.000172\n",
      "A.2_Brate                0.000011  0.000014\n",
      "A.2_pfail                0.016374  0.004200\n",
      "A.3_Bmax                 0.000397  0.000476\n",
      "A.3_Brate                0.000010  0.000014\n",
      "A.3_pfail                0.174821  0.024084\n",
      "A.4_Bmax                 0.000003  0.000004\n",
      "A.4_Brate                0.000001  0.000002\n",
      "A.4_pfail                0.001116  0.000306\n",
      "A.5_Bmax                 0.000000  0.000000\n",
      "A.5_Brate                0.000000  0.000000\n",
      "A.5_pfail                0.020871  0.005049\n",
      "discount rate 0          0.022702  0.002803\n",
      "discount rate 1          0.009681  0.002083\n",
      "discount rate 2          0.004811  0.001178\n",
      "                               S1   S1_conf\n",
      "A.0_ID flood wave shape -0.001110  0.004046\n",
      "A.1_Bmax                 0.001663  0.002637\n",
      "A.1_Brate               -0.000073  0.000247\n",
      "A.1_pfail                0.539389  0.077801\n",
      "A.2_Bmax                 0.000291  0.000544\n",
      "A.2_Brate                0.000068  0.000141\n",
      "A.2_pfail                0.009306  0.013047\n",
      "A.3_Bmax                -0.000548  0.000607\n",
      "A.3_Brate                0.000051  0.000166\n",
      "A.3_pfail                0.145316  0.050060\n",
      "A.4_Bmax                -0.000085  0.000171\n",
      "A.4_Brate                0.000083  0.000103\n",
      "A.4_pfail               -0.002020  0.003505\n",
      "A.5_Bmax                 0.000000  0.000000\n",
      "A.5_Brate                0.000000  0.000000\n",
      "A.5_pfail                0.015503  0.012322\n",
      "discount rate 0          0.003040  0.011772\n",
      "discount rate 1          0.000316  0.008115\n",
      "discount rate 2          0.004396  0.006543\n",
      "                                            S2   S2_conf\n",
      "(A.0_ID flood wave shape, A.1_Bmax)  -0.000132  0.007479\n",
      "(A.0_ID flood wave shape, A.1_Brate)  0.000115  0.007551\n",
      "(A.0_ID flood wave shape, A.1_pfail) -0.002644  0.007511\n",
      "(A.0_ID flood wave shape, A.2_Bmax)   0.000143  0.007546\n",
      "(A.0_ID flood wave shape, A.2_Brate)  0.000131  0.007547\n",
      "...                                        ...       ...\n",
      "(A.5_pfail, discount rate 1)          0.004420  0.021548\n",
      "(A.5_pfail, discount rate 2)          0.004678  0.021283\n",
      "(discount rate 0, discount rate 1)    0.012822  0.020640\n",
      "(discount rate 0, discount rate 2)    0.013602  0.020866\n",
      "(discount rate 1, discount rate 2)    0.006100  0.014826\n",
      "\n",
      "[171 rows x 2 columns]\n",
      "Sobol analysis completed successfully\n"
     ]
    }
   ],
   "source": [
    "dike_final_sobol = outcomes_sobol[\"Total Costs\"]\n",
    "dike_mean_sobol = np.mean(outcomes_sobol[\"Total Costs\"])\n",
    "dike_std_sobol = np.std(outcomes_sobol[\"Total Costs\"])\n",
    "\n",
    "# Check the shape of the data\n",
    "print(f\"Shape of outcomes_sobol['Total Costs']: {outcomes_sobol['Total Costs'].shape}\")\n",
    "\n",
    "# Ensure we use the correct number of samples\n",
    "N = outcomes_sobol['Total Costs'].shape[0]\n",
    "\n",
    "# Sobol analysis\n",
    "try:\n",
    "    Si = sobol.analyze(problem, outcomes_sobol['Total Costs'], calc_second_order=True, print_to_console=True)\n",
    "    print(\"Sobol analysis completed successfully\")\n",
    "except Exception as e:\n",
    "    print(f\"Error during Sobol analysis: {e}\")\n",
    "\n"
   ],
   "metadata": {
    "collapsed": false,
    "ExecuteTime": {
     "end_time": "2024-06-08T09:48:58.986228400Z",
     "start_time": "2024-06-08T09:48:51.723253700Z"
    }
   },
   "id": "c90406d41683243b"
  },
  {
   "cell_type": "code",
   "execution_count": 34,
   "outputs": [
    {
     "data": {
      "text/plain": "<Figure size 800x600 with 1 Axes>",
      "image/png": "[encoded data removed]"
     },
     "metadata": {},
     "output_type": "display_data"
    }
   ],
   "source": [
    "Si_filter = {k:Si[k] for k in ['ST','ST_conf','S1','S1_conf']}\n",
    "Si_df = pd.DataFrame(Si_filter, index=problem['names'])\n",
    "\n",
    "sns.set_style('white')\n",
    "fig, ax = plt.subplots(1)\n",
    "\n",
    "indices = Si_df[['S1','ST']]\n",
    "err = Si_df[['S1_conf','ST_conf']]\n",
    "\n",
    "indices.plot.bar(yerr=err.values.T,ax=ax)\n",
    "fig.set_size_inches(8,6)\n",
    "fig.subplots_adjust(bottom=0.3)\n",
    "plt.show()"
   ],
   "metadata": {
    "collapsed": false,
    "ExecuteTime": {
     "end_time": "2024-06-08T09:49:02.615814900Z",
     "start_time": "2024-06-08T09:49:02.291661700Z"
    }
   },
   "id": "bf537276bcd0c769"
  },
  {
   "cell_type": "code",
   "execution_count": 38,
   "outputs": [
    {
     "name": "stdout",
     "output_type": "stream",
     "text": [
      "Shape of outcomes_sobol['Total Costs']: (150000,)\n"
     ]
    },
    {
     "name": "stderr",
     "output_type": "stream",
     "text": [
      "Sobol Analysis Progress:   0%|          | 0/3000 [00:00<?, ?it/s]C:\\Users\\Joost\\PycharmProjects\\venv\\lib\\site-packages\\SALib\\util\\__init__.py:274: FutureWarning: unique with argument that is not not a Series, Index, ExtensionArray, or np.ndarray is deprecated and will raise in a future version.\n",
      "  names = list(pd.unique(groups))\n",
      "Sobol Analysis Progress:   2%|▏         | 47/3000 [01:33<1:37:36,  1.98s/it]\n"
     ]
    },
    {
     "ename": "KeyboardInterrupt",
     "evalue": "",
     "output_type": "error",
     "traceback": [
      "\u001B[1;31m---------------------------------------------------------------------------\u001B[0m",
      "\u001B[1;31mKeyboardInterrupt\u001B[0m                         Traceback (most recent call last)",
      "Cell \u001B[1;32mIn[38], line 22\u001B[0m\n\u001B[0;32m     18\u001B[0m \u001B[38;5;28;01mtry\u001B[39;00m:\n\u001B[0;32m     19\u001B[0m     \u001B[38;5;66;03m# Using tqdm to show progress\u001B[39;00m\n\u001B[0;32m     20\u001B[0m     \u001B[38;5;28;01mfor\u001B[39;00m j \u001B[38;5;129;01min\u001B[39;00m tqdm(s_data\u001B[38;5;241m.\u001B[39mcolumns, desc\u001B[38;5;241m=\u001B[39m\u001B[38;5;124m\"\u001B[39m\u001B[38;5;124mSobol Analysis Progress\u001B[39m\u001B[38;5;124m\"\u001B[39m):\n\u001B[0;32m     21\u001B[0m         \u001B[38;5;66;03m# Ensure Y is properly indexed\u001B[39;00m\n\u001B[1;32m---> 22\u001B[0m         scores \u001B[38;5;241m=\u001B[39m \u001B[43msobol\u001B[49m\u001B[38;5;241;43m.\u001B[39;49m\u001B[43manalyze\u001B[49m\u001B[43m(\u001B[49m\u001B[43mproblem\u001B[49m\u001B[43m,\u001B[49m\u001B[43m \u001B[49m\u001B[43moutcomes_sobol\u001B[49m\u001B[43m[\u001B[49m\u001B[38;5;124;43m'\u001B[39;49m\u001B[38;5;124;43mTotal Costs\u001B[39;49m\u001B[38;5;124;43m'\u001B[39;49m\u001B[43m]\u001B[49m\u001B[43m[\u001B[49m\u001B[38;5;241;43m0\u001B[39;49m\u001B[43m:\u001B[49m\u001B[43mj\u001B[49m\u001B[43m]\u001B[49m\u001B[43m,\u001B[49m\u001B[43m \u001B[49m\u001B[43mcalc_second_order\u001B[49m\u001B[38;5;241;43m=\u001B[39;49m\u001B[38;5;28;43;01mTrue\u001B[39;49;00m\u001B[43m,\u001B[49m\u001B[43m \u001B[49m\u001B[43mprint_to_console\u001B[49m\u001B[38;5;241;43m=\u001B[39;49m\u001B[38;5;28;43;01mFalse\u001B[39;49;00m\u001B[43m)\u001B[49m\n\u001B[0;32m     23\u001B[0m         s_data\u001B[38;5;241m.\u001B[39mloc[:, j] \u001B[38;5;241m=\u001B[39m scores[\u001B[38;5;124m'\u001B[39m\u001B[38;5;124mST\u001B[39m\u001B[38;5;124m'\u001B[39m]\n\u001B[0;32m     24\u001B[0m     \u001B[38;5;28mprint\u001B[39m(\u001B[38;5;124m\"\u001B[39m\u001B[38;5;124mSobol analysis completed successfully\u001B[39m\u001B[38;5;124m\"\u001B[39m)\n",
      "File \u001B[1;32m~\\PycharmProjects\\venv\\lib\\site-packages\\SALib\\analyze\\sobol.py:181\u001B[0m, in \u001B[0;36manalyze\u001B[1;34m(problem, Y, calc_second_order, num_resamples, conf_level, print_to_console, parallel, n_processors, keep_resamples, seed)\u001B[0m\n\u001B[0;32m    178\u001B[0m             \u001B[38;5;28;01mfor\u001B[39;00m k \u001B[38;5;129;01min\u001B[39;00m \u001B[38;5;28mrange\u001B[39m(j \u001B[38;5;241m+\u001B[39m \u001B[38;5;241m1\u001B[39m, D):\n\u001B[0;32m    179\u001B[0m                 S[\u001B[38;5;124m\"\u001B[39m\u001B[38;5;124mS2\u001B[39m\u001B[38;5;124m\"\u001B[39m][j, k] \u001B[38;5;241m=\u001B[39m second_order(A, AB[:, j], AB[:, k], BA[:, j], B)\n\u001B[0;32m    180\u001B[0m                 S[\u001B[38;5;124m\"\u001B[39m\u001B[38;5;124mS2_conf\u001B[39m\u001B[38;5;124m\"\u001B[39m][j, k] \u001B[38;5;241m=\u001B[39m Z \u001B[38;5;241m*\u001B[39m second_order(\n\u001B[1;32m--> 181\u001B[0m                     \u001B[43mA\u001B[49m\u001B[43m[\u001B[49m\u001B[43mr\u001B[49m\u001B[43m]\u001B[49m, AB[r, j], AB[r, k], BA[r, j], B[r]\n\u001B[0;32m    182\u001B[0m                 )\u001B[38;5;241m.\u001B[39mstd(ddof\u001B[38;5;241m=\u001B[39m\u001B[38;5;241m1\u001B[39m)\n\u001B[0;32m    183\u001B[0m \u001B[38;5;28;01melse\u001B[39;00m:\n\u001B[0;32m    184\u001B[0m     tasks, n_processors \u001B[38;5;241m=\u001B[39m create_task_list(D, calc_second_order, n_processors)\n",
      "\u001B[1;31mKeyboardInterrupt\u001B[0m: "
     ]
    }
   ],
   "source": [
    "import pandas as pd\n",
    "import numpy as np\n",
    "from tqdm import tqdm\n",
    "from SALib.analyze import sobol\n",
    "\n",
    "\n",
    "# Check the shape of the data\n",
    "print(f\"Shape of outcomes_sobol['Total Costs']: {outcomes_sobol['Total Costs'].shape}\")\n",
    "\n",
    "\n",
    "\n",
    "# Perform Sobol analysis\n",
    "n_exp = outcomes_sobol['Total Costs'].shape[0]\n",
    "\n",
    "# DataFrame to store Sobol indices\n",
    "s_data = pd.DataFrame(index=problem['names'], columns=np.arange(20, n_exp, 50) * (2 * problem['num_vars'] + 2))\n",
    "\n",
    "try:\n",
    "    # Using tqdm to show progress\n",
    "    for j in tqdm(s_data.columns, desc=\"Sobol Analysis Progress\"):\n",
    "        # Ensure Y is properly indexed\n",
    "        scores = sobol.analyze(problem, outcomes_sobol['Total Costs'][0:j], calc_second_order=True, print_to_console=False)\n",
    "        s_data.loc[:, j] = scores['ST']\n",
    "    print(\"Sobol analysis completed successfully\")\n",
    "except IndexError as e:\n",
    "    print(f\"IndexError during Sobol analysis: {e}\")\n",
    "except Exception as e:\n",
    "    print(f\"Error during Sobol analysis: {e}\")\n",
    "\n",
    "# Print the resulting DataFrame\n",
    "print(s_data)\n"
   ],
   "metadata": {
    "collapsed": false,
    "ExecuteTime": {
     "end_time": "2024-06-08T09:51:19.014774600Z",
     "start_time": "2024-06-08T09:49:45.617769300Z"
    }
   },
   "id": "dfc2ebd9f0bee8ec"
  },
  {
   "cell_type": "code",
   "execution_count": null,
   "outputs": [],
   "source": [
    "fig, ax = plt.subplots(1)\n",
    "\n",
    "s_data.T.plot(ax=ax)\n",
    "ax.set_xlabel('Samples')\n",
    "ax.set_ylabel('Total index (ST)')\n",
    "plt.show()"
   ],
   "metadata": {
    "collapsed": false,
    "ExecuteTime": {
     "start_time": "2024-06-03T14:35:22.697089900Z"
    }
   },
   "id": "e409c51df07de3c"
  }
 ],
 "metadata": {
  "kernelspec": {
   "display_name": "Python 3",
   "language": "python",
   "name": "python3"
  },
  "language_info": {
   "codemirror_mode": {
    "name": "ipython",
    "version": 2
   },
   "file_extension": ".py",
   "mimetype": "text/x-python",
   "name": "python",
   "nbconvert_exporter": "python",
   "pygments_lexer": "ipython2",
   "version": "2.7.6"
  }
 },
 "nbformat": 4,
 "nbformat_minor": 5
}
